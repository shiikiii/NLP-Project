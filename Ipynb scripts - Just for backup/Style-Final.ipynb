{
 "cells": [
  {
   "cell_type": "code",
   "execution_count": 67,
   "metadata": {},
   "outputs": [],
   "source": [
    "import psycopg2\n",
    "import pandas as pd\n",
    "import numpy as np\n",
    "import nltk\n",
    "import re\n",
    "from collections import Counter\n",
    "import spacy\n",
    "import gensim \n",
    "import warnings\n",
    "from keras.preprocessing.sequence import pad_sequences\n",
    "from numpy import asarray\n",
    "from numpy import zeros\n",
    "from keras.models import Sequential\n",
    "from keras.layers import Dense\n",
    "from keras.layers import Flatten\n",
    "from keras.layers import Embedding"
   ]
  },
  {
   "cell_type": "markdown",
   "metadata": {},
   "source": [
    "# I. Load Data"
   ]
  },
  {
   "cell_type": "code",
   "execution_count": 2,
   "metadata": {},
   "outputs": [],
   "source": [
    "conn = psycopg2.connect(database=\"threadtogether\", user=\"dso_student\", password=\"-H4jgA`rn6w`=Jg(\", host=\"threadtogether.ychennay.com\", port=\"5432\")"
   ]
  },
  {
   "cell_type": "code",
   "execution_count": 3,
   "metadata": {},
   "outputs": [],
   "source": [
    "# View all the tables\n",
    "cur = conn.cursor()\n",
    "cur.execute(\"\"\"select *  \n",
    "                            from information_schema.tables\n",
    "                            where table_schema='public'\"\"\")\n",
    "data = cur.fetchall()"
   ]
  },
  {
   "cell_type": "code",
   "execution_count": 4,
   "metadata": {},
   "outputs": [
    {
     "data": {
      "text/html": [
       "<div>\n",
       "<style scoped>\n",
       "    .dataframe tbody tr th:only-of-type {\n",
       "        vertical-align: middle;\n",
       "    }\n",
       "\n",
       "    .dataframe tbody tr th {\n",
       "        vertical-align: top;\n",
       "    }\n",
       "\n",
       "    .dataframe thead th {\n",
       "        text-align: right;\n",
       "    }\n",
       "</style>\n",
       "<table border=\"1\" class=\"dataframe\">\n",
       "  <thead>\n",
       "    <tr style=\"text-align: right;\">\n",
       "      <th></th>\n",
       "      <th>table_catalog</th>\n",
       "      <th>table_schema</th>\n",
       "      <th>table_name</th>\n",
       "      <th>table_type</th>\n",
       "      <th>self_referencing_column_name</th>\n",
       "      <th>reference_generation</th>\n",
       "      <th>user_defined_type_catalog</th>\n",
       "      <th>user_defined_type_schema</th>\n",
       "      <th>user_defined_type_name</th>\n",
       "      <th>is_insertable_into</th>\n",
       "      <th>is_typed</th>\n",
       "      <th>commit_action</th>\n",
       "    </tr>\n",
       "  </thead>\n",
       "  <tbody>\n",
       "    <tr>\n",
       "      <th>0</th>\n",
       "      <td>threadtogether</td>\n",
       "      <td>public</td>\n",
       "      <td>full_data</td>\n",
       "      <td>BASE TABLE</td>\n",
       "      <td>None</td>\n",
       "      <td>None</td>\n",
       "      <td>None</td>\n",
       "      <td>None</td>\n",
       "      <td>None</td>\n",
       "      <td>YES</td>\n",
       "      <td>NO</td>\n",
       "      <td>None</td>\n",
       "    </tr>\n",
       "    <tr>\n",
       "      <th>1</th>\n",
       "      <td>threadtogether</td>\n",
       "      <td>public</td>\n",
       "      <td>womens_clothing_reviews</td>\n",
       "      <td>BASE TABLE</td>\n",
       "      <td>None</td>\n",
       "      <td>None</td>\n",
       "      <td>None</td>\n",
       "      <td>None</td>\n",
       "      <td>None</td>\n",
       "      <td>YES</td>\n",
       "      <td>NO</td>\n",
       "      <td>None</td>\n",
       "    </tr>\n",
       "    <tr>\n",
       "      <th>2</th>\n",
       "      <td>threadtogether</td>\n",
       "      <td>public</td>\n",
       "      <td>tagged_product_attributes</td>\n",
       "      <td>BASE TABLE</td>\n",
       "      <td>None</td>\n",
       "      <td>None</td>\n",
       "      <td>None</td>\n",
       "      <td>None</td>\n",
       "      <td>None</td>\n",
       "      <td>YES</td>\n",
       "      <td>NO</td>\n",
       "      <td>None</td>\n",
       "    </tr>\n",
       "    <tr>\n",
       "      <th>3</th>\n",
       "      <td>threadtogether</td>\n",
       "      <td>public</td>\n",
       "      <td>categories</td>\n",
       "      <td>BASE TABLE</td>\n",
       "      <td>None</td>\n",
       "      <td>None</td>\n",
       "      <td>None</td>\n",
       "      <td>None</td>\n",
       "      <td>None</td>\n",
       "      <td>YES</td>\n",
       "      <td>NO</td>\n",
       "      <td>None</td>\n",
       "    </tr>\n",
       "    <tr>\n",
       "      <th>4</th>\n",
       "      <td>threadtogether</td>\n",
       "      <td>public</td>\n",
       "      <td>outfits</td>\n",
       "      <td>BASE TABLE</td>\n",
       "      <td>None</td>\n",
       "      <td>None</td>\n",
       "      <td>None</td>\n",
       "      <td>None</td>\n",
       "      <td>None</td>\n",
       "      <td>YES</td>\n",
       "      <td>NO</td>\n",
       "      <td>None</td>\n",
       "    </tr>\n",
       "  </tbody>\n",
       "</table>\n",
       "</div>"
      ],
      "text/plain": [
       "    table_catalog table_schema                 table_name  table_type  \\\n",
       "0  threadtogether       public                  full_data  BASE TABLE   \n",
       "1  threadtogether       public    womens_clothing_reviews  BASE TABLE   \n",
       "2  threadtogether       public  tagged_product_attributes  BASE TABLE   \n",
       "3  threadtogether       public                 categories  BASE TABLE   \n",
       "4  threadtogether       public                    outfits  BASE TABLE   \n",
       "\n",
       "  self_referencing_column_name reference_generation user_defined_type_catalog  \\\n",
       "0                         None                 None                      None   \n",
       "1                         None                 None                      None   \n",
       "2                         None                 None                      None   \n",
       "3                         None                 None                      None   \n",
       "4                         None                 None                      None   \n",
       "\n",
       "  user_defined_type_schema user_defined_type_name is_insertable_into is_typed  \\\n",
       "0                     None                   None                YES       NO   \n",
       "1                     None                   None                YES       NO   \n",
       "2                     None                   None                YES       NO   \n",
       "3                     None                   None                YES       NO   \n",
       "4                     None                   None                YES       NO   \n",
       "\n",
       "  commit_action  \n",
       "0          None  \n",
       "1          None  \n",
       "2          None  \n",
       "3          None  \n",
       "4          None  "
      ]
     },
     "execution_count": 4,
     "metadata": {},
     "output_type": "execute_result"
    }
   ],
   "source": [
    "pd.DataFrame(data, columns=[desc[0] for desc in cur.description])"
   ]
  },
  {
   "cell_type": "code",
   "execution_count": 5,
   "metadata": {},
   "outputs": [],
   "source": [
    "# Extract data from full_data\n",
    "cur = conn.cursor()\n",
    "cur.execute(\"select *  from full_data\")\n",
    "data = cur.fetchall()"
   ]
  },
  {
   "cell_type": "code",
   "execution_count": 6,
   "metadata": {},
   "outputs": [],
   "source": [
    "full_data = pd.DataFrame(data, columns=[desc[0] for desc in cur.description])"
   ]
  },
  {
   "cell_type": "code",
   "execution_count": 7,
   "metadata": {
    "scrolled": true
   },
   "outputs": [
    {
     "data": {
      "text/html": [
       "<div>\n",
       "<style scoped>\n",
       "    .dataframe tbody tr th:only-of-type {\n",
       "        vertical-align: middle;\n",
       "    }\n",
       "\n",
       "    .dataframe tbody tr th {\n",
       "        vertical-align: top;\n",
       "    }\n",
       "\n",
       "    .dataframe thead th {\n",
       "        text-align: right;\n",
       "    }\n",
       "</style>\n",
       "<table border=\"1\" class=\"dataframe\">\n",
       "  <thead>\n",
       "    <tr style=\"text-align: right;\">\n",
       "      <th></th>\n",
       "      <th>product_id</th>\n",
       "      <th>brand</th>\n",
       "      <th>mpn</th>\n",
       "      <th>product_full_name</th>\n",
       "      <th>description</th>\n",
       "      <th>brand_category</th>\n",
       "      <th>created_at</th>\n",
       "      <th>updated_at</th>\n",
       "      <th>deleted_at</th>\n",
       "      <th>brand_canonical_url</th>\n",
       "      <th>details</th>\n",
       "      <th>labels</th>\n",
       "      <th>bc_product_id</th>\n",
       "    </tr>\n",
       "  </thead>\n",
       "  <tbody>\n",
       "    <tr>\n",
       "      <th>0</th>\n",
       "      <td>01DSE9TC2DQXDG6GWKW9NMJ416</td>\n",
       "      <td>Banana Republic</td>\n",
       "      <td>514683</td>\n",
       "      <td>Ankle-Strap Pump</td>\n",
       "      <td>A modern pump, in a rounded silhouette with an...</td>\n",
       "      <td>Unknown</td>\n",
       "      <td>2019-11-11 22:37:15.719107+00</td>\n",
       "      <td>2019-12-19 20:40:30.786144+00</td>\n",
       "      <td>NULL</td>\n",
       "      <td>https://bananarepublic.gap.com/browse/product....</td>\n",
       "      <td>A modern pump, in a rounded silhouette with an...</td>\n",
       "      <td>{\"Needs Review\"}</td>\n",
       "      <td>NULL</td>\n",
       "    </tr>\n",
       "    <tr>\n",
       "      <th>1</th>\n",
       "      <td>01DSE9SKM19XNA6SJP36JZC065</td>\n",
       "      <td>Banana Republic</td>\n",
       "      <td>526676</td>\n",
       "      <td>Petite Tie-Neck Top</td>\n",
       "      <td>Dress it down with jeans and sneakers or dress...</td>\n",
       "      <td>Unknown</td>\n",
       "      <td>2019-11-11 22:36:50.682513+00</td>\n",
       "      <td>2019-12-19 20:40:30.786144+00</td>\n",
       "      <td>NULL</td>\n",
       "      <td>https://bananarepublic.gap.com/browse/product....</td>\n",
       "      <td>Dress it down with jeans and sneakers or dress...</td>\n",
       "      <td>{\"Needs Review\"}</td>\n",
       "      <td>NULL</td>\n",
       "    </tr>\n",
       "    <tr>\n",
       "      <th>2</th>\n",
       "      <td>01DSJX8GD4DSAP76SPR85HRCMN</td>\n",
       "      <td>Loewe</td>\n",
       "      <td>4.001E+11</td>\n",
       "      <td>52MM Padded Leather Round Sunglasses</td>\n",
       "      <td>Padded leather covers classic round sunglasses.</td>\n",
       "      <td>JewelryAccessories/SunglassesReaders/RoundOval...</td>\n",
       "      <td>2019-11-13 17:33:59.581661+00</td>\n",
       "      <td>2019-12-19 20:40:30.786144+00</td>\n",
       "      <td>NULL</td>\n",
       "      <td>https://www.saksfifthavenue.com/loewe-52mm-pad...</td>\n",
       "      <td>100% UV protection\\nCase and cleaning cloth in...</td>\n",
       "      <td>{\"Needs Review\"}</td>\n",
       "      <td>NULL</td>\n",
       "    </tr>\n",
       "    <tr>\n",
       "      <th>3</th>\n",
       "      <td>01DSJVKJNS6F4KQ1QM6YYK9AW2</td>\n",
       "      <td>Converse</td>\n",
       "      <td>4.00012E+11</td>\n",
       "      <td>Baby's &amp; Little Kid's All-Star Two-Tone Mid-To...</td>\n",
       "      <td>The iconic mid-top design gets an added dose o...</td>\n",
       "      <td>JustKids/Shoes/Baby024Months/BabyGirl,JustKids...</td>\n",
       "      <td>2019-11-13 17:05:05.203733+00</td>\n",
       "      <td>2019-12-19 20:40:30.786144+00</td>\n",
       "      <td>NULL</td>\n",
       "      <td>https://www.saksfifthavenue.com/converse-babys...</td>\n",
       "      <td>Canvas upper\\nRound toe\\nLace-up vamp\\nSmartFO...</td>\n",
       "      <td>{\"Needs Review\"}</td>\n",
       "      <td>NULL</td>\n",
       "    </tr>\n",
       "    <tr>\n",
       "      <th>4</th>\n",
       "      <td>01DSK15ZD4D5A0QXA8NSD25YXE</td>\n",
       "      <td>Alexander McQueen</td>\n",
       "      <td>4.00011E+11</td>\n",
       "      <td>64MM Rimless Sunglasses</td>\n",
       "      <td>Hexagonal shades offer a rimless view with int...</td>\n",
       "      <td>JewelryAccessories/SunglassesReaders/RoundOval</td>\n",
       "      <td>2019-11-13 18:42:30.941321+00</td>\n",
       "      <td>2019-12-19 20:40:30.786144+00</td>\n",
       "      <td>NULL</td>\n",
       "      <td>https://www.saksfifthavenue.com/alexander-mcqu...</td>\n",
       "      <td>100% UV protection\\nGradient lenses\\nAdjustabl...</td>\n",
       "      <td>{\"Needs Review\"}</td>\n",
       "      <td>NULL</td>\n",
       "    </tr>\n",
       "  </tbody>\n",
       "</table>\n",
       "</div>"
      ],
      "text/plain": [
       "                   product_id              brand          mpn  \\\n",
       "0  01DSE9TC2DQXDG6GWKW9NMJ416    Banana Republic       514683   \n",
       "1  01DSE9SKM19XNA6SJP36JZC065    Banana Republic       526676   \n",
       "2  01DSJX8GD4DSAP76SPR85HRCMN              Loewe    4.001E+11   \n",
       "3  01DSJVKJNS6F4KQ1QM6YYK9AW2           Converse  4.00012E+11   \n",
       "4  01DSK15ZD4D5A0QXA8NSD25YXE  Alexander McQueen  4.00011E+11   \n",
       "\n",
       "                                   product_full_name  \\\n",
       "0                                   Ankle-Strap Pump   \n",
       "1                                Petite Tie-Neck Top   \n",
       "2               52MM Padded Leather Round Sunglasses   \n",
       "3  Baby's & Little Kid's All-Star Two-Tone Mid-To...   \n",
       "4                            64MM Rimless Sunglasses   \n",
       "\n",
       "                                         description  \\\n",
       "0  A modern pump, in a rounded silhouette with an...   \n",
       "1  Dress it down with jeans and sneakers or dress...   \n",
       "2    Padded leather covers classic round sunglasses.   \n",
       "3  The iconic mid-top design gets an added dose o...   \n",
       "4  Hexagonal shades offer a rimless view with int...   \n",
       "\n",
       "                                      brand_category  \\\n",
       "0                                            Unknown   \n",
       "1                                            Unknown   \n",
       "2  JewelryAccessories/SunglassesReaders/RoundOval...   \n",
       "3  JustKids/Shoes/Baby024Months/BabyGirl,JustKids...   \n",
       "4     JewelryAccessories/SunglassesReaders/RoundOval   \n",
       "\n",
       "                      created_at                     updated_at deleted_at  \\\n",
       "0  2019-11-11 22:37:15.719107+00  2019-12-19 20:40:30.786144+00       NULL   \n",
       "1  2019-11-11 22:36:50.682513+00  2019-12-19 20:40:30.786144+00       NULL   \n",
       "2  2019-11-13 17:33:59.581661+00  2019-12-19 20:40:30.786144+00       NULL   \n",
       "3  2019-11-13 17:05:05.203733+00  2019-12-19 20:40:30.786144+00       NULL   \n",
       "4  2019-11-13 18:42:30.941321+00  2019-12-19 20:40:30.786144+00       NULL   \n",
       "\n",
       "                                 brand_canonical_url  \\\n",
       "0  https://bananarepublic.gap.com/browse/product....   \n",
       "1  https://bananarepublic.gap.com/browse/product....   \n",
       "2  https://www.saksfifthavenue.com/loewe-52mm-pad...   \n",
       "3  https://www.saksfifthavenue.com/converse-babys...   \n",
       "4  https://www.saksfifthavenue.com/alexander-mcqu...   \n",
       "\n",
       "                                             details            labels  \\\n",
       "0  A modern pump, in a rounded silhouette with an...  {\"Needs Review\"}   \n",
       "1  Dress it down with jeans and sneakers or dress...  {\"Needs Review\"}   \n",
       "2  100% UV protection\\nCase and cleaning cloth in...  {\"Needs Review\"}   \n",
       "3  Canvas upper\\nRound toe\\nLace-up vamp\\nSmartFO...  {\"Needs Review\"}   \n",
       "4  100% UV protection\\nGradient lenses\\nAdjustabl...  {\"Needs Review\"}   \n",
       "\n",
       "  bc_product_id  \n",
       "0          NULL  \n",
       "1          NULL  \n",
       "2          NULL  \n",
       "3          NULL  \n",
       "4          NULL  "
      ]
     },
     "execution_count": 7,
     "metadata": {},
     "output_type": "execute_result"
    }
   ],
   "source": [
    "full_data.head()"
   ]
  },
  {
   "cell_type": "code",
   "execution_count": 8,
   "metadata": {
    "scrolled": true
   },
   "outputs": [
    {
     "name": "stdout",
     "output_type": "stream",
     "text": [
      "<class 'pandas.core.frame.DataFrame'>\n",
      "RangeIndex: 48979 entries, 0 to 48978\n",
      "Data columns (total 13 columns):\n",
      " #   Column               Non-Null Count  Dtype \n",
      "---  ------               --------------  ----- \n",
      " 0   product_id           48979 non-null  object\n",
      " 1   brand                48979 non-null  object\n",
      " 2   mpn                  48979 non-null  object\n",
      " 3   product_full_name    48979 non-null  object\n",
      " 4   description          41005 non-null  object\n",
      " 5   brand_category       48741 non-null  object\n",
      " 6   created_at           48979 non-null  object\n",
      " 7   updated_at           48979 non-null  object\n",
      " 8   deleted_at           45984 non-null  object\n",
      " 9   brand_canonical_url  48967 non-null  object\n",
      " 10  details              47950 non-null  object\n",
      " 11  labels               48979 non-null  object\n",
      " 12  bc_product_id        48979 non-null  object\n",
      "dtypes: object(13)\n",
      "memory usage: 4.9+ MB\n"
     ]
    }
   ],
   "source": [
    "full_data.info()"
   ]
  },
  {
   "cell_type": "code",
   "execution_count": 9,
   "metadata": {},
   "outputs": [],
   "source": [
    "# Extract data from tagged_product_attributes\n",
    "cur = conn.cursor()\n",
    "cur.execute(\"select *  from tagged_product_attributes\")\n",
    "data = cur.fetchall()"
   ]
  },
  {
   "cell_type": "code",
   "execution_count": 10,
   "metadata": {},
   "outputs": [],
   "source": [
    "tagged_data = pd.DataFrame(data, columns=[desc[0] for desc in cur.description])"
   ]
  },
  {
   "cell_type": "code",
   "execution_count": 11,
   "metadata": {},
   "outputs": [
    {
     "data": {
      "text/html": [
       "<div>\n",
       "<style scoped>\n",
       "    .dataframe tbody tr th:only-of-type {\n",
       "        vertical-align: middle;\n",
       "    }\n",
       "\n",
       "    .dataframe tbody tr th {\n",
       "        vertical-align: top;\n",
       "    }\n",
       "\n",
       "    .dataframe thead th {\n",
       "        text-align: right;\n",
       "    }\n",
       "</style>\n",
       "<table border=\"1\" class=\"dataframe\">\n",
       "  <thead>\n",
       "    <tr style=\"text-align: right;\">\n",
       "      <th></th>\n",
       "      <th>product_id</th>\n",
       "      <th>product_color_id</th>\n",
       "      <th>attribute_name</th>\n",
       "      <th>attribute_value</th>\n",
       "      <th>file</th>\n",
       "    </tr>\n",
       "  </thead>\n",
       "  <tbody>\n",
       "    <tr>\n",
       "      <th>0</th>\n",
       "      <td>01DVBTBPHR8WJTCVEN5AJRHF47</td>\n",
       "      <td>01DVBTBPJ41VVT00JJCG8TTZ2W</td>\n",
       "      <td>gender</td>\n",
       "      <td>Women</td>\n",
       "      <td>initial_tags</td>\n",
       "    </tr>\n",
       "    <tr>\n",
       "      <th>1</th>\n",
       "      <td>01DVA7QRXM928ZM0WWR7HFNTC1</td>\n",
       "      <td>01DVA7QRXXR9F0TWVE1HMC5ZQ3</td>\n",
       "      <td>Primary Color</td>\n",
       "      <td>Blacks</td>\n",
       "      <td>initial_tags</td>\n",
       "    </tr>\n",
       "    <tr>\n",
       "      <th>2</th>\n",
       "      <td>01DPGV4YRP3Z8J85DASGZ1Y99W</td>\n",
       "      <td>01DPGVGBK6YGNYGNF2S6FSH02T</td>\n",
       "      <td>style</td>\n",
       "      <td>Casual</td>\n",
       "      <td>initial_tags</td>\n",
       "    </tr>\n",
       "    <tr>\n",
       "      <th>3</th>\n",
       "      <td>01E1JM43NQ3H17PB22EV3074NX</td>\n",
       "      <td>01E1JM5WFWWCCCH3JTTTCYQCEQ</td>\n",
       "      <td>style</td>\n",
       "      <td>Modern</td>\n",
       "      <td>initial_tags</td>\n",
       "    </tr>\n",
       "    <tr>\n",
       "      <th>4</th>\n",
       "      <td>01DSE8Z2ZDAZKZ2SKCS1E3B3HK</td>\n",
       "      <td>01DSE8ZG8Y3FR8KWE2TY1QDWBF</td>\n",
       "      <td>shoe_width</td>\n",
       "      <td>Medium</td>\n",
       "      <td>initial_tags</td>\n",
       "    </tr>\n",
       "  </tbody>\n",
       "</table>\n",
       "</div>"
      ],
      "text/plain": [
       "                   product_id            product_color_id attribute_name  \\\n",
       "0  01DVBTBPHR8WJTCVEN5AJRHF47  01DVBTBPJ41VVT00JJCG8TTZ2W         gender   \n",
       "1  01DVA7QRXM928ZM0WWR7HFNTC1  01DVA7QRXXR9F0TWVE1HMC5ZQ3  Primary Color   \n",
       "2  01DPGV4YRP3Z8J85DASGZ1Y99W  01DPGVGBK6YGNYGNF2S6FSH02T          style   \n",
       "3  01E1JM43NQ3H17PB22EV3074NX  01E1JM5WFWWCCCH3JTTTCYQCEQ          style   \n",
       "4  01DSE8Z2ZDAZKZ2SKCS1E3B3HK  01DSE8ZG8Y3FR8KWE2TY1QDWBF     shoe_width   \n",
       "\n",
       "  attribute_value          file  \n",
       "0           Women  initial_tags  \n",
       "1          Blacks  initial_tags  \n",
       "2          Casual  initial_tags  \n",
       "3          Modern  initial_tags  \n",
       "4          Medium  initial_tags  "
      ]
     },
     "execution_count": 11,
     "metadata": {},
     "output_type": "execute_result"
    }
   ],
   "source": [
    "tagged_data.head()"
   ]
  },
  {
   "cell_type": "code",
   "execution_count": 12,
   "metadata": {
    "scrolled": false
   },
   "outputs": [
    {
     "name": "stdout",
     "output_type": "stream",
     "text": [
      "<class 'pandas.core.frame.DataFrame'>\n",
      "RangeIndex: 119345 entries, 0 to 119344\n",
      "Data columns (total 5 columns):\n",
      " #   Column            Non-Null Count   Dtype \n",
      "---  ------            --------------   ----- \n",
      " 0   product_id        119345 non-null  object\n",
      " 1   product_color_id  119345 non-null  object\n",
      " 2   attribute_name    119345 non-null  object\n",
      " 3   attribute_value   119345 non-null  object\n",
      " 4   file              119345 non-null  object\n",
      "dtypes: object(5)\n",
      "memory usage: 4.6+ MB\n"
     ]
    }
   ],
   "source": [
    "tagged_data.info()"
   ]
  },
  {
   "cell_type": "code",
   "execution_count": 13,
   "metadata": {},
   "outputs": [],
   "source": [
    "# Extract data from womens_clothing_reviews\n",
    "cur = conn.cursor()\n",
    "cur.execute(\"select *  from womens_clothing_reviews\")\n",
    "data = cur.fetchall()"
   ]
  },
  {
   "cell_type": "code",
   "execution_count": 14,
   "metadata": {},
   "outputs": [],
   "source": [
    "reviews = pd.DataFrame(data, columns=[desc[0] for desc in cur.description])"
   ]
  },
  {
   "cell_type": "code",
   "execution_count": 15,
   "metadata": {},
   "outputs": [
    {
     "data": {
      "text/html": [
       "<div>\n",
       "<style scoped>\n",
       "    .dataframe tbody tr th:only-of-type {\n",
       "        vertical-align: middle;\n",
       "    }\n",
       "\n",
       "    .dataframe tbody tr th {\n",
       "        vertical-align: top;\n",
       "    }\n",
       "\n",
       "    .dataframe thead th {\n",
       "        text-align: right;\n",
       "    }\n",
       "</style>\n",
       "<table border=\"1\" class=\"dataframe\">\n",
       "  <thead>\n",
       "    <tr style=\"text-align: right;\">\n",
       "      <th></th>\n",
       "      <th>clothing_id</th>\n",
       "      <th>age</th>\n",
       "      <th>title</th>\n",
       "      <th>review_text</th>\n",
       "      <th>rating</th>\n",
       "      <th>recommend</th>\n",
       "      <th>likes</th>\n",
       "      <th>division</th>\n",
       "      <th>department</th>\n",
       "      <th>class</th>\n",
       "    </tr>\n",
       "  </thead>\n",
       "  <tbody>\n",
       "    <tr>\n",
       "      <th>0</th>\n",
       "      <td>767</td>\n",
       "      <td>33</td>\n",
       "      <td>None</td>\n",
       "      <td>Absolutely wonderful - silky and sexy and comf...</td>\n",
       "      <td>4</td>\n",
       "      <td>1</td>\n",
       "      <td>0</td>\n",
       "      <td>Initmates</td>\n",
       "      <td>Intimate</td>\n",
       "      <td>Intimates</td>\n",
       "    </tr>\n",
       "    <tr>\n",
       "      <th>1</th>\n",
       "      <td>1080</td>\n",
       "      <td>34</td>\n",
       "      <td>None</td>\n",
       "      <td>Love this dress!  it's sooo pretty.  i happene...</td>\n",
       "      <td>5</td>\n",
       "      <td>1</td>\n",
       "      <td>4</td>\n",
       "      <td>General</td>\n",
       "      <td>Dresses</td>\n",
       "      <td>Dresses</td>\n",
       "    </tr>\n",
       "    <tr>\n",
       "      <th>2</th>\n",
       "      <td>1077</td>\n",
       "      <td>60</td>\n",
       "      <td>Some major design flaws</td>\n",
       "      <td>I had such high hopes for this dress and reall...</td>\n",
       "      <td>3</td>\n",
       "      <td>0</td>\n",
       "      <td>0</td>\n",
       "      <td>General</td>\n",
       "      <td>Dresses</td>\n",
       "      <td>Dresses</td>\n",
       "    </tr>\n",
       "    <tr>\n",
       "      <th>3</th>\n",
       "      <td>1049</td>\n",
       "      <td>50</td>\n",
       "      <td>My favorite buy!</td>\n",
       "      <td>I love, love, love this jumpsuit. it's fun, fl...</td>\n",
       "      <td>5</td>\n",
       "      <td>1</td>\n",
       "      <td>0</td>\n",
       "      <td>General Petite</td>\n",
       "      <td>Bottoms</td>\n",
       "      <td>Pants</td>\n",
       "    </tr>\n",
       "    <tr>\n",
       "      <th>4</th>\n",
       "      <td>847</td>\n",
       "      <td>47</td>\n",
       "      <td>Flattering shirt</td>\n",
       "      <td>This shirt is very flattering to all due to th...</td>\n",
       "      <td>5</td>\n",
       "      <td>1</td>\n",
       "      <td>6</td>\n",
       "      <td>General</td>\n",
       "      <td>Tops</td>\n",
       "      <td>Blouses</td>\n",
       "    </tr>\n",
       "  </tbody>\n",
       "</table>\n",
       "</div>"
      ],
      "text/plain": [
       "   clothing_id  age                    title  \\\n",
       "0          767   33                     None   \n",
       "1         1080   34                     None   \n",
       "2         1077   60  Some major design flaws   \n",
       "3         1049   50         My favorite buy!   \n",
       "4          847   47         Flattering shirt   \n",
       "\n",
       "                                         review_text  rating  recommend  \\\n",
       "0  Absolutely wonderful - silky and sexy and comf...       4          1   \n",
       "1  Love this dress!  it's sooo pretty.  i happene...       5          1   \n",
       "2  I had such high hopes for this dress and reall...       3          0   \n",
       "3  I love, love, love this jumpsuit. it's fun, fl...       5          1   \n",
       "4  This shirt is very flattering to all due to th...       5          1   \n",
       "\n",
       "   likes        division department      class  \n",
       "0      0       Initmates   Intimate  Intimates  \n",
       "1      4         General    Dresses    Dresses  \n",
       "2      0         General    Dresses    Dresses  \n",
       "3      0  General Petite    Bottoms      Pants  \n",
       "4      6         General       Tops    Blouses  "
      ]
     },
     "execution_count": 15,
     "metadata": {},
     "output_type": "execute_result"
    }
   ],
   "source": [
    "reviews.head()"
   ]
  },
  {
   "cell_type": "code",
   "execution_count": 16,
   "metadata": {
    "scrolled": false
   },
   "outputs": [
    {
     "name": "stdout",
     "output_type": "stream",
     "text": [
      "<class 'pandas.core.frame.DataFrame'>\n",
      "RangeIndex: 23486 entries, 0 to 23485\n",
      "Data columns (total 10 columns):\n",
      " #   Column       Non-Null Count  Dtype \n",
      "---  ------       --------------  ----- \n",
      " 0   clothing_id  23486 non-null  int64 \n",
      " 1   age          23486 non-null  int64 \n",
      " 2   title        19676 non-null  object\n",
      " 3   review_text  22641 non-null  object\n",
      " 4   rating       23486 non-null  int64 \n",
      " 5   recommend    23486 non-null  int64 \n",
      " 6   likes        23486 non-null  int64 \n",
      " 7   division     23472 non-null  object\n",
      " 8   department   23472 non-null  object\n",
      " 9   class        23472 non-null  object\n",
      "dtypes: int64(5), object(5)\n",
      "memory usage: 1.8+ MB\n"
     ]
    }
   ],
   "source": [
    "reviews.info()"
   ]
  },
  {
   "cell_type": "code",
   "execution_count": 17,
   "metadata": {},
   "outputs": [],
   "source": [
    "# Extract data from categories\n",
    "cur = conn.cursor()\n",
    "cur.execute(\"select *  from categories\")\n",
    "data = cur.fetchall()"
   ]
  },
  {
   "cell_type": "code",
   "execution_count": 18,
   "metadata": {},
   "outputs": [
    {
     "data": {
      "text/html": [
       "<div>\n",
       "<style scoped>\n",
       "    .dataframe tbody tr th:only-of-type {\n",
       "        vertical-align: middle;\n",
       "    }\n",
       "\n",
       "    .dataframe tbody tr th {\n",
       "        vertical-align: top;\n",
       "    }\n",
       "\n",
       "    .dataframe thead th {\n",
       "        text-align: right;\n",
       "    }\n",
       "</style>\n",
       "<table border=\"1\" class=\"dataframe\">\n",
       "  <thead>\n",
       "    <tr style=\"text-align: right;\">\n",
       "      <th></th>\n",
       "      <th>value</th>\n",
       "      <th>category</th>\n",
       "      <th>type</th>\n",
       "      <th>quantifier</th>\n",
       "    </tr>\n",
       "  </thead>\n",
       "  <tbody>\n",
       "    <tr>\n",
       "      <th>0</th>\n",
       "      <td>Androgynous</td>\n",
       "      <td>style</td>\n",
       "      <td>general</td>\n",
       "      <td>many</td>\n",
       "    </tr>\n",
       "    <tr>\n",
       "      <th>1</th>\n",
       "      <td>Athleisure</td>\n",
       "      <td>style</td>\n",
       "      <td>general</td>\n",
       "      <td>many</td>\n",
       "    </tr>\n",
       "    <tr>\n",
       "      <th>2</th>\n",
       "      <td>Boho</td>\n",
       "      <td>style</td>\n",
       "      <td>general</td>\n",
       "      <td>many</td>\n",
       "    </tr>\n",
       "    <tr>\n",
       "      <th>3</th>\n",
       "      <td>Business Casual</td>\n",
       "      <td>style</td>\n",
       "      <td>general</td>\n",
       "      <td>many</td>\n",
       "    </tr>\n",
       "    <tr>\n",
       "      <th>4</th>\n",
       "      <td>Casual</td>\n",
       "      <td>style</td>\n",
       "      <td>general</td>\n",
       "      <td>many</td>\n",
       "    </tr>\n",
       "  </tbody>\n",
       "</table>\n",
       "</div>"
      ],
      "text/plain": [
       "             value category     type quantifier\n",
       "0      Androgynous    style  general       many\n",
       "1       Athleisure    style  general       many\n",
       "2             Boho    style  general       many\n",
       "3  Business Casual    style  general       many\n",
       "4           Casual    style  general       many"
      ]
     },
     "execution_count": 18,
     "metadata": {},
     "output_type": "execute_result"
    }
   ],
   "source": [
    "# View\n",
    "pd.DataFrame(data, columns=[desc[0] for desc in cur.description]).head()"
   ]
  },
  {
   "cell_type": "code",
   "execution_count": 19,
   "metadata": {},
   "outputs": [],
   "source": [
    "# Extract data from outfits\n",
    "cur = conn.cursor()\n",
    "cur.execute(\"select *  from outfits\")\n",
    "data = cur.fetchall()"
   ]
  },
  {
   "cell_type": "code",
   "execution_count": 20,
   "metadata": {},
   "outputs": [
    {
     "data": {
      "text/html": [
       "<div>\n",
       "<style scoped>\n",
       "    .dataframe tbody tr th:only-of-type {\n",
       "        vertical-align: middle;\n",
       "    }\n",
       "\n",
       "    .dataframe tbody tr th {\n",
       "        vertical-align: top;\n",
       "    }\n",
       "\n",
       "    .dataframe thead th {\n",
       "        text-align: right;\n",
       "    }\n",
       "</style>\n",
       "<table border=\"1\" class=\"dataframe\">\n",
       "  <thead>\n",
       "    <tr style=\"text-align: right;\">\n",
       "      <th></th>\n",
       "      <th>outfit_id</th>\n",
       "      <th>product_color_id</th>\n",
       "      <th>outfit_item_type</th>\n",
       "    </tr>\n",
       "  </thead>\n",
       "  <tbody>\n",
       "    <tr>\n",
       "      <th>0</th>\n",
       "      <td>01DDBHC62ES5K80P0KYJ56AM2T</td>\n",
       "      <td>01DMBRYVA2S83FARJW4QWRBXNS</td>\n",
       "      <td>shoe</td>\n",
       "    </tr>\n",
       "    <tr>\n",
       "      <th>1</th>\n",
       "      <td>01DDBHC62ES5K80P0KYJ56AM2T</td>\n",
       "      <td>01DMBRYVA2V2Y8EN8YPY1E16EV</td>\n",
       "      <td>accessory1</td>\n",
       "    </tr>\n",
       "    <tr>\n",
       "      <th>2</th>\n",
       "      <td>01DDBHC62ES5K80P0KYJ56AM2T</td>\n",
       "      <td>01DMBRYVA23E5A8GBES8QJN3HF</td>\n",
       "      <td>top</td>\n",
       "    </tr>\n",
       "    <tr>\n",
       "      <th>3</th>\n",
       "      <td>01DDBHC62ES5K80P0KYJ56AM2T</td>\n",
       "      <td>01DMBRYVA2C7BQN0X7MNNYXBHW</td>\n",
       "      <td>bottom</td>\n",
       "    </tr>\n",
       "    <tr>\n",
       "      <th>4</th>\n",
       "      <td>01DMHCX50CFX5YNG99F3Y65GQW</td>\n",
       "      <td>01DMBRYVA2S83FARJW4QWRBXNS</td>\n",
       "      <td>shoe</td>\n",
       "    </tr>\n",
       "  </tbody>\n",
       "</table>\n",
       "</div>"
      ],
      "text/plain": [
       "                    outfit_id            product_color_id outfit_item_type\n",
       "0  01DDBHC62ES5K80P0KYJ56AM2T  01DMBRYVA2S83FARJW4QWRBXNS             shoe\n",
       "1  01DDBHC62ES5K80P0KYJ56AM2T  01DMBRYVA2V2Y8EN8YPY1E16EV       accessory1\n",
       "2  01DDBHC62ES5K80P0KYJ56AM2T  01DMBRYVA23E5A8GBES8QJN3HF              top\n",
       "3  01DDBHC62ES5K80P0KYJ56AM2T  01DMBRYVA2C7BQN0X7MNNYXBHW           bottom\n",
       "4  01DMHCX50CFX5YNG99F3Y65GQW  01DMBRYVA2S83FARJW4QWRBXNS             shoe"
      ]
     },
     "execution_count": 20,
     "metadata": {},
     "output_type": "execute_result"
    }
   ],
   "source": [
    "# View\n",
    "pd.DataFrame(data, columns=[desc[0] for desc in cur.description]).head()"
   ]
  },
  {
   "cell_type": "code",
   "execution_count": 21,
   "metadata": {},
   "outputs": [],
   "source": [
    "outfit = pd.DataFrame(data, columns=[desc[0] for desc in cur.description])"
   ]
  },
  {
   "cell_type": "code",
   "execution_count": 22,
   "metadata": {},
   "outputs": [
    {
     "data": {
      "text/plain": [
       "array(['accessory1', 'accessory2', 'accessory3', 'bottom', 'onepiece',\n",
       "       'shoe', 'top'], dtype=object)"
      ]
     },
     "execution_count": 22,
     "metadata": {},
     "output_type": "execute_result"
    }
   ],
   "source": [
    "np.unique(outfit['outfit_item_type'])"
   ]
  },
  {
   "cell_type": "markdown",
   "metadata": {},
   "source": [
    "# II. Text Preprocessing"
   ]
  },
  {
   "cell_type": "code",
   "execution_count": 23,
   "metadata": {},
   "outputs": [
    {
     "data": {
      "text/html": [
       "<div>\n",
       "<style scoped>\n",
       "    .dataframe tbody tr th:only-of-type {\n",
       "        vertical-align: middle;\n",
       "    }\n",
       "\n",
       "    .dataframe tbody tr th {\n",
       "        vertical-align: top;\n",
       "    }\n",
       "\n",
       "    .dataframe thead th {\n",
       "        text-align: right;\n",
       "    }\n",
       "</style>\n",
       "<table border=\"1\" class=\"dataframe\">\n",
       "  <thead>\n",
       "    <tr style=\"text-align: right;\">\n",
       "      <th></th>\n",
       "      <th>product_id</th>\n",
       "      <th>brand</th>\n",
       "      <th>mpn</th>\n",
       "      <th>product_full_name</th>\n",
       "      <th>description</th>\n",
       "      <th>brand_category</th>\n",
       "      <th>created_at</th>\n",
       "      <th>updated_at</th>\n",
       "      <th>deleted_at</th>\n",
       "      <th>brand_canonical_url</th>\n",
       "      <th>details</th>\n",
       "      <th>labels</th>\n",
       "      <th>bc_product_id</th>\n",
       "      <th>product_color_id</th>\n",
       "      <th>attribute_name</th>\n",
       "      <th>attribute_value</th>\n",
       "      <th>file</th>\n",
       "    </tr>\n",
       "  </thead>\n",
       "  <tbody>\n",
       "    <tr>\n",
       "      <th>0</th>\n",
       "      <td>01E5ZXP5H0BTEZT9QD2HRZJ47A</td>\n",
       "      <td>A.L.C.</td>\n",
       "      <td>5529544</td>\n",
       "      <td>Lennox High Waist Cotton &amp; Linen Pants</td>\n",
       "      <td>High-rise trousers tailored from a cool Italia...</td>\n",
       "      <td>Unknown</td>\n",
       "      <td>2020-04-15 21:59:56.695000+00:00</td>\n",
       "      <td>2020-04-17 15:44:57.785000+00:00</td>\n",
       "      <td>2020-04-17 15:44:57.785000+00:00</td>\n",
       "      <td>https://shop.nordstrom.com/s/a-l-c-lennox-high...</td>\n",
       "      <td>True to size. High rise.31\" inseam; 14\" leg op...</td>\n",
       "      <td>[]</td>\n",
       "      <td>5021</td>\n",
       "      <td>01E5ZXP5JCREDC7WJVMWHK5Q40</td>\n",
       "      <td>materialclothing</td>\n",
       "      <td>linenblend</td>\n",
       "      <td>additional</td>\n",
       "    </tr>\n",
       "    <tr>\n",
       "      <th>1</th>\n",
       "      <td>01E5ZXP5H0BTEZT9QD2HRZJ47A</td>\n",
       "      <td>A.L.C.</td>\n",
       "      <td>5529544</td>\n",
       "      <td>Lennox High Waist Cotton &amp; Linen Pants</td>\n",
       "      <td>High-rise trousers tailored from a cool Italia...</td>\n",
       "      <td>Unknown</td>\n",
       "      <td>2020-04-15 21:59:56.695000+00:00</td>\n",
       "      <td>2020-04-17 15:44:57.785000+00:00</td>\n",
       "      <td>2020-04-17 15:44:57.785000+00:00</td>\n",
       "      <td>https://shop.nordstrom.com/s/a-l-c-lennox-high...</td>\n",
       "      <td>True to size. High rise.31\" inseam; 14\" leg op...</td>\n",
       "      <td>[]</td>\n",
       "      <td>5021</td>\n",
       "      <td>01E5ZXP5JCREDC7WJVMWHK5Q40</td>\n",
       "      <td>materialclothing</td>\n",
       "      <td>cottonblend</td>\n",
       "      <td>additional</td>\n",
       "    </tr>\n",
       "    <tr>\n",
       "      <th>2</th>\n",
       "      <td>01E5ZXP5H0BTEZT9QD2HRZJ47A</td>\n",
       "      <td>A.L.C.</td>\n",
       "      <td>5529544</td>\n",
       "      <td>Lennox High Waist Cotton &amp; Linen Pants</td>\n",
       "      <td>High-rise trousers tailored from a cool Italia...</td>\n",
       "      <td>Unknown</td>\n",
       "      <td>2020-04-15 21:59:56.695000+00:00</td>\n",
       "      <td>2020-04-17 15:44:57.785000+00:00</td>\n",
       "      <td>2020-04-17 15:44:57.785000+00:00</td>\n",
       "      <td>https://shop.nordstrom.com/s/a-l-c-lennox-high...</td>\n",
       "      <td>True to size. High rise.31\" inseam; 14\" leg op...</td>\n",
       "      <td>[]</td>\n",
       "      <td>5021</td>\n",
       "      <td>01E5ZXP5JCREDC7WJVMWHK5Q40</td>\n",
       "      <td>style</td>\n",
       "      <td>modern</td>\n",
       "      <td>additional</td>\n",
       "    </tr>\n",
       "  </tbody>\n",
       "</table>\n",
       "</div>"
      ],
      "text/plain": [
       "                   product_id   brand      mpn  \\\n",
       "0  01E5ZXP5H0BTEZT9QD2HRZJ47A  A.L.C.  5529544   \n",
       "1  01E5ZXP5H0BTEZT9QD2HRZJ47A  A.L.C.  5529544   \n",
       "2  01E5ZXP5H0BTEZT9QD2HRZJ47A  A.L.C.  5529544   \n",
       "\n",
       "                        product_full_name  \\\n",
       "0  Lennox High Waist Cotton & Linen Pants   \n",
       "1  Lennox High Waist Cotton & Linen Pants   \n",
       "2  Lennox High Waist Cotton & Linen Pants   \n",
       "\n",
       "                                         description brand_category  \\\n",
       "0  High-rise trousers tailored from a cool Italia...        Unknown   \n",
       "1  High-rise trousers tailored from a cool Italia...        Unknown   \n",
       "2  High-rise trousers tailored from a cool Italia...        Unknown   \n",
       "\n",
       "                         created_at                        updated_at  \\\n",
       "0  2020-04-15 21:59:56.695000+00:00  2020-04-17 15:44:57.785000+00:00   \n",
       "1  2020-04-15 21:59:56.695000+00:00  2020-04-17 15:44:57.785000+00:00   \n",
       "2  2020-04-15 21:59:56.695000+00:00  2020-04-17 15:44:57.785000+00:00   \n",
       "\n",
       "                         deleted_at  \\\n",
       "0  2020-04-17 15:44:57.785000+00:00   \n",
       "1  2020-04-17 15:44:57.785000+00:00   \n",
       "2  2020-04-17 15:44:57.785000+00:00   \n",
       "\n",
       "                                 brand_canonical_url  \\\n",
       "0  https://shop.nordstrom.com/s/a-l-c-lennox-high...   \n",
       "1  https://shop.nordstrom.com/s/a-l-c-lennox-high...   \n",
       "2  https://shop.nordstrom.com/s/a-l-c-lennox-high...   \n",
       "\n",
       "                                             details labels bc_product_id  \\\n",
       "0  True to size. High rise.31\" inseam; 14\" leg op...     []          5021   \n",
       "1  True to size. High rise.31\" inseam; 14\" leg op...     []          5021   \n",
       "2  True to size. High rise.31\" inseam; 14\" leg op...     []          5021   \n",
       "\n",
       "             product_color_id    attribute_name attribute_value        file  \n",
       "0  01E5ZXP5JCREDC7WJVMWHK5Q40  materialclothing      linenblend  additional  \n",
       "1  01E5ZXP5JCREDC7WJVMWHK5Q40  materialclothing     cottonblend  additional  \n",
       "2  01E5ZXP5JCREDC7WJVMWHK5Q40             style          modern  additional  "
      ]
     },
     "execution_count": 23,
     "metadata": {},
     "output_type": "execute_result"
    }
   ],
   "source": [
    "# join full_data and tagged_data. Replace NAs and \\n\n",
    "join_data = full_data.merge(tagged_data, on='product_id')\n",
    "join_data = join_data.replace(np.nan, \"\", regex=True)\n",
    "join_data = join_data.replace(\"\\n\", \"\",regex=True)\n",
    "join_data['attribute_value'].replace(r'\\bbusinesscasual\\b', 'business casual', inplace=True, regex=True)\n",
    "join_data.head(3)"
   ]
  },
  {
   "cell_type": "code",
   "execution_count": 24,
   "metadata": {},
   "outputs": [
    {
     "data": {
      "text/html": [
       "<div>\n",
       "<style scoped>\n",
       "    .dataframe tbody tr th:only-of-type {\n",
       "        vertical-align: middle;\n",
       "    }\n",
       "\n",
       "    .dataframe tbody tr th {\n",
       "        vertical-align: top;\n",
       "    }\n",
       "\n",
       "    .dataframe thead th {\n",
       "        text-align: right;\n",
       "    }\n",
       "</style>\n",
       "<table border=\"1\" class=\"dataframe\">\n",
       "  <thead>\n",
       "    <tr style=\"text-align: right;\">\n",
       "      <th></th>\n",
       "      <th>product_id</th>\n",
       "      <th>brand</th>\n",
       "      <th>mpn</th>\n",
       "      <th>product_full_name</th>\n",
       "      <th>description</th>\n",
       "      <th>brand_category</th>\n",
       "      <th>created_at</th>\n",
       "      <th>updated_at</th>\n",
       "      <th>deleted_at</th>\n",
       "      <th>brand_canonical_url</th>\n",
       "      <th>details</th>\n",
       "      <th>labels</th>\n",
       "      <th>bc_product_id</th>\n",
       "      <th>product_color_id</th>\n",
       "      <th>attribute_name</th>\n",
       "      <th>attribute_value</th>\n",
       "      <th>file</th>\n",
       "    </tr>\n",
       "  </thead>\n",
       "  <tbody>\n",
       "    <tr>\n",
       "      <th>0</th>\n",
       "      <td>01E5ZXP5H0BTEZT9QD2HRZJ47A</td>\n",
       "      <td>a.l.c.</td>\n",
       "      <td>5529544</td>\n",
       "      <td>lennox high waist cotton &amp; linen pants</td>\n",
       "      <td>high-rise trousers tailored from a cool italia...</td>\n",
       "      <td>unknown</td>\n",
       "      <td>2020-04-15 21:59:56.695000+00:00</td>\n",
       "      <td>2020-04-17 15:44:57.785000+00:00</td>\n",
       "      <td>2020-04-17 15:44:57.785000+00:00</td>\n",
       "      <td>https://shop.nordstrom.com/s/a-l-c-lennox-high...</td>\n",
       "      <td>true to size. high rise.31\" inseam; 14\" leg op...</td>\n",
       "      <td>[]</td>\n",
       "      <td>5021</td>\n",
       "      <td>01E5ZXP5JCREDC7WJVMWHK5Q40</td>\n",
       "      <td>materialclothing</td>\n",
       "      <td>linenblend</td>\n",
       "      <td>additional</td>\n",
       "    </tr>\n",
       "    <tr>\n",
       "      <th>1</th>\n",
       "      <td>01E5ZXP5H0BTEZT9QD2HRZJ47A</td>\n",
       "      <td>a.l.c.</td>\n",
       "      <td>5529544</td>\n",
       "      <td>lennox high waist cotton &amp; linen pants</td>\n",
       "      <td>high-rise trousers tailored from a cool italia...</td>\n",
       "      <td>unknown</td>\n",
       "      <td>2020-04-15 21:59:56.695000+00:00</td>\n",
       "      <td>2020-04-17 15:44:57.785000+00:00</td>\n",
       "      <td>2020-04-17 15:44:57.785000+00:00</td>\n",
       "      <td>https://shop.nordstrom.com/s/a-l-c-lennox-high...</td>\n",
       "      <td>true to size. high rise.31\" inseam; 14\" leg op...</td>\n",
       "      <td>[]</td>\n",
       "      <td>5021</td>\n",
       "      <td>01E5ZXP5JCREDC7WJVMWHK5Q40</td>\n",
       "      <td>materialclothing</td>\n",
       "      <td>cottonblend</td>\n",
       "      <td>additional</td>\n",
       "    </tr>\n",
       "    <tr>\n",
       "      <th>2</th>\n",
       "      <td>01E5ZXP5H0BTEZT9QD2HRZJ47A</td>\n",
       "      <td>a.l.c.</td>\n",
       "      <td>5529544</td>\n",
       "      <td>lennox high waist cotton &amp; linen pants</td>\n",
       "      <td>high-rise trousers tailored from a cool italia...</td>\n",
       "      <td>unknown</td>\n",
       "      <td>2020-04-15 21:59:56.695000+00:00</td>\n",
       "      <td>2020-04-17 15:44:57.785000+00:00</td>\n",
       "      <td>2020-04-17 15:44:57.785000+00:00</td>\n",
       "      <td>https://shop.nordstrom.com/s/a-l-c-lennox-high...</td>\n",
       "      <td>true to size. high rise.31\" inseam; 14\" leg op...</td>\n",
       "      <td>[]</td>\n",
       "      <td>5021</td>\n",
       "      <td>01E5ZXP5JCREDC7WJVMWHK5Q40</td>\n",
       "      <td>style</td>\n",
       "      <td>modern</td>\n",
       "      <td>additional</td>\n",
       "    </tr>\n",
       "  </tbody>\n",
       "</table>\n",
       "</div>"
      ],
      "text/plain": [
       "                   product_id   brand      mpn  \\\n",
       "0  01E5ZXP5H0BTEZT9QD2HRZJ47A  a.l.c.  5529544   \n",
       "1  01E5ZXP5H0BTEZT9QD2HRZJ47A  a.l.c.  5529544   \n",
       "2  01E5ZXP5H0BTEZT9QD2HRZJ47A  a.l.c.  5529544   \n",
       "\n",
       "                        product_full_name  \\\n",
       "0  lennox high waist cotton & linen pants   \n",
       "1  lennox high waist cotton & linen pants   \n",
       "2  lennox high waist cotton & linen pants   \n",
       "\n",
       "                                         description brand_category  \\\n",
       "0  high-rise trousers tailored from a cool italia...        unknown   \n",
       "1  high-rise trousers tailored from a cool italia...        unknown   \n",
       "2  high-rise trousers tailored from a cool italia...        unknown   \n",
       "\n",
       "                         created_at                        updated_at  \\\n",
       "0  2020-04-15 21:59:56.695000+00:00  2020-04-17 15:44:57.785000+00:00   \n",
       "1  2020-04-15 21:59:56.695000+00:00  2020-04-17 15:44:57.785000+00:00   \n",
       "2  2020-04-15 21:59:56.695000+00:00  2020-04-17 15:44:57.785000+00:00   \n",
       "\n",
       "                         deleted_at  \\\n",
       "0  2020-04-17 15:44:57.785000+00:00   \n",
       "1  2020-04-17 15:44:57.785000+00:00   \n",
       "2  2020-04-17 15:44:57.785000+00:00   \n",
       "\n",
       "                                 brand_canonical_url  \\\n",
       "0  https://shop.nordstrom.com/s/a-l-c-lennox-high...   \n",
       "1  https://shop.nordstrom.com/s/a-l-c-lennox-high...   \n",
       "2  https://shop.nordstrom.com/s/a-l-c-lennox-high...   \n",
       "\n",
       "                                             details labels bc_product_id  \\\n",
       "0  true to size. high rise.31\" inseam; 14\" leg op...     []          5021   \n",
       "1  true to size. high rise.31\" inseam; 14\" leg op...     []          5021   \n",
       "2  true to size. high rise.31\" inseam; 14\" leg op...     []          5021   \n",
       "\n",
       "             product_color_id    attribute_name attribute_value        file  \n",
       "0  01E5ZXP5JCREDC7WJVMWHK5Q40  materialclothing      linenblend  additional  \n",
       "1  01E5ZXP5JCREDC7WJVMWHK5Q40  materialclothing     cottonblend  additional  \n",
       "2  01E5ZXP5JCREDC7WJVMWHK5Q40             style          modern  additional  "
      ]
     },
     "execution_count": 24,
     "metadata": {},
     "output_type": "execute_result"
    }
   ],
   "source": [
    "# Lower case some target texts\n",
    "columns_list = ['brand','product_full_name','description','brand_category','details',\n",
    "                'attribute_name','attribute_value']\n",
    "for column in columns_list:\n",
    "    join_data[column] = join_data[column].str.lower()\n",
    "join_data.head(3)"
   ]
  },
  {
   "cell_type": "code",
   "execution_count": 25,
   "metadata": {},
   "outputs": [
    {
     "data": {
      "text/html": [
       "<div>\n",
       "<style scoped>\n",
       "    .dataframe tbody tr th:only-of-type {\n",
       "        vertical-align: middle;\n",
       "    }\n",
       "\n",
       "    .dataframe tbody tr th {\n",
       "        vertical-align: top;\n",
       "    }\n",
       "\n",
       "    .dataframe thead th {\n",
       "        text-align: right;\n",
       "    }\n",
       "</style>\n",
       "<table border=\"1\" class=\"dataframe\">\n",
       "  <thead>\n",
       "    <tr style=\"text-align: right;\">\n",
       "      <th></th>\n",
       "      <th>product_id</th>\n",
       "      <th>brand</th>\n",
       "      <th>mpn</th>\n",
       "      <th>product_full_name</th>\n",
       "      <th>description</th>\n",
       "      <th>brand_category</th>\n",
       "      <th>created_at</th>\n",
       "      <th>updated_at</th>\n",
       "      <th>deleted_at</th>\n",
       "      <th>brand_canonical_url</th>\n",
       "      <th>details</th>\n",
       "      <th>labels</th>\n",
       "      <th>bc_product_id</th>\n",
       "      <th>product_color_id</th>\n",
       "      <th>attribute_name</th>\n",
       "      <th>attribute_value</th>\n",
       "      <th>file</th>\n",
       "    </tr>\n",
       "  </thead>\n",
       "  <tbody>\n",
       "    <tr>\n",
       "      <th>0</th>\n",
       "      <td>01E5ZXP5H0BTEZT9QD2HRZJ47A</td>\n",
       "      <td>a.l.c</td>\n",
       "      <td>5529544</td>\n",
       "      <td>lennox high waist cotton linen pants</td>\n",
       "      <td>high-rise trousers tailored cool italian cotto...</td>\n",
       "      <td>unknown</td>\n",
       "      <td>2020-04-15 21:59:56.695000+00:00</td>\n",
       "      <td>2020-04-17 15:44:57.785000+00:00</td>\n",
       "      <td>2020-04-17 15:44:57.785000+00:00</td>\n",
       "      <td>https://shop.nordstrom.com/s/a-l-c-lennox-high...</td>\n",
       "      <td>true size high rise.31 inseam 14 leg opening 1...</td>\n",
       "      <td>[]</td>\n",
       "      <td>5021</td>\n",
       "      <td>01E5ZXP5JCREDC7WJVMWHK5Q40</td>\n",
       "      <td>materialclothing</td>\n",
       "      <td>linenblend</td>\n",
       "      <td>additional</td>\n",
       "    </tr>\n",
       "    <tr>\n",
       "      <th>1</th>\n",
       "      <td>01E5ZXP5H0BTEZT9QD2HRZJ47A</td>\n",
       "      <td>a.l.c</td>\n",
       "      <td>5529544</td>\n",
       "      <td>lennox high waist cotton linen pants</td>\n",
       "      <td>high-rise trousers tailored cool italian cotto...</td>\n",
       "      <td>unknown</td>\n",
       "      <td>2020-04-15 21:59:56.695000+00:00</td>\n",
       "      <td>2020-04-17 15:44:57.785000+00:00</td>\n",
       "      <td>2020-04-17 15:44:57.785000+00:00</td>\n",
       "      <td>https://shop.nordstrom.com/s/a-l-c-lennox-high...</td>\n",
       "      <td>true size high rise.31 inseam 14 leg opening 1...</td>\n",
       "      <td>[]</td>\n",
       "      <td>5021</td>\n",
       "      <td>01E5ZXP5JCREDC7WJVMWHK5Q40</td>\n",
       "      <td>materialclothing</td>\n",
       "      <td>cottonblend</td>\n",
       "      <td>additional</td>\n",
       "    </tr>\n",
       "    <tr>\n",
       "      <th>2</th>\n",
       "      <td>01E5ZXP5H0BTEZT9QD2HRZJ47A</td>\n",
       "      <td>a.l.c</td>\n",
       "      <td>5529544</td>\n",
       "      <td>lennox high waist cotton linen pants</td>\n",
       "      <td>high-rise trousers tailored cool italian cotto...</td>\n",
       "      <td>unknown</td>\n",
       "      <td>2020-04-15 21:59:56.695000+00:00</td>\n",
       "      <td>2020-04-17 15:44:57.785000+00:00</td>\n",
       "      <td>2020-04-17 15:44:57.785000+00:00</td>\n",
       "      <td>https://shop.nordstrom.com/s/a-l-c-lennox-high...</td>\n",
       "      <td>true size high rise.31 inseam 14 leg opening 1...</td>\n",
       "      <td>[]</td>\n",
       "      <td>5021</td>\n",
       "      <td>01E5ZXP5JCREDC7WJVMWHK5Q40</td>\n",
       "      <td>style</td>\n",
       "      <td>modern</td>\n",
       "      <td>additional</td>\n",
       "    </tr>\n",
       "  </tbody>\n",
       "</table>\n",
       "</div>"
      ],
      "text/plain": [
       "                   product_id  brand      mpn  \\\n",
       "0  01E5ZXP5H0BTEZT9QD2HRZJ47A  a.l.c  5529544   \n",
       "1  01E5ZXP5H0BTEZT9QD2HRZJ47A  a.l.c  5529544   \n",
       "2  01E5ZXP5H0BTEZT9QD2HRZJ47A  a.l.c  5529544   \n",
       "\n",
       "                      product_full_name  \\\n",
       "0  lennox high waist cotton linen pants   \n",
       "1  lennox high waist cotton linen pants   \n",
       "2  lennox high waist cotton linen pants   \n",
       "\n",
       "                                         description brand_category  \\\n",
       "0  high-rise trousers tailored cool italian cotto...        unknown   \n",
       "1  high-rise trousers tailored cool italian cotto...        unknown   \n",
       "2  high-rise trousers tailored cool italian cotto...        unknown   \n",
       "\n",
       "                         created_at                        updated_at  \\\n",
       "0  2020-04-15 21:59:56.695000+00:00  2020-04-17 15:44:57.785000+00:00   \n",
       "1  2020-04-15 21:59:56.695000+00:00  2020-04-17 15:44:57.785000+00:00   \n",
       "2  2020-04-15 21:59:56.695000+00:00  2020-04-17 15:44:57.785000+00:00   \n",
       "\n",
       "                         deleted_at  \\\n",
       "0  2020-04-17 15:44:57.785000+00:00   \n",
       "1  2020-04-17 15:44:57.785000+00:00   \n",
       "2  2020-04-17 15:44:57.785000+00:00   \n",
       "\n",
       "                                 brand_canonical_url  \\\n",
       "0  https://shop.nordstrom.com/s/a-l-c-lennox-high...   \n",
       "1  https://shop.nordstrom.com/s/a-l-c-lennox-high...   \n",
       "2  https://shop.nordstrom.com/s/a-l-c-lennox-high...   \n",
       "\n",
       "                                             details labels bc_product_id  \\\n",
       "0  true size high rise.31 inseam 14 leg opening 1...     []          5021   \n",
       "1  true size high rise.31 inseam 14 leg opening 1...     []          5021   \n",
       "2  true size high rise.31 inseam 14 leg opening 1...     []          5021   \n",
       "\n",
       "             product_color_id    attribute_name attribute_value        file  \n",
       "0  01E5ZXP5JCREDC7WJVMWHK5Q40  materialclothing      linenblend  additional  \n",
       "1  01E5ZXP5JCREDC7WJVMWHK5Q40  materialclothing     cottonblend  additional  \n",
       "2  01E5ZXP5JCREDC7WJVMWHK5Q40             style          modern  additional  "
      ]
     },
     "execution_count": 25,
     "metadata": {},
     "output_type": "execute_result"
    }
   ],
   "source": [
    "# Remove stopwords\n",
    "from nltk.corpus import stopwords\n",
    "from nltk import word_tokenize\n",
    "\n",
    "columns_list2 = ['brand','product_full_name','description','brand_category','details']\n",
    "nltk_stopwords = set(stopwords.words('english') + [\".\",\",\",\":\",\"''\",\"'s\",\"'\",\"``\",\"(\", \")\",\"]\",\n",
    "                                                   \"-\",\"!\",\"/\",\">\",\"<\",\";\",\"#\",\"...\",\"..\",\"?\",\"--\",\"[\",\"&\"])\n",
    "for column in columns_list2:\n",
    "    join_data[column] = join_data[column].apply(lambda x: ' '.join([word for word in word_tokenize(x) if word not in nltk_stopwords]))\n",
    "    \n",
    "join_data.head(3)"
   ]
  },
  {
   "cell_type": "code",
   "execution_count": 26,
   "metadata": {},
   "outputs": [],
   "source": [
    "# Lemmatization\n",
    "from nltk.stem import WordNetLemmatizer\n",
    "lemmatizer = WordNetLemmatizer()\n",
    "\n",
    "for column in columns_list2:\n",
    "    join_data[column] = join_data[column].apply(lambda x: ' '.join([lemmatizer.lemmatize(word) for word in word_tokenize(x)]))"
   ]
  },
  {
   "cell_type": "markdown",
   "metadata": {},
   "source": [
    "# III. Modelling"
   ]
  },
  {
   "cell_type": "code",
   "execution_count": 27,
   "metadata": {},
   "outputs": [
    {
     "data": {
      "text/plain": [
       "'a.l.c lennox high waist cotton linen pant unknown true size high rise.31 inseam 14 leg opening 12 front rise 15 1/2 back rise size 8 zip fly hook-and-bar closurefront slant pocket back welt pockets67 % cotton 33 % linendry cleanimportedvia c high-rise trouser tailored cool italian cotton-and-linen blend make refreshing addition work wardrobe'"
      ]
     },
     "execution_count": 27,
     "metadata": {},
     "output_type": "execute_result"
    }
   ],
   "source": [
    "# Michael's way of finding input texts you need (for reference) \n",
    "join_data['tag_info'] = join_data[['brand','product_full_name','brand_category','details','description']].apply(lambda x: ' '.join(x), axis=1)\n",
    "join_data['tag_info'][0]"
   ]
  },
  {
   "cell_type": "code",
   "execution_count": 28,
   "metadata": {},
   "outputs": [],
   "source": [
    "Style = join_data[join_data['attribute_name']=='style'][['tag_info', 'attribute_value']]"
   ]
  },
  {
   "cell_type": "code",
   "execution_count": 29,
   "metadata": {},
   "outputs": [
    {
     "data": {
      "text/plain": [
       "(25539, 2)"
      ]
     },
     "execution_count": 29,
     "metadata": {},
     "output_type": "execute_result"
    }
   ],
   "source": [
    "Style.shape"
   ]
  },
  {
   "cell_type": "code",
   "execution_count": 30,
   "metadata": {},
   "outputs": [],
   "source": [
    "Style = join_data[join_data['attribute_name']=='style'][['tag_info', 'attribute_value']].drop_duplicates()"
   ]
  },
  {
   "cell_type": "code",
   "execution_count": 31,
   "metadata": {},
   "outputs": [
    {
     "data": {
      "text/plain": [
       "(10971, 2)"
      ]
     },
     "execution_count": 31,
     "metadata": {},
     "output_type": "execute_result"
    }
   ],
   "source": [
    "Style.shape"
   ]
  },
  {
   "cell_type": "code",
   "execution_count": 32,
   "metadata": {},
   "outputs": [],
   "source": [
    "stylelist = list(np.unique(Style['attribute_value']))"
   ]
  },
  {
   "cell_type": "code",
   "execution_count": 33,
   "metadata": {},
   "outputs": [
    {
     "data": {
      "text/plain": [
       "['androgynous',\n",
       " 'athleisure',\n",
       " 'boho',\n",
       " 'business casual',\n",
       " 'casual',\n",
       " 'classic',\n",
       " 'edgy',\n",
       " 'glam',\n",
       " 'modern',\n",
       " 'retro',\n",
       " 'romantic']"
      ]
     },
     "execution_count": 33,
     "metadata": {},
     "output_type": "execute_result"
    }
   ],
   "source": [
    "stylelist"
   ]
  },
  {
   "cell_type": "code",
   "execution_count": 34,
   "metadata": {},
   "outputs": [],
   "source": [
    "stylelist = list(np.unique(Style['attribute_value']))"
   ]
  },
  {
   "cell_type": "code",
   "execution_count": 35,
   "metadata": {},
   "outputs": [],
   "source": [
    "Style.reset_index(drop=True, inplace=True)"
   ]
  },
  {
   "cell_type": "markdown",
   "metadata": {},
   "source": [
    "## LSTM"
   ]
  },
  {
   "cell_type": "code",
   "execution_count": 199,
   "metadata": {},
   "outputs": [
    {
     "name": "stdout",
     "output_type": "stream",
     "text": [
      "Loaded 400000 word vectors.\n"
     ]
    }
   ],
   "source": [
    "# Load in GloVe Vectors\n",
    "def load_glove_vectors():\n",
    "    embeddings_index = {}\n",
    "    with open('glove.6B.100d.txt', encoding='utf-8') as f:\n",
    "        for line in f:\n",
    "            values = line.split()\n",
    "            word = values[0]\n",
    "            coefs = asarray(values[1:], dtype='float32')\n",
    "            embeddings_index[word] = coefs\n",
    "    print('Loaded %s word vectors.' % len(embeddings_index))\n",
    "    return embeddings_index\n",
    "\n",
    "embeddings_index = load_glove_vectors()"
   ]
  },
  {
   "cell_type": "code",
   "execution_count": 98,
   "metadata": {},
   "outputs": [
    {
     "name": "stderr",
     "output_type": "stream",
     "text": [
      "C:\\ProgramData\\Anaconda3\\lib\\site-packages\\ipykernel_launcher.py:3: SettingWithCopyWarning: \n",
      "A value is trying to be set on a copy of a slice from a DataFrame\n",
      "\n",
      "See the caveats in the documentation: https://pandas.pydata.org/pandas-docs/stable/user_guide/indexing.html#returning-a-view-versus-a-copy\n",
      "  This is separate from the ipykernel package so we can avoid doing imports until\n"
     ]
    }
   ],
   "source": [
    "for sty in np.unique(Style['attribute_value']):\n",
    "    Style[sty] = 0\n",
    "    Style[sty][Style['attribute_value']==sty]=1"
   ]
  },
  {
   "cell_type": "code",
   "execution_count": 99,
   "metadata": {
    "scrolled": true
   },
   "outputs": [
    {
     "data": {
      "text/html": [
       "<div>\n",
       "<style scoped>\n",
       "    .dataframe tbody tr th:only-of-type {\n",
       "        vertical-align: middle;\n",
       "    }\n",
       "\n",
       "    .dataframe tbody tr th {\n",
       "        vertical-align: top;\n",
       "    }\n",
       "\n",
       "    .dataframe thead th {\n",
       "        text-align: right;\n",
       "    }\n",
       "</style>\n",
       "<table border=\"1\" class=\"dataframe\">\n",
       "  <thead>\n",
       "    <tr style=\"text-align: right;\">\n",
       "      <th></th>\n",
       "      <th>tag_info</th>\n",
       "      <th>attribute_value</th>\n",
       "      <th>androgynous</th>\n",
       "      <th>athleisure</th>\n",
       "      <th>boho</th>\n",
       "      <th>business casual</th>\n",
       "      <th>casual</th>\n",
       "      <th>classic</th>\n",
       "      <th>edgy</th>\n",
       "      <th>glam</th>\n",
       "      <th>modern</th>\n",
       "      <th>retro</th>\n",
       "      <th>romantic</th>\n",
       "    </tr>\n",
       "  </thead>\n",
       "  <tbody>\n",
       "    <tr>\n",
       "      <th>0</th>\n",
       "      <td>a.l.c lennox high waist cotton linen pant unkn...</td>\n",
       "      <td>modern</td>\n",
       "      <td>0</td>\n",
       "      <td>0</td>\n",
       "      <td>0</td>\n",
       "      <td>0</td>\n",
       "      <td>0</td>\n",
       "      <td>0</td>\n",
       "      <td>0</td>\n",
       "      <td>0</td>\n",
       "      <td>1</td>\n",
       "      <td>0</td>\n",
       "      <td>0</td>\n",
       "    </tr>\n",
       "    <tr>\n",
       "      <th>1</th>\n",
       "      <td>a.l.c lennox high waist cotton linen pant unkn...</td>\n",
       "      <td>business casual</td>\n",
       "      <td>0</td>\n",
       "      <td>0</td>\n",
       "      <td>0</td>\n",
       "      <td>1</td>\n",
       "      <td>0</td>\n",
       "      <td>0</td>\n",
       "      <td>0</td>\n",
       "      <td>0</td>\n",
       "      <td>0</td>\n",
       "      <td>0</td>\n",
       "      <td>0</td>\n",
       "    </tr>\n",
       "    <tr>\n",
       "      <th>2</th>\n",
       "      <td>a.l.c lennox high waist cotton linen pant unkn...</td>\n",
       "      <td>classic</td>\n",
       "      <td>0</td>\n",
       "      <td>0</td>\n",
       "      <td>0</td>\n",
       "      <td>0</td>\n",
       "      <td>0</td>\n",
       "      <td>1</td>\n",
       "      <td>0</td>\n",
       "      <td>0</td>\n",
       "      <td>0</td>\n",
       "      <td>0</td>\n",
       "      <td>0</td>\n",
       "    </tr>\n",
       "    <tr>\n",
       "      <th>3</th>\n",
       "      <td>banana republic mock-neck sweater top unknown ...</td>\n",
       "      <td>classic</td>\n",
       "      <td>0</td>\n",
       "      <td>0</td>\n",
       "      <td>0</td>\n",
       "      <td>0</td>\n",
       "      <td>0</td>\n",
       "      <td>1</td>\n",
       "      <td>0</td>\n",
       "      <td>0</td>\n",
       "      <td>0</td>\n",
       "      <td>0</td>\n",
       "      <td>0</td>\n",
       "    </tr>\n",
       "    <tr>\n",
       "      <th>4</th>\n",
       "      <td>banana republic mock-neck sweater top unknown ...</td>\n",
       "      <td>business casual</td>\n",
       "      <td>0</td>\n",
       "      <td>0</td>\n",
       "      <td>0</td>\n",
       "      <td>1</td>\n",
       "      <td>0</td>\n",
       "      <td>0</td>\n",
       "      <td>0</td>\n",
       "      <td>0</td>\n",
       "      <td>0</td>\n",
       "      <td>0</td>\n",
       "      <td>0</td>\n",
       "    </tr>\n",
       "    <tr>\n",
       "      <th>5</th>\n",
       "      <td>simon miller rost belted short unknown true si...</td>\n",
       "      <td>modern</td>\n",
       "      <td>0</td>\n",
       "      <td>0</td>\n",
       "      <td>0</td>\n",
       "      <td>0</td>\n",
       "      <td>0</td>\n",
       "      <td>0</td>\n",
       "      <td>0</td>\n",
       "      <td>0</td>\n",
       "      <td>1</td>\n",
       "      <td>0</td>\n",
       "      <td>0</td>\n",
       "    </tr>\n",
       "    <tr>\n",
       "      <th>6</th>\n",
       "      <td>simon miller rost belted short unknown true si...</td>\n",
       "      <td>casual</td>\n",
       "      <td>0</td>\n",
       "      <td>0</td>\n",
       "      <td>0</td>\n",
       "      <td>0</td>\n",
       "      <td>1</td>\n",
       "      <td>0</td>\n",
       "      <td>0</td>\n",
       "      <td>0</td>\n",
       "      <td>0</td>\n",
       "      <td>0</td>\n",
       "      <td>0</td>\n",
       "    </tr>\n",
       "    <tr>\n",
       "      <th>7</th>\n",
       "      <td>simon miller rost belted short unknown true si...</td>\n",
       "      <td>androgynous</td>\n",
       "      <td>1</td>\n",
       "      <td>0</td>\n",
       "      <td>0</td>\n",
       "      <td>0</td>\n",
       "      <td>0</td>\n",
       "      <td>0</td>\n",
       "      <td>0</td>\n",
       "      <td>0</td>\n",
       "      <td>0</td>\n",
       "      <td>0</td>\n",
       "      <td>0</td>\n",
       "    </tr>\n",
       "    <tr>\n",
       "      <th>8</th>\n",
       "      <td>a.l.c minelli silk sleeveless top unknown true...</td>\n",
       "      <td>modern</td>\n",
       "      <td>0</td>\n",
       "      <td>0</td>\n",
       "      <td>0</td>\n",
       "      <td>0</td>\n",
       "      <td>0</td>\n",
       "      <td>0</td>\n",
       "      <td>0</td>\n",
       "      <td>0</td>\n",
       "      <td>1</td>\n",
       "      <td>0</td>\n",
       "      <td>0</td>\n",
       "    </tr>\n",
       "    <tr>\n",
       "      <th>9</th>\n",
       "      <td>a.l.c minelli silk sleeveless top unknown true...</td>\n",
       "      <td>boho</td>\n",
       "      <td>0</td>\n",
       "      <td>0</td>\n",
       "      <td>1</td>\n",
       "      <td>0</td>\n",
       "      <td>0</td>\n",
       "      <td>0</td>\n",
       "      <td>0</td>\n",
       "      <td>0</td>\n",
       "      <td>0</td>\n",
       "      <td>0</td>\n",
       "      <td>0</td>\n",
       "    </tr>\n",
       "  </tbody>\n",
       "</table>\n",
       "</div>"
      ],
      "text/plain": [
       "                                            tag_info  attribute_value  \\\n",
       "0  a.l.c lennox high waist cotton linen pant unkn...           modern   \n",
       "1  a.l.c lennox high waist cotton linen pant unkn...  business casual   \n",
       "2  a.l.c lennox high waist cotton linen pant unkn...          classic   \n",
       "3  banana republic mock-neck sweater top unknown ...          classic   \n",
       "4  banana republic mock-neck sweater top unknown ...  business casual   \n",
       "5  simon miller rost belted short unknown true si...           modern   \n",
       "6  simon miller rost belted short unknown true si...           casual   \n",
       "7  simon miller rost belted short unknown true si...      androgynous   \n",
       "8  a.l.c minelli silk sleeveless top unknown true...           modern   \n",
       "9  a.l.c minelli silk sleeveless top unknown true...             boho   \n",
       "\n",
       "   androgynous  athleisure  boho  business casual  casual  classic  edgy  \\\n",
       "0            0           0     0                0       0        0     0   \n",
       "1            0           0     0                1       0        0     0   \n",
       "2            0           0     0                0       0        1     0   \n",
       "3            0           0     0                0       0        1     0   \n",
       "4            0           0     0                1       0        0     0   \n",
       "5            0           0     0                0       0        0     0   \n",
       "6            0           0     0                0       1        0     0   \n",
       "7            1           0     0                0       0        0     0   \n",
       "8            0           0     0                0       0        0     0   \n",
       "9            0           0     1                0       0        0     0   \n",
       "\n",
       "   glam  modern  retro  romantic  \n",
       "0     0       1      0         0  \n",
       "1     0       0      0         0  \n",
       "2     0       0      0         0  \n",
       "3     0       0      0         0  \n",
       "4     0       0      0         0  \n",
       "5     0       1      0         0  \n",
       "6     0       0      0         0  \n",
       "7     0       0      0         0  \n",
       "8     0       1      0         0  \n",
       "9     0       0      0         0  "
      ]
     },
     "execution_count": 99,
     "metadata": {},
     "output_type": "execute_result"
    }
   ],
   "source": [
    "Style.head(10)"
   ]
  },
  {
   "cell_type": "code",
   "execution_count": 347,
   "metadata": {},
   "outputs": [],
   "source": [
    "androgynous_data = Style.groupby('tag_info').agg(androgynous = pd.NamedAgg(column='androgynous', aggfunc='max')).reset_index()"
   ]
  },
  {
   "cell_type": "code",
   "execution_count": 348,
   "metadata": {},
   "outputs": [
    {
     "data": {
      "text/html": [
       "<div>\n",
       "<style scoped>\n",
       "    .dataframe tbody tr th:only-of-type {\n",
       "        vertical-align: middle;\n",
       "    }\n",
       "\n",
       "    .dataframe tbody tr th {\n",
       "        vertical-align: top;\n",
       "    }\n",
       "\n",
       "    .dataframe thead th {\n",
       "        text-align: right;\n",
       "    }\n",
       "</style>\n",
       "<table border=\"1\" class=\"dataframe\">\n",
       "  <thead>\n",
       "    <tr style=\"text-align: right;\">\n",
       "      <th></th>\n",
       "      <th>tag_info</th>\n",
       "      <th>androgynous</th>\n",
       "    </tr>\n",
       "  </thead>\n",
       "  <tbody>\n",
       "    <tr>\n",
       "      <th>0</th>\n",
       "      <td>360 cashmere ella plaid crop sweater womensapp...</td>\n",
       "      <td>1</td>\n",
       "    </tr>\n",
       "    <tr>\n",
       "      <th>1</th>\n",
       "      <td>7 mankind cowl satin tank top womensapparel/to...</td>\n",
       "      <td>0</td>\n",
       "    </tr>\n",
       "    <tr>\n",
       "      <th>2</th>\n",
       "      <td>7 mankind® 7 mankind high waist skinny jean un...</td>\n",
       "      <td>0</td>\n",
       "    </tr>\n",
       "    <tr>\n",
       "      <th>3</th>\n",
       "      <td>7 mankind® 7 mankind modern dojo wide leg jean...</td>\n",
       "      <td>0</td>\n",
       "    </tr>\n",
       "    <tr>\n",
       "      <th>4</th>\n",
       "      <td>7 mankind® alexa crop wide leg high waist jean...</td>\n",
       "      <td>0</td>\n",
       "    </tr>\n",
       "  </tbody>\n",
       "</table>\n",
       "</div>"
      ],
      "text/plain": [
       "                                            tag_info  androgynous\n",
       "0  360 cashmere ella plaid crop sweater womensapp...            1\n",
       "1  7 mankind cowl satin tank top womensapparel/to...            0\n",
       "2  7 mankind® 7 mankind high waist skinny jean un...            0\n",
       "3  7 mankind® 7 mankind modern dojo wide leg jean...            0\n",
       "4  7 mankind® alexa crop wide leg high waist jean...            0"
      ]
     },
     "execution_count": 348,
     "metadata": {},
     "output_type": "execute_result"
    }
   ],
   "source": [
    "androgynous_data.head(5)"
   ]
  },
  {
   "cell_type": "code",
   "execution_count": 349,
   "metadata": {},
   "outputs": [],
   "source": [
    "androgynous_data1 = androgynous_data[androgynous_data['androgynous']==1]"
   ]
  },
  {
   "cell_type": "code",
   "execution_count": 350,
   "metadata": {},
   "outputs": [],
   "source": [
    "androgynous_data2 = androgynous_data[androgynous_data['androgynous']==0].sample(round(len(androgynous_data1)*1.5), random_state=123)"
   ]
  },
  {
   "cell_type": "code",
   "execution_count": 351,
   "metadata": {},
   "outputs": [],
   "source": [
    "androgynous_data = pd.concat([androgynous_data1, androgynous_data2])"
   ]
  },
  {
   "cell_type": "code",
   "execution_count": 352,
   "metadata": {},
   "outputs": [],
   "source": [
    "tag_list = list(androgynous_data['tag_info'])"
   ]
  },
  {
   "cell_type": "code",
   "execution_count": 353,
   "metadata": {},
   "outputs": [],
   "source": [
    "# Tokenize the Text\n",
    "from keras.preprocessing.text import Tokenizer\n",
    "tokenizer = Tokenizer(num_words=5000, oov_token=\"UNKNOWN_TOKEN\")\n",
    "tokenizer.fit_on_texts(tag_list)"
   ]
  },
  {
   "cell_type": "code",
   "execution_count": 354,
   "metadata": {},
   "outputs": [
    {
     "name": "stdout",
     "output_type": "stream",
     "text": [
      "143\n"
     ]
    }
   ],
   "source": [
    "# Integer Encode Tokens\n",
    "from typing import List\n",
    "def integer_encode_documents(docs, tokenizer):\n",
    "    return tokenizer.texts_to_sequences(docs)\n",
    "\n",
    "# Get Max Length Per Token\n",
    "def get_max_token_length_per_doc(docs: List[List[str]])-> int:\n",
    "    return max(list(map(lambda x: len(x.split()), docs)))\n",
    "\n",
    "# get the max length in terms of token length\n",
    "max_length = get_max_token_length_per_doc(tag_list)\n",
    "\n",
    "print(max_length)"
   ]
  },
  {
   "cell_type": "code",
   "execution_count": 355,
   "metadata": {},
   "outputs": [],
   "source": [
    "############################ CHANGE PADDING HERE\n",
    "\n",
    "# integer encode the documents\n",
    "encoded_docs = integer_encode_documents(tag_list, tokenizer)\n",
    "# this is a list of lists, the numbers represent the index position of that word.\n",
    "# for instance, 33 means the 33rd word in the vocabulary\n",
    "# Notice the last document has 4 numbers, since it is a 4 word document: Could have done better.\n",
    "padded_docs = pad_sequences(encoded_docs, maxlen=max_length, padding='post')"
   ]
  },
  {
   "cell_type": "code",
   "execution_count": 356,
   "metadata": {},
   "outputs": [],
   "source": [
    "from keras.utils import to_categorical\n",
    "from sklearn.preprocessing import LabelEncoder\n",
    "encoder = LabelEncoder()\n",
    "labels = androgynous_data['androgynous']\n",
    "labels = to_categorical(encoder.fit_transform(labels))"
   ]
  },
  {
   "cell_type": "code",
   "execution_count": 357,
   "metadata": {},
   "outputs": [],
   "source": [
    "from sklearn.model_selection import train_test_split\n",
    "X_train, X_test, y_train, y_test = train_test_split(padded_docs, labels, test_size=0.1, random_state=23)"
   ]
  },
  {
   "cell_type": "code",
   "execution_count": 358,
   "metadata": {},
   "outputs": [],
   "source": [
    "# Use smote\n",
    "# from imblearn.over_sampling import SMOTE\n",
    "# smo = SMOTE(random_state=123)\n",
    "# X_train, y_train = smo.fit_sample(X_train, y_train)\n",
    "# y_train = to_categorical(y_train)"
   ]
  },
  {
   "cell_type": "code",
   "execution_count": 359,
   "metadata": {},
   "outputs": [],
   "source": [
    "# Import Keras Toolkit\n",
    "from random import randint\n",
    "from numpy import array, argmax, asarray, zeros\n",
    "from keras.models import Sequential\n",
    "from keras.layers import Dense\n",
    "from keras.layers import Embedding"
   ]
  },
  {
   "cell_type": "code",
   "execution_count": 360,
   "metadata": {},
   "outputs": [],
   "source": [
    "VOCAB_SIZE = int(len(tokenizer.word_index) * 1.1)"
   ]
  },
  {
   "cell_type": "code",
   "execution_count": 361,
   "metadata": {},
   "outputs": [],
   "source": [
    "# Load in Embeddings\n",
    "# create a weight matrix for words in training docs\n",
    "embedding_matrix = zeros((VOCAB_SIZE, 100))\n",
    "for word, i in tokenizer.word_index.items():\n",
    "    embedding_vector = embeddings_index.get(word)\n",
    "    if embedding_vector is not None: # check that it is an actual word that we have embeddings for\n",
    "        embedding_matrix[i] = embedding_vector"
   ]
  },
  {
   "cell_type": "code",
   "execution_count": 362,
   "metadata": {},
   "outputs": [],
   "source": [
    "# Define in Model\n",
    "\n",
    "from keras.layers.recurrent import SimpleRNN, LSTM\n",
    "from keras.layers import Flatten, Masking\n",
    "# define model\n",
    "\n",
    "def make_multiple_classification_rnn_model(plot=False):\n",
    "    model = Sequential()\n",
    "    model.add(Embedding(VOCAB_SIZE, 100, weights=[embedding_matrix], input_length=max_length, trainable=False))\n",
    "    model.add(Masking(mask_value=0.0)) # masking layer, masks any words that don't have an embedding as 0s.\n",
    "    model.add(SimpleRNN(units=64, input_shape=(1, max_length)))\n",
    "    # model.add(Dense(16))\n",
    "    model.add(Dense(8))\n",
    "    model.add(Dense(2, activation='sigmoid'))\n",
    "    \n",
    "    # Compile the model\n",
    "    model.compile(\n",
    "    optimizer='adam', loss='categorical_crossentropy', metrics=['accuracy'])\n",
    "    # summarize the model\n",
    "    model.summary()\n",
    "    \n",
    "    if plot:\n",
    "        plot_model(model, to_file='model.png', show_shapes=True)\n",
    "    return model\n",
    "\n",
    "def make_lstm_classification_model(plot=False):\n",
    "    model = Sequential()\n",
    "    model.add(Embedding(VOCAB_SIZE, 100, weights=[embedding_matrix], input_length=max_length, trainable=False))\n",
    "    model.add(Masking(mask_value=0.0)) # masking layer, masks any words that don't have an embedding as 0s.\n",
    "    model.add(LSTM(units=32, input_shape=(1, max_length)))\n",
    "    # model.add(Dense(16))\n",
    "    model.add(Dense(8))\n",
    "    model.add(Dense(2, activation='sigmoid'))\n",
    "    \n",
    "    # Compile the model\n",
    "    model.compile(\n",
    "    optimizer='adam', loss='categorical_crossentropy', metrics=['accuracy'])\n",
    "    # summarize the model\n",
    "    model.summary()\n",
    "    \n",
    "    if plot:\n",
    "        plot_model(model, to_file='model.png', show_shapes=True)\n",
    "    return model"
   ]
  },
  {
   "cell_type": "markdown",
   "metadata": {},
   "source": [
    "## Compile Model"
   ]
  },
  {
   "cell_type": "markdown",
   "metadata": {},
   "source": [
    "#### Helpful Rule of Thumb for Defining # of Parameters in LSTM:\n",
    "\n",
    "$$\n",
    "W = 4d×(n+d)\n",
    "$$\n",
    "Where $d$ is the number of memory cells, and $N$ is the number of dimensions for a data point."
   ]
  },
  {
   "cell_type": "code",
   "execution_count": 363,
   "metadata": {},
   "outputs": [
    {
     "name": "stdout",
     "output_type": "stream",
     "text": [
      "Model: \"sequential_11\"\n",
      "_________________________________________________________________\n",
      "Layer (type)                 Output Shape              Param #   \n",
      "=================================================================\n",
      "embedding_11 (Embedding)     (None, 143, 100)          735600    \n",
      "_________________________________________________________________\n",
      "masking_11 (Masking)         (None, 143, 100)          0         \n",
      "_________________________________________________________________\n",
      "lstm_11 (LSTM)               (None, 32)                17024     \n",
      "_________________________________________________________________\n",
      "dense_21 (Dense)             (None, 8)                 264       \n",
      "_________________________________________________________________\n",
      "dense_22 (Dense)             (None, 2)                 18        \n",
      "=================================================================\n",
      "Total params: 752,906\n",
      "Trainable params: 17,306\n",
      "Non-trainable params: 735,600\n",
      "_________________________________________________________________\n"
     ]
    }
   ],
   "source": [
    "model = make_lstm_classification_model()"
   ]
  },
  {
   "cell_type": "markdown",
   "metadata": {},
   "source": [
    "## Fit the Model"
   ]
  },
  {
   "cell_type": "code",
   "execution_count": 364,
   "metadata": {},
   "outputs": [
    {
     "name": "stdout",
     "output_type": "stream",
     "text": [
      "Train on 1494 samples, validate on 166 samples\n",
      "Epoch 1/15\n",
      "1494/1494 [==============================] - 5s 3ms/step - loss: 0.6687 - accuracy: 0.5964 - val_loss: 0.6893 - val_accuracy: 0.5542\n",
      "Epoch 2/15\n",
      "1494/1494 [==============================] - 4s 2ms/step - loss: 0.6413 - accuracy: 0.6359 - val_loss: 0.6306 - val_accuracy: 0.6145\n",
      "Epoch 3/15\n",
      "1494/1494 [==============================] - 4s 2ms/step - loss: 0.6014 - accuracy: 0.6627 - val_loss: 0.5746 - val_accuracy: 0.6988\n",
      "Epoch 4/15\n",
      "1494/1494 [==============================] - 4s 3ms/step - loss: 0.5557 - accuracy: 0.7122 - val_loss: 0.5577 - val_accuracy: 0.6867\n",
      "Epoch 5/15\n",
      "1494/1494 [==============================] - 4s 3ms/step - loss: 0.5076 - accuracy: 0.7530 - val_loss: 0.5242 - val_accuracy: 0.7349\n",
      "Epoch 6/15\n",
      "1494/1494 [==============================] - 4s 2ms/step - loss: 0.4698 - accuracy: 0.7704 - val_loss: 0.5911 - val_accuracy: 0.6928\n",
      "Epoch 7/15\n",
      "1494/1494 [==============================] - 4s 2ms/step - loss: 0.4384 - accuracy: 0.7912 - val_loss: 0.5022 - val_accuracy: 0.7892\n",
      "Epoch 8/15\n",
      "1494/1494 [==============================] - 4s 2ms/step - loss: 0.4089 - accuracy: 0.8246 - val_loss: 0.5404 - val_accuracy: 0.7349\n",
      "Epoch 9/15\n",
      "1494/1494 [==============================] - 4s 3ms/step - loss: 0.3818 - accuracy: 0.8193 - val_loss: 0.5488 - val_accuracy: 0.7711\n",
      "Epoch 10/15\n",
      "1494/1494 [==============================] - 4s 3ms/step - loss: 0.3394 - accuracy: 0.8461 - val_loss: 0.5671 - val_accuracy: 0.7651\n",
      "Epoch 11/15\n",
      "1494/1494 [==============================] - 4s 2ms/step - loss: 0.3240 - accuracy: 0.8554 - val_loss: 0.5516 - val_accuracy: 0.7530\n",
      "Epoch 12/15\n",
      "1494/1494 [==============================] - 4s 2ms/step - loss: 0.2843 - accuracy: 0.8829 - val_loss: 0.6848 - val_accuracy: 0.7590\n",
      "Epoch 13/15\n",
      "1494/1494 [==============================] - 4s 3ms/step - loss: 0.2822 - accuracy: 0.8815 - val_loss: 0.6264 - val_accuracy: 0.7410\n",
      "Epoch 14/15\n",
      "1494/1494 [==============================] - 4s 2ms/step - loss: 0.2302 - accuracy: 0.9096 - val_loss: 0.6701 - val_accuracy: 0.7470\n",
      "Epoch 15/15\n",
      "1494/1494 [==============================] - 4s 2ms/step - loss: 0.2124 - accuracy: 0.9190 - val_loss: 0.6952 - val_accuracy: 0.7289\n"
     ]
    }
   ],
   "source": [
    "# fit the model\n",
    "history = model.fit(X_train, y_train,validation_split = 0.1, epochs=15, verbose=1)"
   ]
  },
  {
   "cell_type": "code",
   "execution_count": 365,
   "metadata": {
    "scrolled": true
   },
   "outputs": [
    {
     "data": {
      "image/png": "[encoded data removed]",
      "text/plain": [
       "<Figure size 432x288 with 1 Axes>"
      ]
     },
     "metadata": {
      "needs_background": "light"
     },
     "output_type": "display_data"
    }
   ],
   "source": [
    "import keras\n",
    "from matplotlib import pyplot as plt\n",
    "\n",
    "def plot_fit_history(history):\n",
    "    plt.plot(history.history['accuracy'])\n",
    "    plt.plot(history.history['val_accuracy'])\n",
    "    plt.title('model accuracy')\n",
    "    plt.ylabel('accuracy')\n",
    "    plt.xlabel('epoch')\n",
    "    plt.legend(['train', 'val'], loc='upper left')\n",
    "    plt.show()\n",
    "plot_fit_history(history)"
   ]
  },
  {
   "cell_type": "code",
   "execution_count": 366,
   "metadata": {},
   "outputs": [
    {
     "name": "stdout",
     "output_type": "stream",
     "text": [
      "185/185 [==============================] - 0s 873us/step\n",
      "Accuracy: 72.432435\n"
     ]
    }
   ],
   "source": [
    "# evaluate the model\n",
    "loss, accuracy = model.evaluate(X_test, y_test, verbose=1)\n",
    "print('Accuracy: %f' % (accuracy*100))"
   ]
  },
  {
   "cell_type": "code",
   "execution_count": 367,
   "metadata": {},
   "outputs": [],
   "source": [
    "pred_prob = model.predict(X_test, verbose = 0)"
   ]
  },
  {
   "cell_type": "code",
   "execution_count": 368,
   "metadata": {},
   "outputs": [
    {
     "data": {
      "text/plain": [
       "array([[0.04446846, 0.27163857],\n",
       "       [0.5144995 , 0.00883508],\n",
       "       [0.04454634, 0.713166  ],\n",
       "       [0.03167582, 0.4782149 ],\n",
       "       [0.8771125 , 0.0024575 ],\n",
       "       [0.15399185, 0.05233788],\n",
       "       [0.00376213, 0.24723393],\n",
       "       [0.37055007, 0.37748793],\n",
       "       [0.15586042, 0.00384307],\n",
       "       [0.06693441, 0.1450625 ]], dtype=float32)"
      ]
     },
     "execution_count": 368,
     "metadata": {},
     "output_type": "execute_result"
    }
   ],
   "source": [
    "pred_prob[0:10]"
   ]
  },
  {
   "cell_type": "code",
   "execution_count": 369,
   "metadata": {},
   "outputs": [
    {
     "data": {
      "text/plain": [
       "0.6"
      ]
     },
     "execution_count": 369,
     "metadata": {},
     "output_type": "execute_result"
    }
   ],
   "source": [
    "1-np.mean(androgynous_data['androgynous'])"
   ]
  },
  {
   "cell_type": "code",
   "execution_count": 370,
   "metadata": {},
   "outputs": [],
   "source": [
    "y_prob = model.predict(X_test) \n",
    "y_classes = y_prob.argmax(axis=-1)"
   ]
  },
  {
   "cell_type": "code",
   "execution_count": 371,
   "metadata": {},
   "outputs": [],
   "source": [
    "ytest = [np.argmax(y, axis=None, out=None) for y in y_test]"
   ]
  },
  {
   "cell_type": "code",
   "execution_count": 372,
   "metadata": {},
   "outputs": [
    {
     "data": {
      "text/plain": [
       "array([[81, 31],\n",
       "       [20, 53]], dtype=int64)"
      ]
     },
     "execution_count": 372,
     "metadata": {},
     "output_type": "execute_result"
    }
   ],
   "source": [
    "import sklearn\n",
    "sklearn.metrics.confusion_matrix(ytest, y_classes)"
   ]
  },
  {
   "cell_type": "code",
   "execution_count": 373,
   "metadata": {},
   "outputs": [
    {
     "data": {
      "text/plain": [
       "(81, 31, 20, 53)"
      ]
     },
     "execution_count": 373,
     "metadata": {},
     "output_type": "execute_result"
    }
   ],
   "source": [
    "tn, fp, fn, tp = sklearn.metrics.confusion_matrix(ytest, y_classes).ravel()\n",
    "(tn, fp, fn, tp)"
   ]
  },
  {
   "cell_type": "code",
   "execution_count": 374,
   "metadata": {},
   "outputs": [
    {
     "data": {
      "text/plain": [
       "0.7243243243243244"
      ]
     },
     "execution_count": 374,
     "metadata": {},
     "output_type": "execute_result"
    }
   ],
   "source": [
    "# acc\n",
    "sklearn.metrics. accuracy_score(ytest, y_classes)"
   ]
  },
  {
   "cell_type": "code",
   "execution_count": 375,
   "metadata": {},
   "outputs": [
    {
     "data": {
      "text/plain": [
       "0.6309523809523809"
      ]
     },
     "execution_count": 375,
     "metadata": {},
     "output_type": "execute_result"
    }
   ],
   "source": [
    "# precision \n",
    "sklearn.metrics.precision_score(ytest, y_classes)"
   ]
  },
  {
   "cell_type": "code",
   "execution_count": 376,
   "metadata": {},
   "outputs": [
    {
     "data": {
      "text/plain": [
       "0.726027397260274"
      ]
     },
     "execution_count": 376,
     "metadata": {},
     "output_type": "execute_result"
    }
   ],
   "source": [
    "# recall\n",
    "sklearn.metrics.recall_score(ytest, y_classes)"
   ]
  },
  {
   "cell_type": "code",
   "execution_count": 377,
   "metadata": {},
   "outputs": [
    {
     "data": {
      "text/plain": [
       "0.75"
      ]
     },
     "execution_count": 377,
     "metadata": {},
     "output_type": "execute_result"
    }
   ],
   "source": [
    "# auc\n",
    "sklearn.metrics.roc_auc_score(ytest, [y[1] for y in y_prob])"
   ]
  },
  {
   "cell_type": "code",
   "execution_count": null,
   "metadata": {},
   "outputs": [],
   "source": []
  },
  {
   "cell_type": "code",
   "execution_count": null,
   "metadata": {},
   "outputs": [],
   "source": []
  },
  {
   "cell_type": "markdown",
   "metadata": {},
   "source": [
    "### Try different dense layer - Actually could try more adjustment if we have more time & resources"
   ]
  },
  {
   "cell_type": "code",
   "execution_count": 389,
   "metadata": {},
   "outputs": [
    {
     "name": "stdout",
     "output_type": "stream",
     "text": [
      "4 =========================\n",
      "acc: 0.740541\n",
      "precision: 0.689683\n",
      "recall: 0.626027\n",
      "auc: 0.794998\n",
      "12 =========================\n",
      "acc: 0.739730\n",
      "precision: 0.681197\n",
      "recall: 0.651370\n",
      "auc: 0.791249\n",
      "20 =========================\n",
      "acc: 0.740360\n",
      "precision: 0.678781\n",
      "recall: 0.661187\n",
      "auc: 0.790431\n",
      "28 =========================\n",
      "acc: 0.739730\n",
      "precision: 0.675626\n",
      "recall: 0.665753\n",
      "auc: 0.787420\n",
      "36 =========================\n",
      "acc: 0.737297\n",
      "precision: 0.673547\n",
      "recall: 0.657808\n",
      "auc: 0.785856\n"
     ]
    }
   ],
   "source": [
    "acclist = []\n",
    "precisionlist = []\n",
    "recalllist = []\n",
    "auclist = []\n",
    "for dense_num in range(4, 40, 8):\n",
    "    print(dense_num,'=========================')\n",
    "    for loop in range(10):\n",
    "        androgynous_data = Style.groupby('tag_info').agg(androgynous = pd.NamedAgg(column='androgynous', aggfunc='max')).reset_index()\n",
    "        androgynous_data1 = androgynous_data[androgynous_data['androgynous']==1]\n",
    "        androgynous_data2 = androgynous_data[androgynous_data['androgynous']==0].sample(round(len(androgynous_data1)*1.5), random_state=123)\n",
    "        androgynous_data = pd.concat([androgynous_data1, androgynous_data2])\n",
    "        tag_list = list(androgynous_data['tag_info'])\n",
    "\n",
    "        # Tokenize the Text\n",
    "        tokenizer = Tokenizer(num_words=5000, oov_token=\"UNKNOWN_TOKEN\")\n",
    "        tokenizer.fit_on_texts(tag_list)\n",
    "\n",
    "        # get the max length in terms of token length\n",
    "        max_length = get_max_token_length_per_doc(tag_list)\n",
    "\n",
    "        ############################ CHANGE PADDING HERE\n",
    "\n",
    "        # integer encode the documents\n",
    "        encoded_docs = integer_encode_documents(tag_list, tokenizer)\n",
    "        # this is a list of lists, the numbers represent the index position of that word.\n",
    "        # for instance, 33 means the 33rd word in the vocabulary\n",
    "        # Notice the last document has 4 numbers, since it is a 4 word document: Could have done better.\n",
    "        padded_docs = pad_sequences(encoded_docs, maxlen=max_length, padding='post')\n",
    "\n",
    "        encoder = LabelEncoder()\n",
    "        labels = androgynous_data['androgynous']\n",
    "        labels = to_categorical(encoder.fit_transform(labels))\n",
    "\n",
    "        X_train, X_test, y_train, y_test = train_test_split(padded_docs, labels, test_size=0.1, random_state=23)\n",
    "\n",
    "        VOCAB_SIZE = int(len(tokenizer.word_index) * 1.1)\n",
    "\n",
    "        # Load in Embeddings\n",
    "        # create a weight matrix for words in training docs\n",
    "        embedding_matrix = zeros((VOCAB_SIZE, 100))\n",
    "        for word, i in tokenizer.word_index.items():\n",
    "            embedding_vector = embeddings_index.get(word)\n",
    "            if embedding_vector is not None: # check that it is an actual word that we have embeddings for\n",
    "                embedding_matrix[i] = embedding_vector\n",
    "\n",
    "        # define model\n",
    "\n",
    "        def make_lstm_classification_model(plot=False):\n",
    "            model = Sequential()\n",
    "            model.add(Embedding(VOCAB_SIZE, 100, weights=[embedding_matrix], input_length=max_length, trainable=False))\n",
    "            model.add(Masking(mask_value=0.0)) # masking layer, masks any words that don't have an embedding as 0s.\n",
    "            model.add(LSTM(units=32, input_shape=(1, max_length)))\n",
    "            # model.add(Dense(16))\n",
    "            model.add(Dense(dense_num))\n",
    "            model.add(Dense(2, activation='sigmoid'))\n",
    "\n",
    "            # Compile the model\n",
    "            model.compile(\n",
    "            optimizer='adam', loss='categorical_crossentropy', metrics=['accuracy'])\n",
    "            # summarize the model\n",
    "            # model.summary()\n",
    "\n",
    "            if plot:\n",
    "                plot_model(model, to_file='model.png', show_shapes=True)\n",
    "            return model\n",
    "\n",
    "        model = make_lstm_classification_model()\n",
    "\n",
    "        # fit the model\n",
    "        history = model.fit(X_train, y_train,validation_split = 0.1, epochs=15, verbose=0)\n",
    "        # plot_fit_history(history)\n",
    "\n",
    "        y_prob = model.predict(X_test) \n",
    "        y_classes = y_prob.argmax(axis=-1)\n",
    "        ytest = [np.argmax(y, axis=None, out=None) for y in y_test]\n",
    "        # acc\n",
    "        acc = sklearn.metrics.accuracy_score(ytest, y_classes)\n",
    "        # print('acc: %f' % acc)\n",
    "        # precision \n",
    "        precision = sklearn.metrics.precision_score(ytest, y_classes)\n",
    "#         print('precision: %f' % precision)\n",
    "        # recall\n",
    "        recall = sklearn.metrics.recall_score(ytest, y_classes)\n",
    "#         print('recall: %f' % recall)\n",
    "        # auc\n",
    "        auc = sklearn.metrics.roc_auc_score(ytest, [y[1] for y in y_prob])\n",
    "#         print('auc: %f' % auc)\n",
    "\n",
    "        acclist.append(acc)\n",
    "        precisionlist.append(precision)\n",
    "        recalllist.append(recall)\n",
    "        auclist.append(auc)\n",
    "    print('acc: %f' % np.mean(acclist))\n",
    "    print('precision: %f' % np.mean(precisionlist))\n",
    "    print('recall: %f' % np.mean(recalllist))\n",
    "    print('auc: %f' % np.mean(auclist))"
   ]
  },
  {
   "cell_type": "code",
   "execution_count": 391,
   "metadata": {},
   "outputs": [
    {
     "name": "stdout",
     "output_type": "stream",
     "text": [
      "6 =========================\n",
      "acc: 0.735135\n",
      "precision: 0.665959\n",
      "recall: 0.682192\n",
      "auc: 0.793408\n",
      "8 =========================\n",
      "acc: 0.744054\n",
      "precision: 0.682210\n",
      "recall: 0.673973\n",
      "auc: 0.801046\n",
      "10 =========================\n"
     ]
    },
    {
     "ename": "KeyboardInterrupt",
     "evalue": "",
     "output_type": "error",
     "traceback": [
      "\u001b[1;31m---------------------------------------------------------------------------\u001b[0m",
      "\u001b[1;31mKeyboardInterrupt\u001b[0m                         Traceback (most recent call last)",
      "\u001b[1;32m<ipython-input-391-867087e8f4a7>\u001b[0m in \u001b[0;36m<module>\u001b[1;34m\u001b[0m\n\u001b[0;32m     68\u001b[0m \u001b[1;33m\u001b[0m\u001b[0m\n\u001b[0;32m     69\u001b[0m         \u001b[1;31m# fit the model\u001b[0m\u001b[1;33m\u001b[0m\u001b[1;33m\u001b[0m\u001b[1;33m\u001b[0m\u001b[0m\n\u001b[1;32m---> 70\u001b[1;33m         \u001b[0mhistory\u001b[0m \u001b[1;33m=\u001b[0m \u001b[0mmodel\u001b[0m\u001b[1;33m.\u001b[0m\u001b[0mfit\u001b[0m\u001b[1;33m(\u001b[0m\u001b[0mX_train\u001b[0m\u001b[1;33m,\u001b[0m \u001b[0my_train\u001b[0m\u001b[1;33m,\u001b[0m\u001b[0mvalidation_split\u001b[0m \u001b[1;33m=\u001b[0m \u001b[1;36m0.1\u001b[0m\u001b[1;33m,\u001b[0m \u001b[0mepochs\u001b[0m\u001b[1;33m=\u001b[0m\u001b[1;36m15\u001b[0m\u001b[1;33m,\u001b[0m \u001b[0mverbose\u001b[0m\u001b[1;33m=\u001b[0m\u001b[1;36m0\u001b[0m\u001b[1;33m)\u001b[0m\u001b[1;33m\u001b[0m\u001b[1;33m\u001b[0m\u001b[0m\n\u001b[0m\u001b[0;32m     71\u001b[0m         \u001b[1;31m# plot_fit_history(history)\u001b[0m\u001b[1;33m\u001b[0m\u001b[1;33m\u001b[0m\u001b[1;33m\u001b[0m\u001b[0m\n\u001b[0;32m     72\u001b[0m \u001b[1;33m\u001b[0m\u001b[0m\n",
      "\u001b[1;32mC:\\ProgramData\\Anaconda3\\lib\\site-packages\\keras\\engine\\training.py\u001b[0m in \u001b[0;36mfit\u001b[1;34m(self, x, y, batch_size, epochs, verbose, callbacks, validation_split, validation_data, shuffle, class_weight, sample_weight, initial_epoch, steps_per_epoch, validation_steps, validation_freq, max_queue_size, workers, use_multiprocessing, **kwargs)\u001b[0m\n\u001b[0;32m   1211\u001b[0m         \u001b[1;32melse\u001b[0m\u001b[1;33m:\u001b[0m\u001b[1;33m\u001b[0m\u001b[1;33m\u001b[0m\u001b[0m\n\u001b[0;32m   1212\u001b[0m             \u001b[0mfit_inputs\u001b[0m \u001b[1;33m=\u001b[0m \u001b[0mx\u001b[0m \u001b[1;33m+\u001b[0m \u001b[0my\u001b[0m \u001b[1;33m+\u001b[0m \u001b[0msample_weights\u001b[0m\u001b[1;33m\u001b[0m\u001b[1;33m\u001b[0m\u001b[0m\n\u001b[1;32m-> 1213\u001b[1;33m         \u001b[0mself\u001b[0m\u001b[1;33m.\u001b[0m\u001b[0m_make_train_function\u001b[0m\u001b[1;33m(\u001b[0m\u001b[1;33m)\u001b[0m\u001b[1;33m\u001b[0m\u001b[1;33m\u001b[0m\u001b[0m\n\u001b[0m\u001b[0;32m   1214\u001b[0m         \u001b[0mfit_function\u001b[0m \u001b[1;33m=\u001b[0m \u001b[0mself\u001b[0m\u001b[1;33m.\u001b[0m\u001b[0mtrain_function\u001b[0m\u001b[1;33m\u001b[0m\u001b[1;33m\u001b[0m\u001b[0m\n\u001b[0;32m   1215\u001b[0m \u001b[1;33m\u001b[0m\u001b[0m\n",
      "\u001b[1;32mC:\\ProgramData\\Anaconda3\\lib\\site-packages\\keras\\engine\\training.py\u001b[0m in \u001b[0;36m_make_train_function\u001b[1;34m(self)\u001b[0m\n\u001b[0;32m    331\u001b[0m                     \u001b[0mupdates\u001b[0m\u001b[1;33m=\u001b[0m\u001b[0mupdates\u001b[0m \u001b[1;33m+\u001b[0m \u001b[0mmetrics_updates\u001b[0m\u001b[1;33m,\u001b[0m\u001b[1;33m\u001b[0m\u001b[1;33m\u001b[0m\u001b[0m\n\u001b[0;32m    332\u001b[0m                     \u001b[0mname\u001b[0m\u001b[1;33m=\u001b[0m\u001b[1;34m'train_function'\u001b[0m\u001b[1;33m,\u001b[0m\u001b[1;33m\u001b[0m\u001b[1;33m\u001b[0m\u001b[0m\n\u001b[1;32m--> 333\u001b[1;33m                     **self._function_kwargs)\n\u001b[0m\u001b[0;32m    334\u001b[0m \u001b[1;33m\u001b[0m\u001b[0m\n\u001b[0;32m    335\u001b[0m     \u001b[1;32mdef\u001b[0m \u001b[0m_make_test_function\u001b[0m\u001b[1;33m(\u001b[0m\u001b[0mself\u001b[0m\u001b[1;33m)\u001b[0m\u001b[1;33m:\u001b[0m\u001b[1;33m\u001b[0m\u001b[1;33m\u001b[0m\u001b[0m\n",
      "\u001b[1;32mC:\\ProgramData\\Anaconda3\\lib\\site-packages\\keras\\backend\\tensorflow_backend.py\u001b[0m in \u001b[0;36mfunction\u001b[1;34m(inputs, outputs, updates, **kwargs)\u001b[0m\n\u001b[0;32m   3004\u001b[0m \u001b[1;32mdef\u001b[0m \u001b[0mfunction\u001b[0m\u001b[1;33m(\u001b[0m\u001b[0minputs\u001b[0m\u001b[1;33m,\u001b[0m \u001b[0moutputs\u001b[0m\u001b[1;33m,\u001b[0m \u001b[0mupdates\u001b[0m\u001b[1;33m=\u001b[0m\u001b[1;32mNone\u001b[0m\u001b[1;33m,\u001b[0m \u001b[1;33m**\u001b[0m\u001b[0mkwargs\u001b[0m\u001b[1;33m)\u001b[0m\u001b[1;33m:\u001b[0m\u001b[1;33m\u001b[0m\u001b[1;33m\u001b[0m\u001b[0m\n\u001b[0;32m   3005\u001b[0m     \u001b[1;32mif\u001b[0m \u001b[0m_is_tf_1\u001b[0m\u001b[1;33m(\u001b[0m\u001b[1;33m)\u001b[0m\u001b[1;33m:\u001b[0m\u001b[1;33m\u001b[0m\u001b[1;33m\u001b[0m\u001b[0m\n\u001b[1;32m-> 3006\u001b[1;33m         \u001b[0mv1_variable_initialization\u001b[0m\u001b[1;33m(\u001b[0m\u001b[1;33m)\u001b[0m\u001b[1;33m\u001b[0m\u001b[1;33m\u001b[0m\u001b[0m\n\u001b[0m\u001b[0;32m   3007\u001b[0m     return tf_keras_backend.function(inputs, outputs,\n\u001b[0;32m   3008\u001b[0m                                      \u001b[0mupdates\u001b[0m\u001b[1;33m=\u001b[0m\u001b[0mupdates\u001b[0m\u001b[1;33m,\u001b[0m\u001b[1;33m\u001b[0m\u001b[1;33m\u001b[0m\u001b[0m\n",
      "\u001b[1;32mC:\\ProgramData\\Anaconda3\\lib\\site-packages\\keras\\backend\\tensorflow_backend.py\u001b[0m in \u001b[0;36mv1_variable_initialization\u001b[1;34m()\u001b[0m\n\u001b[0;32m    418\u001b[0m \u001b[1;33m\u001b[0m\u001b[0m\n\u001b[0;32m    419\u001b[0m \u001b[1;32mdef\u001b[0m \u001b[0mv1_variable_initialization\u001b[0m\u001b[1;33m(\u001b[0m\u001b[1;33m)\u001b[0m\u001b[1;33m:\u001b[0m\u001b[1;33m\u001b[0m\u001b[1;33m\u001b[0m\u001b[0m\n\u001b[1;32m--> 420\u001b[1;33m     \u001b[0msession\u001b[0m \u001b[1;33m=\u001b[0m \u001b[0mget_session\u001b[0m\u001b[1;33m(\u001b[0m\u001b[1;33m)\u001b[0m\u001b[1;33m\u001b[0m\u001b[1;33m\u001b[0m\u001b[0m\n\u001b[0m\u001b[0;32m    421\u001b[0m     \u001b[1;32mwith\u001b[0m \u001b[0msession\u001b[0m\u001b[1;33m.\u001b[0m\u001b[0mgraph\u001b[0m\u001b[1;33m.\u001b[0m\u001b[0mas_default\u001b[0m\u001b[1;33m(\u001b[0m\u001b[1;33m)\u001b[0m\u001b[1;33m:\u001b[0m\u001b[1;33m\u001b[0m\u001b[1;33m\u001b[0m\u001b[0m\n\u001b[0;32m    422\u001b[0m         \u001b[0mvariables\u001b[0m \u001b[1;33m=\u001b[0m \u001b[0mtf\u001b[0m\u001b[1;33m.\u001b[0m\u001b[0mglobal_variables\u001b[0m\u001b[1;33m(\u001b[0m\u001b[1;33m)\u001b[0m\u001b[1;33m\u001b[0m\u001b[1;33m\u001b[0m\u001b[0m\n",
      "\u001b[1;32mC:\\ProgramData\\Anaconda3\\lib\\site-packages\\keras\\backend\\tensorflow_backend.py\u001b[0m in \u001b[0;36mget_session\u001b[1;34m()\u001b[0m\n\u001b[0;32m    383\u001b[0m             \u001b[1;34m'`get_session` is not available when '\u001b[0m\u001b[1;33m\u001b[0m\u001b[1;33m\u001b[0m\u001b[0m\n\u001b[0;32m    384\u001b[0m             'TensorFlow is executing eagerly.')\n\u001b[1;32m--> 385\u001b[1;33m     \u001b[1;32mreturn\u001b[0m \u001b[0mtf_keras_backend\u001b[0m\u001b[1;33m.\u001b[0m\u001b[0mget_session\u001b[0m\u001b[1;33m(\u001b[0m\u001b[1;33m)\u001b[0m\u001b[1;33m\u001b[0m\u001b[1;33m\u001b[0m\u001b[0m\n\u001b[0m\u001b[0;32m    386\u001b[0m \u001b[1;33m\u001b[0m\u001b[0m\n\u001b[0;32m    387\u001b[0m \u001b[1;33m\u001b[0m\u001b[0m\n",
      "\u001b[1;32m~\\AppData\\Roaming\\Python\\Python36\\site-packages\\tensorflow\\python\\keras\\backend.py\u001b[0m in \u001b[0;36mget_session\u001b[1;34m(op_input_list)\u001b[0m\n\u001b[0;32m    460\u001b[0m   \u001b[1;32mif\u001b[0m \u001b[1;32mnot\u001b[0m \u001b[0m_MANUAL_VAR_INIT\u001b[0m\u001b[1;33m:\u001b[0m\u001b[1;33m\u001b[0m\u001b[1;33m\u001b[0m\u001b[0m\n\u001b[0;32m    461\u001b[0m     \u001b[1;32mwith\u001b[0m \u001b[0msession\u001b[0m\u001b[1;33m.\u001b[0m\u001b[0mgraph\u001b[0m\u001b[1;33m.\u001b[0m\u001b[0mas_default\u001b[0m\u001b[1;33m(\u001b[0m\u001b[1;33m)\u001b[0m\u001b[1;33m:\u001b[0m\u001b[1;33m\u001b[0m\u001b[1;33m\u001b[0m\u001b[0m\n\u001b[1;32m--> 462\u001b[1;33m       \u001b[0m_initialize_variables\u001b[0m\u001b[1;33m(\u001b[0m\u001b[0msession\u001b[0m\u001b[1;33m)\u001b[0m\u001b[1;33m\u001b[0m\u001b[1;33m\u001b[0m\u001b[0m\n\u001b[0m\u001b[0;32m    463\u001b[0m   \u001b[1;32mreturn\u001b[0m \u001b[0msession\u001b[0m\u001b[1;33m\u001b[0m\u001b[1;33m\u001b[0m\u001b[0m\n\u001b[0;32m    464\u001b[0m \u001b[1;33m\u001b[0m\u001b[0m\n",
      "\u001b[1;32m~\\AppData\\Roaming\\Python\\Python36\\site-packages\\tensorflow\\python\\keras\\backend.py\u001b[0m in \u001b[0;36m_initialize_variables\u001b[1;34m(session)\u001b[0m\n\u001b[0;32m    877\u001b[0m     \u001b[1;31m# marked as initialized.\u001b[0m\u001b[1;33m\u001b[0m\u001b[1;33m\u001b[0m\u001b[1;33m\u001b[0m\u001b[0m\n\u001b[0;32m    878\u001b[0m     is_initialized = session.run(\n\u001b[1;32m--> 879\u001b[1;33m         [variables_module.is_variable_initialized(v) for v in candidate_vars])\n\u001b[0m\u001b[0;32m    880\u001b[0m     \u001b[0muninitialized_vars\u001b[0m \u001b[1;33m=\u001b[0m \u001b[1;33m[\u001b[0m\u001b[1;33m]\u001b[0m\u001b[1;33m\u001b[0m\u001b[1;33m\u001b[0m\u001b[0m\n\u001b[0;32m    881\u001b[0m     \u001b[1;32mfor\u001b[0m \u001b[0mflag\u001b[0m\u001b[1;33m,\u001b[0m \u001b[0mv\u001b[0m \u001b[1;32min\u001b[0m \u001b[0mzip\u001b[0m\u001b[1;33m(\u001b[0m\u001b[0mis_initialized\u001b[0m\u001b[1;33m,\u001b[0m \u001b[0mcandidate_vars\u001b[0m\u001b[1;33m)\u001b[0m\u001b[1;33m:\u001b[0m\u001b[1;33m\u001b[0m\u001b[1;33m\u001b[0m\u001b[0m\n",
      "\u001b[1;32m~\\AppData\\Roaming\\Python\\Python36\\site-packages\\tensorflow\\python\\client\\session.py\u001b[0m in \u001b[0;36mrun\u001b[1;34m(self, fetches, feed_dict, options, run_metadata)\u001b[0m\n\u001b[0;32m    948\u001b[0m     \u001b[1;32mtry\u001b[0m\u001b[1;33m:\u001b[0m\u001b[1;33m\u001b[0m\u001b[1;33m\u001b[0m\u001b[0m\n\u001b[0;32m    949\u001b[0m       result = self._run(None, fetches, feed_dict, options_ptr,\n\u001b[1;32m--> 950\u001b[1;33m                          run_metadata_ptr)\n\u001b[0m\u001b[0;32m    951\u001b[0m       \u001b[1;32mif\u001b[0m \u001b[0mrun_metadata\u001b[0m\u001b[1;33m:\u001b[0m\u001b[1;33m\u001b[0m\u001b[1;33m\u001b[0m\u001b[0m\n\u001b[0;32m    952\u001b[0m         \u001b[0mproto_data\u001b[0m \u001b[1;33m=\u001b[0m \u001b[0mtf_session\u001b[0m\u001b[1;33m.\u001b[0m\u001b[0mTF_GetBuffer\u001b[0m\u001b[1;33m(\u001b[0m\u001b[0mrun_metadata_ptr\u001b[0m\u001b[1;33m)\u001b[0m\u001b[1;33m\u001b[0m\u001b[1;33m\u001b[0m\u001b[0m\n",
      "\u001b[1;32m~\\AppData\\Roaming\\Python\\Python36\\site-packages\\tensorflow\\python\\client\\session.py\u001b[0m in \u001b[0;36m_run\u001b[1;34m(self, handle, fetches, feed_dict, options, run_metadata)\u001b[0m\n\u001b[0;32m   1171\u001b[0m     \u001b[1;32mif\u001b[0m \u001b[0mfinal_fetches\u001b[0m \u001b[1;32mor\u001b[0m \u001b[0mfinal_targets\u001b[0m \u001b[1;32mor\u001b[0m \u001b[1;33m(\u001b[0m\u001b[0mhandle\u001b[0m \u001b[1;32mand\u001b[0m \u001b[0mfeed_dict_tensor\u001b[0m\u001b[1;33m)\u001b[0m\u001b[1;33m:\u001b[0m\u001b[1;33m\u001b[0m\u001b[1;33m\u001b[0m\u001b[0m\n\u001b[0;32m   1172\u001b[0m       results = self._do_run(handle, final_targets, final_fetches,\n\u001b[1;32m-> 1173\u001b[1;33m                              feed_dict_tensor, options, run_metadata)\n\u001b[0m\u001b[0;32m   1174\u001b[0m     \u001b[1;32melse\u001b[0m\u001b[1;33m:\u001b[0m\u001b[1;33m\u001b[0m\u001b[1;33m\u001b[0m\u001b[0m\n\u001b[0;32m   1175\u001b[0m       \u001b[0mresults\u001b[0m \u001b[1;33m=\u001b[0m \u001b[1;33m[\u001b[0m\u001b[1;33m]\u001b[0m\u001b[1;33m\u001b[0m\u001b[1;33m\u001b[0m\u001b[0m\n",
      "\u001b[1;32m~\\AppData\\Roaming\\Python\\Python36\\site-packages\\tensorflow\\python\\client\\session.py\u001b[0m in \u001b[0;36m_do_run\u001b[1;34m(self, handle, target_list, fetch_list, feed_dict, options, run_metadata)\u001b[0m\n\u001b[0;32m   1348\u001b[0m     \u001b[1;32mif\u001b[0m \u001b[0mhandle\u001b[0m \u001b[1;32mis\u001b[0m \u001b[1;32mNone\u001b[0m\u001b[1;33m:\u001b[0m\u001b[1;33m\u001b[0m\u001b[1;33m\u001b[0m\u001b[0m\n\u001b[0;32m   1349\u001b[0m       return self._do_call(_run_fn, feeds, fetches, targets, options,\n\u001b[1;32m-> 1350\u001b[1;33m                            run_metadata)\n\u001b[0m\u001b[0;32m   1351\u001b[0m     \u001b[1;32melse\u001b[0m\u001b[1;33m:\u001b[0m\u001b[1;33m\u001b[0m\u001b[1;33m\u001b[0m\u001b[0m\n\u001b[0;32m   1352\u001b[0m       \u001b[1;32mreturn\u001b[0m \u001b[0mself\u001b[0m\u001b[1;33m.\u001b[0m\u001b[0m_do_call\u001b[0m\u001b[1;33m(\u001b[0m\u001b[0m_prun_fn\u001b[0m\u001b[1;33m,\u001b[0m \u001b[0mhandle\u001b[0m\u001b[1;33m,\u001b[0m \u001b[0mfeeds\u001b[0m\u001b[1;33m,\u001b[0m \u001b[0mfetches\u001b[0m\u001b[1;33m)\u001b[0m\u001b[1;33m\u001b[0m\u001b[1;33m\u001b[0m\u001b[0m\n",
      "\u001b[1;32m~\\AppData\\Roaming\\Python\\Python36\\site-packages\\tensorflow\\python\\client\\session.py\u001b[0m in \u001b[0;36m_do_call\u001b[1;34m(self, fn, *args)\u001b[0m\n\u001b[0;32m   1354\u001b[0m   \u001b[1;32mdef\u001b[0m \u001b[0m_do_call\u001b[0m\u001b[1;33m(\u001b[0m\u001b[0mself\u001b[0m\u001b[1;33m,\u001b[0m \u001b[0mfn\u001b[0m\u001b[1;33m,\u001b[0m \u001b[1;33m*\u001b[0m\u001b[0margs\u001b[0m\u001b[1;33m)\u001b[0m\u001b[1;33m:\u001b[0m\u001b[1;33m\u001b[0m\u001b[1;33m\u001b[0m\u001b[0m\n\u001b[0;32m   1355\u001b[0m     \u001b[1;32mtry\u001b[0m\u001b[1;33m:\u001b[0m\u001b[1;33m\u001b[0m\u001b[1;33m\u001b[0m\u001b[0m\n\u001b[1;32m-> 1356\u001b[1;33m       \u001b[1;32mreturn\u001b[0m \u001b[0mfn\u001b[0m\u001b[1;33m(\u001b[0m\u001b[1;33m*\u001b[0m\u001b[0margs\u001b[0m\u001b[1;33m)\u001b[0m\u001b[1;33m\u001b[0m\u001b[1;33m\u001b[0m\u001b[0m\n\u001b[0m\u001b[0;32m   1357\u001b[0m     \u001b[1;32mexcept\u001b[0m \u001b[0merrors\u001b[0m\u001b[1;33m.\u001b[0m\u001b[0mOpError\u001b[0m \u001b[1;32mas\u001b[0m \u001b[0me\u001b[0m\u001b[1;33m:\u001b[0m\u001b[1;33m\u001b[0m\u001b[1;33m\u001b[0m\u001b[0m\n\u001b[0;32m   1358\u001b[0m       \u001b[0mmessage\u001b[0m \u001b[1;33m=\u001b[0m \u001b[0mcompat\u001b[0m\u001b[1;33m.\u001b[0m\u001b[0mas_text\u001b[0m\u001b[1;33m(\u001b[0m\u001b[0me\u001b[0m\u001b[1;33m.\u001b[0m\u001b[0mmessage\u001b[0m\u001b[1;33m)\u001b[0m\u001b[1;33m\u001b[0m\u001b[1;33m\u001b[0m\u001b[0m\n",
      "\u001b[1;32m~\\AppData\\Roaming\\Python\\Python36\\site-packages\\tensorflow\\python\\client\\session.py\u001b[0m in \u001b[0;36m_run_fn\u001b[1;34m(feed_dict, fetch_list, target_list, options, run_metadata)\u001b[0m\n\u001b[0;32m   1339\u001b[0m       \u001b[0mself\u001b[0m\u001b[1;33m.\u001b[0m\u001b[0m_extend_graph\u001b[0m\u001b[1;33m(\u001b[0m\u001b[1;33m)\u001b[0m\u001b[1;33m\u001b[0m\u001b[1;33m\u001b[0m\u001b[0m\n\u001b[0;32m   1340\u001b[0m       return self._call_tf_sessionrun(\n\u001b[1;32m-> 1341\u001b[1;33m           options, feed_dict, fetch_list, target_list, run_metadata)\n\u001b[0m\u001b[0;32m   1342\u001b[0m \u001b[1;33m\u001b[0m\u001b[0m\n\u001b[0;32m   1343\u001b[0m     \u001b[1;32mdef\u001b[0m \u001b[0m_prun_fn\u001b[0m\u001b[1;33m(\u001b[0m\u001b[0mhandle\u001b[0m\u001b[1;33m,\u001b[0m \u001b[0mfeed_dict\u001b[0m\u001b[1;33m,\u001b[0m \u001b[0mfetch_list\u001b[0m\u001b[1;33m)\u001b[0m\u001b[1;33m:\u001b[0m\u001b[1;33m\u001b[0m\u001b[1;33m\u001b[0m\u001b[0m\n",
      "\u001b[1;32m~\\AppData\\Roaming\\Python\\Python36\\site-packages\\tensorflow\\python\\client\\session.py\u001b[0m in \u001b[0;36m_call_tf_sessionrun\u001b[1;34m(self, options, feed_dict, fetch_list, target_list, run_metadata)\u001b[0m\n\u001b[0;32m   1427\u001b[0m     return tf_session.TF_SessionRun_wrapper(\n\u001b[0;32m   1428\u001b[0m         \u001b[0mself\u001b[0m\u001b[1;33m.\u001b[0m\u001b[0m_session\u001b[0m\u001b[1;33m,\u001b[0m \u001b[0moptions\u001b[0m\u001b[1;33m,\u001b[0m \u001b[0mfeed_dict\u001b[0m\u001b[1;33m,\u001b[0m \u001b[0mfetch_list\u001b[0m\u001b[1;33m,\u001b[0m \u001b[0mtarget_list\u001b[0m\u001b[1;33m,\u001b[0m\u001b[1;33m\u001b[0m\u001b[1;33m\u001b[0m\u001b[0m\n\u001b[1;32m-> 1429\u001b[1;33m         run_metadata)\n\u001b[0m\u001b[0;32m   1430\u001b[0m \u001b[1;33m\u001b[0m\u001b[0m\n\u001b[0;32m   1431\u001b[0m   \u001b[1;32mdef\u001b[0m \u001b[0m_call_tf_sessionprun\u001b[0m\u001b[1;33m(\u001b[0m\u001b[0mself\u001b[0m\u001b[1;33m,\u001b[0m \u001b[0mhandle\u001b[0m\u001b[1;33m,\u001b[0m \u001b[0mfeed_dict\u001b[0m\u001b[1;33m,\u001b[0m \u001b[0mfetch_list\u001b[0m\u001b[1;33m)\u001b[0m\u001b[1;33m:\u001b[0m\u001b[1;33m\u001b[0m\u001b[1;33m\u001b[0m\u001b[0m\n",
      "\u001b[1;31mKeyboardInterrupt\u001b[0m: "
     ]
    }
   ],
   "source": [
    "acclist = []\n",
    "precisionlist = []\n",
    "recalllist = []\n",
    "auclist = []\n",
    "for dense_num in range(2, 3, 2):\n",
    "    print(dense_num,'=========================')\n",
    "    for loop in range(10):\n",
    "        androgynous_data = Style.groupby('tag_info').agg(androgynous = pd.NamedAgg(column='androgynous', aggfunc='max')).reset_index()\n",
    "        androgynous_data1 = androgynous_data[androgynous_data['androgynous']==1]\n",
    "        androgynous_data2 = androgynous_data[androgynous_data['androgynous']==0].sample(round(len(androgynous_data1)*1.5), random_state=123)\n",
    "        androgynous_data = pd.concat([androgynous_data1, androgynous_data2])\n",
    "        tag_list = list(androgynous_data['tag_info'])\n",
    "\n",
    "        # Tokenize the Text\n",
    "        tokenizer = Tokenizer(num_words=5000, oov_token=\"UNKNOWN_TOKEN\")\n",
    "        tokenizer.fit_on_texts(tag_list)\n",
    "\n",
    "        # get the max length in terms of token length\n",
    "        max_length = get_max_token_length_per_doc(tag_list)\n",
    "\n",
    "        ############################ CHANGE PADDING HERE\n",
    "\n",
    "        # integer encode the documents\n",
    "        encoded_docs = integer_encode_documents(tag_list, tokenizer)\n",
    "        # this is a list of lists, the numbers represent the index position of that word.\n",
    "        # for instance, 33 means the 33rd word in the vocabulary\n",
    "        # Notice the last document has 4 numbers, since it is a 4 word document: Could have done better.\n",
    "        padded_docs = pad_sequences(encoded_docs, maxlen=max_length, padding='post')\n",
    "\n",
    "        encoder = LabelEncoder()\n",
    "        labels = androgynous_data['androgynous']\n",
    "        labels = to_categorical(encoder.fit_transform(labels))\n",
    "\n",
    "        X_train, X_test, y_train, y_test = train_test_split(padded_docs, labels, test_size=0.1, random_state=23)\n",
    "\n",
    "        VOCAB_SIZE = int(len(tokenizer.word_index) * 1.1)\n",
    "\n",
    "        # Load in Embeddings\n",
    "        # create a weight matrix for words in training docs\n",
    "        embedding_matrix = zeros((VOCAB_SIZE, 100))\n",
    "        for word, i in tokenizer.word_index.items():\n",
    "            embedding_vector = embeddings_index.get(word)\n",
    "            if embedding_vector is not None: # check that it is an actual word that we have embeddings for\n",
    "                embedding_matrix[i] = embedding_vector\n",
    "\n",
    "        # define model\n",
    "\n",
    "        def make_lstm_classification_model(plot=False):\n",
    "            model = Sequential()\n",
    "            model.add(Embedding(VOCAB_SIZE, 100, weights=[embedding_matrix], input_length=max_length, trainable=False))\n",
    "            model.add(Masking(mask_value=0.0)) # masking layer, masks any words that don't have an embedding as 0s.\n",
    "            model.add(LSTM(units=32, input_shape=(1, max_length)))\n",
    "            # model.add(Dense(16))\n",
    "            model.add(Dense(dense_num))\n",
    "            model.add(Dense(2, activation='sigmoid'))\n",
    "\n",
    "            # Compile the model\n",
    "            model.compile(\n",
    "            optimizer='adam', loss='categorical_crossentropy', metrics=['accuracy'])\n",
    "            # summarize the model\n",
    "            # model.summary()\n",
    "\n",
    "            if plot:\n",
    "                plot_model(model, to_file='model.png', show_shapes=True)\n",
    "            return model\n",
    "\n",
    "        model = make_lstm_classification_model()\n",
    "\n",
    "        # fit the model\n",
    "        history = model.fit(X_train, y_train,validation_split = 0.1, epochs=15, verbose=0)\n",
    "        # plot_fit_history(history)\n",
    "\n",
    "        y_prob = model.predict(X_test) \n",
    "        y_classes = y_prob.argmax(axis=-1)\n",
    "        ytest = [np.argmax(y, axis=None, out=None) for y in y_test]\n",
    "        # acc\n",
    "        acc = sklearn.metrics.accuracy_score(ytest, y_classes)\n",
    "        # print('acc: %f' % acc)\n",
    "        # precision \n",
    "        precision = sklearn.metrics.precision_score(ytest, y_classes)\n",
    "#         print('precision: %f' % precision)\n",
    "        # recall\n",
    "        recall = sklearn.metrics.recall_score(ytest, y_classes)\n",
    "#         print('recall: %f' % recall)\n",
    "        # auc\n",
    "        auc = sklearn.metrics.roc_auc_score(ytest, [y[1] for y in y_prob])\n",
    "#         print('auc: %f' % auc)\n",
    "\n",
    "        acclist.append(acc)\n",
    "        precisionlist.append(precision)\n",
    "        recalllist.append(recall)\n",
    "        auclist.append(auc)\n",
    "    print('acc: %f' % np.mean(acclist))\n",
    "    print('precision: %f' % np.mean(precisionlist))\n",
    "    print('recall: %f' % np.mean(recalllist))\n",
    "    print('auc: %f' % np.mean(auclist))"
   ]
  },
  {
   "cell_type": "code",
   "execution_count": 392,
   "metadata": {},
   "outputs": [
    {
     "name": "stdout",
     "output_type": "stream",
     "text": [
      "nolayer =========================\n",
      "acc: 0.738919\n",
      "precision: 0.657784\n",
      "recall: 0.726027\n",
      "auc: 0.793065\n"
     ]
    }
   ],
   "source": [
    "acclist = []\n",
    "precisionlist = []\n",
    "recalllist = []\n",
    "auclist = []\n",
    "for dense_num in ['nolayer']:\n",
    "    print(dense_num,'=========================')\n",
    "    for loop in range(10):\n",
    "        androgynous_data = Style.groupby('tag_info').agg(androgynous = pd.NamedAgg(column='androgynous', aggfunc='max')).reset_index()\n",
    "        androgynous_data1 = androgynous_data[androgynous_data['androgynous']==1]\n",
    "        androgynous_data2 = androgynous_data[androgynous_data['androgynous']==0].sample(round(len(androgynous_data1)*1.5), random_state=123)\n",
    "        androgynous_data = pd.concat([androgynous_data1, androgynous_data2])\n",
    "        tag_list = list(androgynous_data['tag_info'])\n",
    "\n",
    "        # Tokenize the Text\n",
    "        tokenizer = Tokenizer(num_words=5000, oov_token=\"UNKNOWN_TOKEN\")\n",
    "        tokenizer.fit_on_texts(tag_list)\n",
    "\n",
    "        # get the max length in terms of token length\n",
    "        max_length = get_max_token_length_per_doc(tag_list)\n",
    "\n",
    "        ############################ CHANGE PADDING HERE\n",
    "\n",
    "        # integer encode the documents\n",
    "        encoded_docs = integer_encode_documents(tag_list, tokenizer)\n",
    "        # this is a list of lists, the numbers represent the index position of that word.\n",
    "        # for instance, 33 means the 33rd word in the vocabulary\n",
    "        # Notice the last document has 4 numbers, since it is a 4 word document: Could have done better.\n",
    "        padded_docs = pad_sequences(encoded_docs, maxlen=max_length, padding='post')\n",
    "\n",
    "        encoder = LabelEncoder()\n",
    "        labels = androgynous_data['androgynous']\n",
    "        labels = to_categorical(encoder.fit_transform(labels))\n",
    "\n",
    "        X_train, X_test, y_train, y_test = train_test_split(padded_docs, labels, test_size=0.1, random_state=23)\n",
    "\n",
    "        VOCAB_SIZE = int(len(tokenizer.word_index) * 1.1)\n",
    "\n",
    "        # Load in Embeddings\n",
    "        # create a weight matrix for words in training docs\n",
    "        embedding_matrix = zeros((VOCAB_SIZE, 100))\n",
    "        for word, i in tokenizer.word_index.items():\n",
    "            embedding_vector = embeddings_index.get(word)\n",
    "            if embedding_vector is not None: # check that it is an actual word that we have embeddings for\n",
    "                embedding_matrix[i] = embedding_vector\n",
    "\n",
    "        # define model\n",
    "\n",
    "        def make_lstm_classification_model(plot=False):\n",
    "            model = Sequential()\n",
    "            model.add(Embedding(VOCAB_SIZE, 100, weights=[embedding_matrix], input_length=max_length, trainable=False))\n",
    "            model.add(Masking(mask_value=0.0)) # masking layer, masks any words that don't have an embedding as 0s.\n",
    "            model.add(LSTM(units=32, input_shape=(1, max_length)))\n",
    "            # model.add(Dense(16))\n",
    "            model.add(Dense(2, activation='sigmoid'))\n",
    "\n",
    "            # Compile the model\n",
    "            model.compile(\n",
    "            optimizer='adam', loss='categorical_crossentropy', metrics=['accuracy'])\n",
    "            # summarize the model\n",
    "            # model.summary()\n",
    "\n",
    "            if plot:\n",
    "                plot_model(model, to_file='model.png', show_shapes=True)\n",
    "            return model\n",
    "\n",
    "        model = make_lstm_classification_model()\n",
    "\n",
    "        # fit the model\n",
    "        history = model.fit(X_train, y_train,validation_split = 0.1, epochs=15, verbose=0)\n",
    "        # plot_fit_history(history)\n",
    "\n",
    "        y_prob = model.predict(X_test) \n",
    "        y_classes = y_prob.argmax(axis=-1)\n",
    "        ytest = [np.argmax(y, axis=None, out=None) for y in y_test]\n",
    "        # acc\n",
    "        acc = sklearn.metrics.accuracy_score(ytest, y_classes)\n",
    "        # print('acc: %f' % acc)\n",
    "        # precision \n",
    "        precision = sklearn.metrics.precision_score(ytest, y_classes)\n",
    "#         print('precision: %f' % precision)\n",
    "        # recall\n",
    "        recall = sklearn.metrics.recall_score(ytest, y_classes)\n",
    "#         print('recall: %f' % recall)\n",
    "        # auc\n",
    "        auc = sklearn.metrics.roc_auc_score(ytest, [y[1] for y in y_prob])\n",
    "#         print('auc: %f' % auc)\n",
    "\n",
    "        acclist.append(acc)\n",
    "        precisionlist.append(precision)\n",
    "        recalllist.append(recall)\n",
    "        auclist.append(auc)\n",
    "    print('acc: %f' % np.mean(acclist))\n",
    "    print('precision: %f' % np.mean(precisionlist))\n",
    "    print('recall: %f' % np.mean(recalllist))\n",
    "    print('auc: %f' % np.mean(auclist))"
   ]
  },
  {
   "cell_type": "markdown",
   "metadata": {},
   "source": [
    "### Try different sample size"
   ]
  },
  {
   "cell_type": "code",
   "execution_count": 394,
   "metadata": {},
   "outputs": [
    {
     "name": "stdout",
     "output_type": "stream",
     "text": [
      "1.0 =========================\n",
      "acc: 0.706081\n",
      "precision: 0.616230\n",
      "recall: 0.772131\n",
      "auc: 0.774053\n",
      "1.1 =========================\n",
      "acc: 0.716266\n",
      "precision: 0.611659\n",
      "recall: 0.775721\n",
      "auc: 0.777126\n",
      "1.2 =========================\n",
      "acc: 0.717388\n",
      "precision: 0.632041\n",
      "recall: 0.773592\n",
      "auc: 0.781342\n",
      "1.3 =========================\n",
      "acc: 0.722453\n",
      "precision: 0.660609\n",
      "recall: 0.742694\n",
      "auc: 0.796705\n",
      "1.4 =========================\n",
      "acc: 0.726277\n",
      "precision: 0.670427\n",
      "recall: 0.716408\n",
      "auc: 0.800644\n",
      "1.5 =========================\n",
      "acc: 0.727213\n",
      "precision: 0.668327\n",
      "recall: 0.711847\n",
      "auc: 0.801173\n",
      "1.6 =========================\n",
      "acc: 0.728310\n",
      "precision: 0.669492\n",
      "recall: 0.702072\n",
      "auc: 0.801407\n",
      "1.7 =========================\n",
      "acc: 0.730022\n",
      "precision: 0.670665\n",
      "recall: 0.691813\n",
      "auc: 0.802030\n",
      "1.8 =========================\n",
      "acc: 0.732322\n",
      "precision: 0.677012\n",
      "recall: 0.679112\n",
      "auc: 0.801379\n",
      "1.9 =========================\n",
      "acc: 0.734183\n",
      "precision: 0.676259\n",
      "recall: 0.672239\n",
      "auc: 0.800903\n",
      "2.0 =========================\n",
      "acc: 0.736645\n",
      "precision: 0.673135\n",
      "recall: 0.673309\n",
      "auc: 0.801277\n",
      "2.1 =========================\n"
     ]
    },
    {
     "ename": "KeyboardInterrupt",
     "evalue": "",
     "output_type": "error",
     "traceback": [
      "\u001b[1;31m---------------------------------------------------------------------------\u001b[0m",
      "\u001b[1;31mKeyboardInterrupt\u001b[0m                         Traceback (most recent call last)",
      "\u001b[1;32m<ipython-input-394-47034b870cf7>\u001b[0m in \u001b[0;36m<module>\u001b[1;34m\u001b[0m\n\u001b[0;32m     66\u001b[0m \u001b[1;33m\u001b[0m\u001b[0m\n\u001b[0;32m     67\u001b[0m         \u001b[1;31m# fit the model\u001b[0m\u001b[1;33m\u001b[0m\u001b[1;33m\u001b[0m\u001b[1;33m\u001b[0m\u001b[0m\n\u001b[1;32m---> 68\u001b[1;33m         \u001b[0mhistory\u001b[0m \u001b[1;33m=\u001b[0m \u001b[0mmodel\u001b[0m\u001b[1;33m.\u001b[0m\u001b[0mfit\u001b[0m\u001b[1;33m(\u001b[0m\u001b[0mX_train\u001b[0m\u001b[1;33m,\u001b[0m \u001b[0my_train\u001b[0m\u001b[1;33m,\u001b[0m\u001b[0mvalidation_split\u001b[0m \u001b[1;33m=\u001b[0m \u001b[1;36m0.1\u001b[0m\u001b[1;33m,\u001b[0m \u001b[0mepochs\u001b[0m\u001b[1;33m=\u001b[0m\u001b[1;36m15\u001b[0m\u001b[1;33m,\u001b[0m \u001b[0mverbose\u001b[0m\u001b[1;33m=\u001b[0m\u001b[1;36m0\u001b[0m\u001b[1;33m)\u001b[0m\u001b[1;33m\u001b[0m\u001b[1;33m\u001b[0m\u001b[0m\n\u001b[0m\u001b[0;32m     69\u001b[0m         \u001b[1;31m# plot_fit_history(history)\u001b[0m\u001b[1;33m\u001b[0m\u001b[1;33m\u001b[0m\u001b[1;33m\u001b[0m\u001b[0m\n\u001b[0;32m     70\u001b[0m \u001b[1;33m\u001b[0m\u001b[0m\n",
      "\u001b[1;32mC:\\ProgramData\\Anaconda3\\lib\\site-packages\\keras\\engine\\training.py\u001b[0m in \u001b[0;36mfit\u001b[1;34m(self, x, y, batch_size, epochs, verbose, callbacks, validation_split, validation_data, shuffle, class_weight, sample_weight, initial_epoch, steps_per_epoch, validation_steps, validation_freq, max_queue_size, workers, use_multiprocessing, **kwargs)\u001b[0m\n\u001b[0;32m   1237\u001b[0m                                         \u001b[0msteps_per_epoch\u001b[0m\u001b[1;33m=\u001b[0m\u001b[0msteps_per_epoch\u001b[0m\u001b[1;33m,\u001b[0m\u001b[1;33m\u001b[0m\u001b[1;33m\u001b[0m\u001b[0m\n\u001b[0;32m   1238\u001b[0m                                         \u001b[0mvalidation_steps\u001b[0m\u001b[1;33m=\u001b[0m\u001b[0mvalidation_steps\u001b[0m\u001b[1;33m,\u001b[0m\u001b[1;33m\u001b[0m\u001b[1;33m\u001b[0m\u001b[0m\n\u001b[1;32m-> 1239\u001b[1;33m                                         validation_freq=validation_freq)\n\u001b[0m\u001b[0;32m   1240\u001b[0m \u001b[1;33m\u001b[0m\u001b[0m\n\u001b[0;32m   1241\u001b[0m     def evaluate(self,\n",
      "\u001b[1;32mC:\\ProgramData\\Anaconda3\\lib\\site-packages\\keras\\engine\\training_arrays.py\u001b[0m in \u001b[0;36mfit_loop\u001b[1;34m(model, fit_function, fit_inputs, out_labels, batch_size, epochs, verbose, callbacks, val_function, val_inputs, shuffle, initial_epoch, steps_per_epoch, validation_steps, validation_freq)\u001b[0m\n\u001b[0;32m    194\u001b[0m                     \u001b[0mins_batch\u001b[0m\u001b[1;33m[\u001b[0m\u001b[0mi\u001b[0m\u001b[1;33m]\u001b[0m \u001b[1;33m=\u001b[0m \u001b[0mins_batch\u001b[0m\u001b[1;33m[\u001b[0m\u001b[0mi\u001b[0m\u001b[1;33m]\u001b[0m\u001b[1;33m.\u001b[0m\u001b[0mtoarray\u001b[0m\u001b[1;33m(\u001b[0m\u001b[1;33m)\u001b[0m\u001b[1;33m\u001b[0m\u001b[1;33m\u001b[0m\u001b[0m\n\u001b[0;32m    195\u001b[0m \u001b[1;33m\u001b[0m\u001b[0m\n\u001b[1;32m--> 196\u001b[1;33m                 \u001b[0mouts\u001b[0m \u001b[1;33m=\u001b[0m \u001b[0mfit_function\u001b[0m\u001b[1;33m(\u001b[0m\u001b[0mins_batch\u001b[0m\u001b[1;33m)\u001b[0m\u001b[1;33m\u001b[0m\u001b[1;33m\u001b[0m\u001b[0m\n\u001b[0m\u001b[0;32m    197\u001b[0m                 \u001b[0mouts\u001b[0m \u001b[1;33m=\u001b[0m \u001b[0mto_list\u001b[0m\u001b[1;33m(\u001b[0m\u001b[0mouts\u001b[0m\u001b[1;33m)\u001b[0m\u001b[1;33m\u001b[0m\u001b[1;33m\u001b[0m\u001b[0m\n\u001b[0;32m    198\u001b[0m                 \u001b[1;32mfor\u001b[0m \u001b[0ml\u001b[0m\u001b[1;33m,\u001b[0m \u001b[0mo\u001b[0m \u001b[1;32min\u001b[0m \u001b[0mzip\u001b[0m\u001b[1;33m(\u001b[0m\u001b[0mout_labels\u001b[0m\u001b[1;33m,\u001b[0m \u001b[0mouts\u001b[0m\u001b[1;33m)\u001b[0m\u001b[1;33m:\u001b[0m\u001b[1;33m\u001b[0m\u001b[1;33m\u001b[0m\u001b[0m\n",
      "\u001b[1;32m~\\AppData\\Roaming\\Python\\Python36\\site-packages\\tensorflow\\python\\keras\\backend.py\u001b[0m in \u001b[0;36m__call__\u001b[1;34m(self, inputs)\u001b[0m\n\u001b[0;32m   3290\u001b[0m \u001b[1;33m\u001b[0m\u001b[0m\n\u001b[0;32m   3291\u001b[0m     fetched = self._callable_fn(*array_vals,\n\u001b[1;32m-> 3292\u001b[1;33m                                 run_metadata=self.run_metadata)\n\u001b[0m\u001b[0;32m   3293\u001b[0m     \u001b[0mself\u001b[0m\u001b[1;33m.\u001b[0m\u001b[0m_call_fetch_callbacks\u001b[0m\u001b[1;33m(\u001b[0m\u001b[0mfetched\u001b[0m\u001b[1;33m[\u001b[0m\u001b[1;33m-\u001b[0m\u001b[0mlen\u001b[0m\u001b[1;33m(\u001b[0m\u001b[0mself\u001b[0m\u001b[1;33m.\u001b[0m\u001b[0m_fetches\u001b[0m\u001b[1;33m)\u001b[0m\u001b[1;33m:\u001b[0m\u001b[1;33m]\u001b[0m\u001b[1;33m)\u001b[0m\u001b[1;33m\u001b[0m\u001b[1;33m\u001b[0m\u001b[0m\n\u001b[0;32m   3294\u001b[0m     output_structure = nest.pack_sequence_as(\n",
      "\u001b[1;32m~\\AppData\\Roaming\\Python\\Python36\\site-packages\\tensorflow\\python\\client\\session.py\u001b[0m in \u001b[0;36m__call__\u001b[1;34m(self, *args, **kwargs)\u001b[0m\n\u001b[0;32m   1456\u001b[0m         ret = tf_session.TF_SessionRunCallable(self._session._session,\n\u001b[0;32m   1457\u001b[0m                                                \u001b[0mself\u001b[0m\u001b[1;33m.\u001b[0m\u001b[0m_handle\u001b[0m\u001b[1;33m,\u001b[0m \u001b[0margs\u001b[0m\u001b[1;33m,\u001b[0m\u001b[1;33m\u001b[0m\u001b[1;33m\u001b[0m\u001b[0m\n\u001b[1;32m-> 1458\u001b[1;33m                                                run_metadata_ptr)\n\u001b[0m\u001b[0;32m   1459\u001b[0m         \u001b[1;32mif\u001b[0m \u001b[0mrun_metadata\u001b[0m\u001b[1;33m:\u001b[0m\u001b[1;33m\u001b[0m\u001b[1;33m\u001b[0m\u001b[0m\n\u001b[0;32m   1460\u001b[0m           \u001b[0mproto_data\u001b[0m \u001b[1;33m=\u001b[0m \u001b[0mtf_session\u001b[0m\u001b[1;33m.\u001b[0m\u001b[0mTF_GetBuffer\u001b[0m\u001b[1;33m(\u001b[0m\u001b[0mrun_metadata_ptr\u001b[0m\u001b[1;33m)\u001b[0m\u001b[1;33m\u001b[0m\u001b[1;33m\u001b[0m\u001b[0m\n",
      "\u001b[1;31mKeyboardInterrupt\u001b[0m: "
     ]
    }
   ],
   "source": [
    "acclist = []\n",
    "precisionlist = []\n",
    "recalllist = []\n",
    "auclist = []\n",
    "for size_num in range(10, 31, 1):\n",
    "    size_num /= 10\n",
    "    print(size_num,'=========================')\n",
    "    for loop in range(10):\n",
    "        androgynous_data = Style.groupby('tag_info').agg(androgynous = pd.NamedAgg(column='androgynous', aggfunc='max')).reset_index()\n",
    "        androgynous_data1 = androgynous_data[androgynous_data['androgynous']==1]\n",
    "        androgynous_data2 = androgynous_data[androgynous_data['androgynous']==0].sample(round(len(androgynous_data1)*size_num), random_state=123)\n",
    "        androgynous_data = pd.concat([androgynous_data1, androgynous_data2])\n",
    "        tag_list = list(androgynous_data['tag_info'])\n",
    "\n",
    "        # Tokenize the Text\n",
    "        tokenizer = Tokenizer(num_words=5000, oov_token=\"UNKNOWN_TOKEN\")\n",
    "        tokenizer.fit_on_texts(tag_list)\n",
    "\n",
    "        # get the max length in terms of token length\n",
    "        max_length = get_max_token_length_per_doc(tag_list)\n",
    "\n",
    "        ############################ CHANGE PADDING HERE\n",
    "\n",
    "        # integer encode the documents\n",
    "        encoded_docs = integer_encode_documents(tag_list, tokenizer)\n",
    "        padded_docs = pad_sequences(encoded_docs, maxlen=max_length, padding='post')\n",
    "\n",
    "        encoder = LabelEncoder()\n",
    "        labels = androgynous_data['androgynous']\n",
    "        labels = to_categorical(encoder.fit_transform(labels))\n",
    "\n",
    "        X_train, X_test, y_train, y_test = train_test_split(padded_docs, labels, test_size=0.1, random_state=23)\n",
    "\n",
    "        VOCAB_SIZE = int(len(tokenizer.word_index) * 1.1)\n",
    "\n",
    "        # Load in Embeddings\n",
    "        # create a weight matrix for words in training docs\n",
    "        embedding_matrix = zeros((VOCAB_SIZE, 100))\n",
    "        for word, i in tokenizer.word_index.items():\n",
    "            embedding_vector = embeddings_index.get(word)\n",
    "            if embedding_vector is not None: # check that it is an actual word that we have embeddings for\n",
    "                embedding_matrix[i] = embedding_vector\n",
    "\n",
    "        # define model\n",
    "\n",
    "        def make_lstm_classification_model(plot=False):\n",
    "            model = Sequential()\n",
    "            model.add(Embedding(VOCAB_SIZE, 100, weights=[embedding_matrix], input_length=max_length, trainable=False))\n",
    "            model.add(Masking(mask_value=0.0)) # masking layer, masks any words that don't have an embedding as 0s.\n",
    "            model.add(LSTM(units=32, input_shape=(1, max_length)))\n",
    "            # model.add(Dense(16))\n",
    "            model.add(Dense(8))\n",
    "            model.add(Dense(2, activation='sigmoid'))\n",
    "\n",
    "            # Compile the model\n",
    "            model.compile(\n",
    "            optimizer='adam', loss='categorical_crossentropy', metrics=['accuracy'])\n",
    "            # summarize the model\n",
    "            # model.summary()\n",
    "\n",
    "            if plot:\n",
    "                plot_model(model, to_file='model.png', show_shapes=True)\n",
    "            return model\n",
    "\n",
    "        model = make_lstm_classification_model()\n",
    "\n",
    "        # fit the model\n",
    "        history = model.fit(X_train, y_train,validation_split = 0.1, epochs=15, verbose=0)\n",
    "        # plot_fit_history(history)\n",
    "\n",
    "        y_prob = model.predict(X_test) \n",
    "        y_classes = y_prob.argmax(axis=-1)\n",
    "        ytest = [np.argmax(y, axis=None, out=None) for y in y_test]\n",
    "        # acc\n",
    "        acc = sklearn.metrics.accuracy_score(ytest, y_classes)\n",
    "        # precision \n",
    "        precision = sklearn.metrics.precision_score(ytest, y_classes)\n",
    "        # recall\n",
    "        recall = sklearn.metrics.recall_score(ytest, y_classes)\n",
    "        # auc\n",
    "        auc = sklearn.metrics.roc_auc_score(ytest, [y[1] for y in y_prob])\n",
    "\n",
    "        acclist.append(acc)\n",
    "        precisionlist.append(precision)\n",
    "        recalllist.append(recall)\n",
    "        auclist.append(auc)\n",
    "    print('acc: %f' % np.mean(acclist))\n",
    "    print('precision: %f' % np.mean(precisionlist))\n",
    "    print('recall: %f' % np.mean(recalllist))\n",
    "    print('auc: %f' % np.mean(auclist))"
   ]
  },
  {
   "cell_type": "code",
   "execution_count": null,
   "metadata": {},
   "outputs": [],
   "source": []
  },
  {
   "cell_type": "code",
   "execution_count": null,
   "metadata": {},
   "outputs": [],
   "source": []
  },
  {
   "cell_type": "markdown",
   "metadata": {},
   "source": [
    "## LSTM for all styles"
   ]
  },
  {
   "cell_type": "code",
   "execution_count": null,
   "metadata": {},
   "outputs": [],
   "source": [
    "# Redefine model\n",
    "\n",
    "def make_lstm_classification_model(plot=False):\n",
    "        model = Sequential()\n",
    "        model.add(Embedding(VOCAB_SIZE, 100, weights=[embedding_matrix], input_length=max_length, trainable=False))\n",
    "        model.add(Masking(mask_value=0.0)) # masking layer, masks any words that don't have an embedding as 0s.\n",
    "        model.add(LSTM(units=32, input_shape=(1, max_length)))\n",
    "        # model.add(Dense(16))\n",
    "        model.add(Dense(8))\n",
    "        model.add(Dense(2, activation='sigmoid'))\n",
    "\n",
    "        # Compile the model\n",
    "        model.compile(\n",
    "        optimizer='adam', loss='categorical_crossentropy', metrics=['accuracy'])\n",
    "        # summarize the model\n",
    "        # model.summary()\n",
    "\n",
    "        if plot:\n",
    "            plot_model(model, to_file='model.png', show_shapes=True)\n",
    "        return model"
   ]
  },
  {
   "cell_type": "code",
   "execution_count": 97,
   "metadata": {},
   "outputs": [
    {
     "data": {
      "text/plain": [
       "['androgynous',\n",
       " 'athlete leisure',\n",
       " 'boho',\n",
       " 'business casual',\n",
       " 'casual',\n",
       " 'classic',\n",
       " 'edgy',\n",
       " 'glam',\n",
       " 'modern',\n",
       " 'retro',\n",
       " 'romantic']"
      ]
     },
     "execution_count": 97,
     "metadata": {},
     "output_type": "execute_result"
    }
   ],
   "source": [
    "stylelist"
   ]
  },
  {
   "cell_type": "code",
   "execution_count": 102,
   "metadata": {
    "scrolled": true
   },
   "outputs": [
    {
     "name": "stdout",
     "output_type": "stream",
     "text": [
      "androgynous =========================================\n",
      "Model: \"sequential_6\"\n",
      "_________________________________________________________________\n",
      "Layer (type)                 Output Shape              Param #   \n",
      "=================================================================\n",
      "embedding_6 (Embedding)      (None, 169, 100)          649900    \n",
      "_________________________________________________________________\n",
      "masking_6 (Masking)          (None, 169, 100)          0         \n",
      "_________________________________________________________________\n",
      "lstm_6 (LSTM)                (None, 32)                17024     \n",
      "_________________________________________________________________\n",
      "dense_11 (Dense)             (None, 4)                 132       \n",
      "_________________________________________________________________\n",
      "dense_12 (Dense)             (None, 2)                 10        \n",
      "=================================================================\n",
      "Total params: 667,066\n",
      "Trainable params: 17,166\n",
      "Non-trainable params: 649,900\n",
      "_________________________________________________________________\n",
      "Train on 1248 samples, validate on 139 samples\n",
      "Epoch 1/8\n",
      "1248/1248 [==============================] - 4s 3ms/step - loss: 0.6823 - accuracy: 0.5160 - val_loss: 0.6819 - val_accuracy: 0.6043\n",
      "Epoch 2/8\n",
      "1248/1248 [==============================] - 3s 2ms/step - loss: 0.6514 - accuracy: 0.6130 - val_loss: 0.6610 - val_accuracy: 0.6691\n",
      "Epoch 3/8\n",
      "1248/1248 [==============================] - 4s 3ms/step - loss: 0.6320 - accuracy: 0.6530 - val_loss: 0.6375 - val_accuracy: 0.6763\n",
      "Epoch 4/8\n",
      "1248/1248 [==============================] - 4s 3ms/step - loss: 0.6165 - accuracy: 0.6691 - val_loss: 0.6186 - val_accuracy: 0.6763\n",
      "Epoch 5/8\n",
      "1248/1248 [==============================] - 4s 3ms/step - loss: 0.6020 - accuracy: 0.6859 - val_loss: 0.6179 - val_accuracy: 0.7122\n",
      "Epoch 6/8\n",
      "1248/1248 [==============================] - 4s 3ms/step - loss: 0.5866 - accuracy: 0.6899 - val_loss: 0.6028 - val_accuracy: 0.6978\n",
      "Epoch 7/8\n",
      "1248/1248 [==============================] - 4s 3ms/step - loss: 0.5660 - accuracy: 0.7155 - val_loss: 0.6406 - val_accuracy: 0.6906\n",
      "Epoch 8/8\n",
      "1248/1248 [==============================] - 4s 3ms/step - loss: 0.5563 - accuracy: 0.7107 - val_loss: 0.5804 - val_accuracy: 0.7482\n"
     ]
    },
    {
     "data": {
      "image/png": "[encoded data removed]",
      "text/plain": [
       "<Figure size 432x288 with 1 Axes>"
      ]
     },
     "metadata": {
      "needs_background": "light"
     },
     "output_type": "display_data"
    },
    {
     "name": "stdout",
     "output_type": "stream",
     "text": [
      "155/155 [==============================] - 0s 1ms/step\n",
      "Accuracy: 67.741936\n",
      "Original Accuracy: 0.521401\n",
      "Confusion Matrix:  [[54 37]\n",
      " [13 51]]\n",
      "tn, fp, fn, tp:   54 37 13 51\n",
      "acc: 0.677419\n",
      "precision: 0.579545\n",
      "recall: 0.796875\n",
      "auc: 0.734203\n",
      "athlete leisure =========================================\n",
      "Model: \"sequential_7\"\n",
      "_________________________________________________________________\n",
      "Layer (type)                 Output Shape              Param #   \n",
      "=================================================================\n",
      "embedding_7 (Embedding)      (None, 145, 100)          556400    \n",
      "_________________________________________________________________\n",
      "masking_7 (Masking)          (None, 145, 100)          0         \n",
      "_________________________________________________________________\n",
      "lstm_7 (LSTM)                (None, 32)                17024     \n",
      "_________________________________________________________________\n",
      "dense_13 (Dense)             (None, 4)                 132       \n",
      "_________________________________________________________________\n",
      "dense_14 (Dense)             (None, 2)                 10        \n",
      "=================================================================\n",
      "Total params: 573,566\n",
      "Trainable params: 17,166\n",
      "Non-trainable params: 556,400\n",
      "_________________________________________________________________\n",
      "Train on 875 samples, validate on 98 samples\n",
      "Epoch 1/8\n",
      "875/875 [==============================] - 3s 4ms/step - loss: 0.5732 - accuracy: 0.7326 - val_loss: 0.5200 - val_accuracy: 0.7653\n",
      "Epoch 2/8\n",
      "875/875 [==============================] - 2s 3ms/step - loss: 0.5071 - accuracy: 0.7383 - val_loss: 0.4765 - val_accuracy: 0.7857\n",
      "Epoch 3/8\n",
      "875/875 [==============================] - 2s 3ms/step - loss: 0.4185 - accuracy: 0.7931 - val_loss: 0.4063 - val_accuracy: 0.8469\n",
      "Epoch 4/8\n",
      "875/875 [==============================] - 2s 3ms/step - loss: 0.3708 - accuracy: 0.8331 - val_loss: 0.3717 - val_accuracy: 0.8469\n",
      "Epoch 5/8\n",
      "875/875 [==============================] - 2s 3ms/step - loss: 0.3156 - accuracy: 0.8663 - val_loss: 0.3636 - val_accuracy: 0.8469\n",
      "Epoch 6/8\n",
      "875/875 [==============================] - 2s 3ms/step - loss: 0.2816 - accuracy: 0.8834 - val_loss: 0.3748 - val_accuracy: 0.8265\n",
      "Epoch 7/8\n",
      "875/875 [==============================] - 2s 3ms/step - loss: 0.2565 - accuracy: 0.8994 - val_loss: 0.3951 - val_accuracy: 0.8265\n",
      "Epoch 8/8\n",
      "875/875 [==============================] - 2s 3ms/step - loss: 0.2291 - accuracy: 0.9143 - val_loss: 0.3721 - val_accuracy: 0.7959\n"
     ]
    },
    {
     "data": {
      "image/png": "[encoded data removed]",
      "text/plain": [
       "<Figure size 432x288 with 1 Axes>"
      ]
     },
     "metadata": {
      "needs_background": "light"
     },
     "output_type": "display_data"
    },
    {
     "name": "stdout",
     "output_type": "stream",
     "text": [
      "109/109 [==============================] - 0s 1ms/step\n",
      "Accuracy: 89.908254\n",
      "Original Accuracy: 0.739372\n",
      "Confusion Matrix:  [[73 10]\n",
      " [ 1 25]]\n",
      "tn, fp, fn, tp:   73 10 1 25\n",
      "acc: 0.899083\n",
      "precision: 0.714286\n",
      "recall: 0.961538\n",
      "auc: 0.951807\n",
      "boho =========================================\n",
      "Model: \"sequential_8\"\n",
      "_________________________________________________________________\n",
      "Layer (type)                 Output Shape              Param #   \n",
      "=================================================================\n",
      "embedding_8 (Embedding)      (None, 128, 100)          596200    \n",
      "_________________________________________________________________\n",
      "masking_8 (Masking)          (None, 128, 100)          0         \n",
      "_________________________________________________________________\n",
      "lstm_8 (LSTM)                (None, 32)                17024     \n",
      "_________________________________________________________________\n",
      "dense_15 (Dense)             (None, 4)                 132       \n",
      "_________________________________________________________________\n",
      "dense_16 (Dense)             (None, 2)                 10        \n",
      "=================================================================\n",
      "Total params: 613,366\n",
      "Trainable params: 17,166\n",
      "Non-trainable params: 596,200\n",
      "_________________________________________________________________\n",
      "Train on 1052 samples, validate on 117 samples\n",
      "Epoch 1/8\n",
      "1052/1052 [==============================] - 3s 3ms/step - loss: 0.6554 - accuracy: 0.6150 - val_loss: 0.6752 - val_accuracy: 0.5812\n",
      "Epoch 2/8\n",
      "1052/1052 [==============================] - 2s 2ms/step - loss: 0.6302 - accuracy: 0.6445 - val_loss: 0.6835 - val_accuracy: 0.5726\n",
      "Epoch 3/8\n",
      "1052/1052 [==============================] - 2s 2ms/step - loss: 0.6208 - accuracy: 0.6568 - val_loss: 0.6454 - val_accuracy: 0.6496\n",
      "Epoch 4/8\n",
      "1052/1052 [==============================] - 3s 2ms/step - loss: 0.6003 - accuracy: 0.6844 - val_loss: 0.6467 - val_accuracy: 0.6068\n",
      "Epoch 5/8\n",
      "1052/1052 [==============================] - 2s 2ms/step - loss: 0.5807 - accuracy: 0.6911 - val_loss: 0.6165 - val_accuracy: 0.6325\n",
      "Epoch 6/8\n",
      "1052/1052 [==============================] - 2s 2ms/step - loss: 0.5705 - accuracy: 0.7072 - val_loss: 0.5898 - val_accuracy: 0.6923\n",
      "Epoch 7/8\n",
      "1052/1052 [==============================] - 2s 2ms/step - loss: 0.5416 - accuracy: 0.7300 - val_loss: 0.5771 - val_accuracy: 0.6923\n",
      "Epoch 8/8\n",
      "1052/1052 [==============================] - 2s 2ms/step - loss: 0.5120 - accuracy: 0.7462 - val_loss: 0.5665 - val_accuracy: 0.7265\n"
     ]
    },
    {
     "data": {
      "image/png": "[encoded data removed]",
      "text/plain": [
       "<Figure size 432x288 with 1 Axes>"
      ]
     },
     "metadata": {
      "needs_background": "light"
     },
     "output_type": "display_data"
    },
    {
     "name": "stdout",
     "output_type": "stream",
     "text": [
      "130/130 [==============================] - 0s 978us/step\n",
      "Accuracy: 73.076922\n",
      "Original Accuracy: 0.618938\n",
      "Confusion Matrix:  [[65 18]\n",
      " [17 30]]\n",
      "tn, fp, fn, tp:   65 18 17 30\n",
      "acc: 0.730769\n",
      "precision: 0.625000\n",
      "recall: 0.638298\n",
      "auc: 0.740836\n",
      "business casual =========================================\n",
      "Model: \"sequential_9\"\n",
      "_________________________________________________________________\n",
      "Layer (type)                 Output Shape              Param #   \n",
      "=================================================================\n",
      "embedding_9 (Embedding)      (None, 187, 100)          670000    \n",
      "_________________________________________________________________\n",
      "masking_9 (Masking)          (None, 187, 100)          0         \n",
      "_________________________________________________________________\n",
      "lstm_9 (LSTM)                (None, 32)                17024     \n",
      "_________________________________________________________________\n",
      "dense_17 (Dense)             (None, 4)                 132       \n",
      "_________________________________________________________________\n",
      "dense_18 (Dense)             (None, 2)                 10        \n",
      "=================================================================\n",
      "Total params: 687,166\n",
      "Trainable params: 17,166\n",
      "Non-trainable params: 670,000\n",
      "_________________________________________________________________\n",
      "Train on 1596 samples, validate on 178 samples\n",
      "Epoch 1/8\n",
      "1596/1596 [==============================] - 6s 4ms/step - loss: 0.6733 - accuracy: 0.5871 - val_loss: 0.6397 - val_accuracy: 0.6629\n",
      "Epoch 2/8\n",
      "1596/1596 [==============================] - 5s 3ms/step - loss: 0.6425 - accuracy: 0.6454 - val_loss: 0.6150 - val_accuracy: 0.6742\n",
      "Epoch 3/8\n",
      "1596/1596 [==============================] - 5s 3ms/step - loss: 0.6268 - accuracy: 0.6642 - val_loss: 0.6063 - val_accuracy: 0.7079\n",
      "Epoch 4/8\n",
      "1596/1596 [==============================] - 5s 3ms/step - loss: 0.6190 - accuracy: 0.6685 - val_loss: 0.6028 - val_accuracy: 0.6966\n",
      "Epoch 5/8\n",
      "1596/1596 [==============================] - 5s 3ms/step - loss: 0.6110 - accuracy: 0.6798 - val_loss: 0.6070 - val_accuracy: 0.6910\n",
      "Epoch 6/8\n",
      "1596/1596 [==============================] - 5s 3ms/step - loss: 0.5968 - accuracy: 0.7005 - val_loss: 0.6082 - val_accuracy: 0.6910\n",
      "Epoch 7/8\n",
      "1596/1596 [==============================] - 5s 3ms/step - loss: 0.5862 - accuracy: 0.6986 - val_loss: 0.6130 - val_accuracy: 0.6742\n",
      "Epoch 8/8\n",
      "1596/1596 [==============================] - 5s 3ms/step - loss: 0.5735 - accuracy: 0.7061 - val_loss: 0.6316 - val_accuracy: 0.6461\n"
     ]
    },
    {
     "data": {
      "image/png": "[encoded data removed]",
      "text/plain": [
       "<Figure size 432x288 with 1 Axes>"
      ]
     },
     "metadata": {
      "needs_background": "light"
     },
     "output_type": "display_data"
    },
    {
     "name": "stdout",
     "output_type": "stream",
     "text": [
      "198/198 [==============================] - 0s 1ms/step\n",
      "Accuracy: 52.525252\n",
      "Original Accuracy: 0.405680\n",
      "Confusion Matrix:  [[33 46]\n",
      " [48 71]]\n",
      "tn, fp, fn, tp:   33 46 48 71\n",
      "acc: 0.525253\n",
      "precision: 0.606838\n",
      "recall: 0.596639\n",
      "auc: 0.538507\n",
      "casual =========================================\n",
      "Model: \"sequential_10\"\n",
      "_________________________________________________________________\n",
      "Layer (type)                 Output Shape              Param #   \n",
      "=================================================================\n",
      "embedding_10 (Embedding)     (None, 132, 100)          878100    \n",
      "_________________________________________________________________\n",
      "masking_10 (Masking)         (None, 132, 100)          0         \n",
      "_________________________________________________________________\n",
      "lstm_10 (LSTM)               (None, 32)                17024     \n",
      "_________________________________________________________________\n",
      "dense_19 (Dense)             (None, 4)                 132       \n",
      "_________________________________________________________________\n",
      "dense_20 (Dense)             (None, 2)                 10        \n",
      "=================================================================\n",
      "Total params: 895,266\n",
      "Trainable params: 17,166\n",
      "Non-trainable params: 878,100\n",
      "_________________________________________________________________\n",
      "Train on 2798 samples, validate on 311 samples\n",
      "Epoch 1/8\n",
      "2798/2798 [==============================] - 7s 2ms/step - loss: 0.5525 - accuracy: 0.7731 - val_loss: 0.5315 - val_accuracy: 0.7781\n",
      "Epoch 2/8\n",
      "2798/2798 [==============================] - 7s 2ms/step - loss: 0.5344 - accuracy: 0.7734 - val_loss: 0.5286 - val_accuracy: 0.7781\n",
      "Epoch 3/8\n",
      "2798/2798 [==============================] - 6s 2ms/step - loss: 0.5324 - accuracy: 0.7734 - val_loss: 0.5263 - val_accuracy: 0.7781\n",
      "Epoch 4/8\n",
      "2798/2798 [==============================] - 7s 2ms/step - loss: 0.5301 - accuracy: 0.7734 - val_loss: 0.5246 - val_accuracy: 0.7781\n",
      "Epoch 5/8\n",
      "2798/2798 [==============================] - 6s 2ms/step - loss: 0.5294 - accuracy: 0.7734 - val_loss: 0.5258 - val_accuracy: 0.7781\n",
      "Epoch 6/8\n",
      "2798/2798 [==============================] - 6s 2ms/step - loss: 0.5273 - accuracy: 0.7734 - val_loss: 0.5241 - val_accuracy: 0.7781\n",
      "Epoch 7/8\n",
      "2798/2798 [==============================] - 7s 2ms/step - loss: 0.5254 - accuracy: 0.7734 - val_loss: 0.5169 - val_accuracy: 0.7781\n",
      "Epoch 8/8\n",
      "2798/2798 [==============================] - 6s 2ms/step - loss: 0.5236 - accuracy: 0.7734 - val_loss: 0.5220 - val_accuracy: 0.7781\n"
     ]
    },
    {
     "data": {
      "image/png": "[encoded data removed]",
      "text/plain": [
       "<Figure size 432x288 with 1 Axes>"
      ]
     },
     "metadata": {
      "needs_background": "light"
     },
     "output_type": "display_data"
    },
    {
     "name": "stdout",
     "output_type": "stream",
     "text": [
      "346/346 [==============================] - 0s 798us/step\n",
      "Accuracy: 80.057806\n",
      "Original Accuracy: 0.223444\n",
      "Confusion Matrix:  [[  0  69]\n",
      " [  0 277]]\n",
      "tn, fp, fn, tp:   0 69 0 277\n",
      "acc: 0.800578\n",
      "precision: 0.800578\n",
      "recall: 1.000000\n",
      "auc: 0.491760\n",
      "classic =========================================\n",
      "Model: \"sequential_11\"\n",
      "_________________________________________________________________\n",
      "Layer (type)                 Output Shape              Param #   \n",
      "=================================================================\n",
      "embedding_11 (Embedding)     (None, 187, 100)          747200    \n",
      "_________________________________________________________________\n",
      "masking_11 (Masking)         (None, 187, 100)          0         \n",
      "_________________________________________________________________\n",
      "lstm_11 (LSTM)               (None, 32)                17024     \n",
      "_________________________________________________________________\n",
      "dense_21 (Dense)             (None, 4)                 132       \n",
      "_________________________________________________________________\n",
      "dense_22 (Dense)             (None, 2)                 10        \n",
      "=================================================================\n",
      "Total params: 764,366\n",
      "Trainable params: 17,166\n",
      "Non-trainable params: 747,200\n",
      "_________________________________________________________________\n",
      "Train on 1943 samples, validate on 216 samples\n",
      "Epoch 1/8\n",
      "1943/1943 [==============================] - 7s 4ms/step - loss: 0.6414 - accuracy: 0.6608 - val_loss: 0.6395 - val_accuracy: 0.6574\n",
      "Epoch 2/8\n",
      "1943/1943 [==============================] - 7s 3ms/step - loss: 0.6283 - accuracy: 0.6619 - val_loss: 0.6482 - val_accuracy: 0.6620\n",
      "Epoch 3/8\n",
      "1943/1943 [==============================] - 7s 3ms/step - loss: 0.6242 - accuracy: 0.6660 - val_loss: 0.6431 - val_accuracy: 0.6667\n",
      "Epoch 4/8\n",
      "1943/1943 [==============================] - 7s 3ms/step - loss: 0.6230 - accuracy: 0.6722 - val_loss: 0.6353 - val_accuracy: 0.6759\n",
      "Epoch 5/8\n",
      "1943/1943 [==============================] - 6s 3ms/step - loss: 0.6158 - accuracy: 0.6809 - val_loss: 0.6347 - val_accuracy: 0.6759\n",
      "Epoch 6/8\n",
      "1943/1943 [==============================] - 6s 3ms/step - loss: 0.6075 - accuracy: 0.6835 - val_loss: 0.6398 - val_accuracy: 0.6944\n",
      "Epoch 7/8\n",
      "1943/1943 [==============================] - 7s 3ms/step - loss: 0.6010 - accuracy: 0.6897 - val_loss: 0.6400 - val_accuracy: 0.6898\n",
      "Epoch 8/8\n",
      "1943/1943 [==============================] - 6s 3ms/step - loss: 0.5951 - accuracy: 0.6963 - val_loss: 0.6404 - val_accuracy: 0.6898\n"
     ]
    },
    {
     "data": {
      "image/png": "[encoded data removed]",
      "text/plain": [
       "<Figure size 432x288 with 1 Axes>"
      ]
     },
     "metadata": {
      "needs_background": "light"
     },
     "output_type": "display_data"
    },
    {
     "name": "stdout",
     "output_type": "stream",
     "text": [
      "240/240 [==============================] - 0s 1ms/step\n",
      "Accuracy: 71.666664\n",
      "Original Accuracy: 0.334306\n",
      "Confusion Matrix:  [[  8  64]\n",
      " [  4 164]]\n",
      "tn, fp, fn, tp:   8 64 4 164\n",
      "acc: 0.716667\n",
      "precision: 0.719298\n",
      "recall: 0.976190\n",
      "auc: 0.555556\n",
      "edgy =========================================\n",
      "Model: \"sequential_12\"\n",
      "_________________________________________________________________\n",
      "Layer (type)                 Output Shape              Param #   \n",
      "=================================================================\n",
      "embedding_12 (Embedding)     (None, 132, 100)          622100    \n",
      "_________________________________________________________________\n",
      "masking_12 (Masking)         (None, 132, 100)          0         \n",
      "_________________________________________________________________\n",
      "lstm_12 (LSTM)               (None, 32)                17024     \n",
      "_________________________________________________________________\n",
      "dense_23 (Dense)             (None, 4)                 132       \n",
      "_________________________________________________________________\n",
      "dense_24 (Dense)             (None, 2)                 10        \n",
      "=================================================================\n",
      "Total params: 639,266\n",
      "Trainable params: 17,166\n",
      "Non-trainable params: 622,100\n",
      "_________________________________________________________________\n",
      "Train on 1314 samples, validate on 146 samples\n",
      "Epoch 1/8\n",
      "1314/1314 [==============================] - 4s 3ms/step - loss: 0.6922 - accuracy: 0.5251 - val_loss: 0.6834 - val_accuracy: 0.5616\n",
      "Epoch 2/8\n",
      "1314/1314 [==============================] - 3s 3ms/step - loss: 0.6723 - accuracy: 0.5822 - val_loss: 0.6737 - val_accuracy: 0.5411\n",
      "Epoch 3/8\n",
      "1314/1314 [==============================] - 3s 2ms/step - loss: 0.6539 - accuracy: 0.6233 - val_loss: 0.6807 - val_accuracy: 0.5548\n",
      "Epoch 4/8\n",
      "1314/1314 [==============================] - 3s 2ms/step - loss: 0.6349 - accuracy: 0.6484 - val_loss: 0.6833 - val_accuracy: 0.5753\n",
      "Epoch 5/8\n",
      "1314/1314 [==============================] - 3s 2ms/step - loss: 0.6270 - accuracy: 0.6530 - val_loss: 0.6863 - val_accuracy: 0.5890\n",
      "Epoch 6/8\n",
      "1314/1314 [==============================] - 3s 3ms/step - loss: 0.6067 - accuracy: 0.6750 - val_loss: 0.6885 - val_accuracy: 0.5959\n",
      "Epoch 7/8\n",
      "1314/1314 [==============================] - 3s 3ms/step - loss: 0.5910 - accuracy: 0.6941 - val_loss: 0.6786 - val_accuracy: 0.6096\n",
      "Epoch 8/8\n",
      "1314/1314 [==============================] - 3s 2ms/step - loss: 0.5744 - accuracy: 0.7002 - val_loss: 0.7157 - val_accuracy: 0.5753\n"
     ]
    },
    {
     "data": {
      "image/png": "[encoded data removed]",
      "text/plain": [
       "<Figure size 432x288 with 1 Axes>"
      ]
     },
     "metadata": {
      "needs_background": "light"
     },
     "output_type": "display_data"
    },
    {
     "name": "stdout",
     "output_type": "stream",
     "text": [
      "163/163 [==============================] - 0s 918us/step\n",
      "Accuracy: 63.803679\n",
      "Original Accuracy: 0.494147\n",
      "Confusion Matrix:  [[48 27]\n",
      " [32 56]]\n",
      "tn, fp, fn, tp:   48 27 32 56\n",
      "acc: 0.638037\n",
      "precision: 0.674699\n",
      "recall: 0.636364\n",
      "auc: 0.666136\n",
      "glam =========================================\n",
      "Model: \"sequential_13\"\n",
      "_________________________________________________________________\n",
      "Layer (type)                 Output Shape              Param #   \n",
      "=================================================================\n",
      "embedding_13 (Embedding)     (None, 138, 100)          575700    \n",
      "_________________________________________________________________\n",
      "masking_13 (Masking)         (None, 138, 100)          0         \n",
      "_________________________________________________________________\n",
      "lstm_13 (LSTM)               (None, 32)                17024     \n",
      "_________________________________________________________________\n",
      "dense_25 (Dense)             (None, 4)                 132       \n",
      "_________________________________________________________________\n",
      "dense_26 (Dense)             (None, 2)                 10        \n",
      "=================================================================\n",
      "Total params: 592,866\n",
      "Trainable params: 17,166\n",
      "Non-trainable params: 575,700\n",
      "_________________________________________________________________\n",
      "Train on 1014 samples, validate on 113 samples\n",
      "Epoch 1/8\n",
      "1014/1014 [==============================] - 4s 4ms/step - loss: 0.6488 - accuracy: 0.6193 - val_loss: 0.6351 - val_accuracy: 0.6018\n",
      "Epoch 2/8\n",
      "1014/1014 [==============================] - 3s 3ms/step - loss: 0.6230 - accuracy: 0.6568 - val_loss: 0.6132 - val_accuracy: 0.6372\n",
      "Epoch 3/8\n",
      "1014/1014 [==============================] - 3s 3ms/step - loss: 0.5962 - accuracy: 0.6706 - val_loss: 0.6092 - val_accuracy: 0.6814\n",
      "Epoch 4/8\n",
      "1014/1014 [==============================] - 3s 3ms/step - loss: 0.5685 - accuracy: 0.6982 - val_loss: 0.5849 - val_accuracy: 0.7168\n",
      "Epoch 5/8\n",
      "1014/1014 [==============================] - 3s 3ms/step - loss: 0.5397 - accuracy: 0.7140 - val_loss: 0.6267 - val_accuracy: 0.6726\n",
      "Epoch 6/8\n",
      "1014/1014 [==============================] - 3s 3ms/step - loss: 0.5091 - accuracy: 0.7505 - val_loss: 0.5811 - val_accuracy: 0.6814\n",
      "Epoch 7/8\n",
      "1014/1014 [==============================] - 3s 3ms/step - loss: 0.5060 - accuracy: 0.7515 - val_loss: 0.6028 - val_accuracy: 0.6814\n",
      "Epoch 8/8\n",
      "1014/1014 [==============================] - 3s 3ms/step - loss: 0.4658 - accuracy: 0.7830 - val_loss: 0.5499 - val_accuracy: 0.7434\n"
     ]
    },
    {
     "data": {
      "image/png": "[encoded data removed]",
      "text/plain": [
       "<Figure size 432x288 with 1 Axes>"
      ]
     },
     "metadata": {
      "needs_background": "light"
     },
     "output_type": "display_data"
    },
    {
     "name": "stdout",
     "output_type": "stream",
     "text": [
      "126/126 [==============================] - 0s 872us/step\n",
      "Accuracy: 70.634919\n",
      "Original Accuracy: 0.641660\n",
      "Confusion Matrix:  [[66 18]\n",
      " [19 23]]\n",
      "tn, fp, fn, tp:   66 18 19 23\n",
      "acc: 0.706349\n",
      "precision: 0.560976\n",
      "recall: 0.547619\n",
      "auc: 0.746740\n",
      "modern =========================================\n",
      "Model: \"sequential_14\"\n",
      "_________________________________________________________________\n",
      "Layer (type)                 Output Shape              Param #   \n",
      "=================================================================\n",
      "embedding_14 (Embedding)     (None, 187, 100)          812900    \n",
      "_________________________________________________________________\n",
      "masking_14 (Masking)         (None, 187, 100)          0         \n",
      "_________________________________________________________________\n",
      "lstm_14 (LSTM)               (None, 32)                17024     \n",
      "_________________________________________________________________\n",
      "dense_27 (Dense)             (None, 4)                 132       \n",
      "_________________________________________________________________\n",
      "dense_28 (Dense)             (None, 2)                 10        \n",
      "=================================================================\n",
      "Total params: 830,066\n",
      "Trainable params: 17,166\n",
      "Non-trainable params: 812,900\n",
      "_________________________________________________________________\n",
      "Train on 2203 samples, validate on 245 samples\n",
      "Epoch 1/8\n",
      "2203/2203 [==============================] - 9s 4ms/step - loss: 0.6130 - accuracy: 0.6886 - val_loss: 0.6130 - val_accuracy: 0.6857\n",
      "Epoch 2/8\n",
      "2203/2203 [==============================] - 7s 3ms/step - loss: 0.5883 - accuracy: 0.7118 - val_loss: 0.6105 - val_accuracy: 0.6939\n",
      "Epoch 3/8\n",
      "2203/2203 [==============================] - 8s 3ms/step - loss: 0.5838 - accuracy: 0.7177 - val_loss: 0.6183 - val_accuracy: 0.6939\n",
      "Epoch 4/8\n",
      "2203/2203 [==============================] - 8s 3ms/step - loss: 0.5778 - accuracy: 0.7186 - val_loss: 0.6090 - val_accuracy: 0.6939\n",
      "Epoch 5/8\n",
      "2203/2203 [==============================] - 8s 4ms/step - loss: 0.5730 - accuracy: 0.7208 - val_loss: 0.6083 - val_accuracy: 0.6898\n",
      "Epoch 6/8\n",
      "2203/2203 [==============================] - 8s 3ms/step - loss: 0.5668 - accuracy: 0.7254 - val_loss: 0.6046 - val_accuracy: 0.7020\n",
      "Epoch 7/8\n",
      "2203/2203 [==============================] - 8s 4ms/step - loss: 0.5601 - accuracy: 0.7304 - val_loss: 0.6074 - val_accuracy: 0.6898\n",
      "Epoch 8/8\n",
      "2203/2203 [==============================] - 9s 4ms/step - loss: 0.5550 - accuracy: 0.7381 - val_loss: 0.6150 - val_accuracy: 0.6898\n"
     ]
    },
    {
     "data": {
      "image/png": "[encoded data removed]",
      "text/plain": [
       "<Figure size 432x288 with 1 Axes>"
      ]
     },
     "metadata": {
      "needs_background": "light"
     },
     "output_type": "display_data"
    },
    {
     "name": "stdout",
     "output_type": "stream",
     "text": [
      "273/273 [==============================] - 0s 1ms/step\n",
      "Accuracy: 72.527474\n",
      "Original Accuracy: 0.294745\n",
      "Confusion Matrix:  [[ 18  62]\n",
      " [ 13 180]]\n",
      "tn, fp, fn, tp:   18 62 13 180\n",
      "acc: 0.725275\n",
      "precision: 0.743802\n",
      "recall: 0.932642\n",
      "auc: 0.575486\n",
      "retro =========================================\n",
      "Model: \"sequential_15\"\n",
      "_________________________________________________________________\n",
      "Layer (type)                 Output Shape              Param #   \n",
      "=================================================================\n",
      "embedding_15 (Embedding)     (None, 169, 100)          527400    \n",
      "_________________________________________________________________\n",
      "masking_15 (Masking)         (None, 169, 100)          0         \n",
      "_________________________________________________________________\n",
      "lstm_15 (LSTM)               (None, 32)                17024     \n",
      "_________________________________________________________________\n",
      "dense_29 (Dense)             (None, 4)                 132       \n",
      "_________________________________________________________________\n",
      "dense_30 (Dense)             (None, 2)                 10        \n",
      "=================================================================\n",
      "Total params: 544,566\n",
      "Trainable params: 17,166\n",
      "Non-trainable params: 527,400\n",
      "_________________________________________________________________\n",
      "Train on 842 samples, validate on 94 samples\n",
      "Epoch 1/8\n",
      "842/842 [==============================] - 4s 5ms/step - loss: 0.5687 - accuracy: 0.7577 - val_loss: 0.4829 - val_accuracy: 0.8191\n",
      "Epoch 2/8\n",
      "842/842 [==============================] - 3s 3ms/step - loss: 0.5249 - accuracy: 0.7684 - val_loss: 0.4789 - val_accuracy: 0.8191\n",
      "Epoch 3/8\n",
      "842/842 [==============================] - 3s 3ms/step - loss: 0.5117 - accuracy: 0.7684 - val_loss: 0.4797 - val_accuracy: 0.8191\n",
      "Epoch 4/8\n",
      "842/842 [==============================] - 3s 3ms/step - loss: 0.5011 - accuracy: 0.7720 - val_loss: 0.4666 - val_accuracy: 0.8191\n",
      "Epoch 5/8\n",
      "842/842 [==============================] - 3s 3ms/step - loss: 0.4897 - accuracy: 0.7732 - val_loss: 0.4687 - val_accuracy: 0.8191\n",
      "Epoch 6/8\n",
      "842/842 [==============================] - 3s 3ms/step - loss: 0.4708 - accuracy: 0.7720 - val_loss: 0.4637 - val_accuracy: 0.8191\n",
      "Epoch 7/8\n",
      "842/842 [==============================] - 3s 3ms/step - loss: 0.4484 - accuracy: 0.7838 - val_loss: 0.4802 - val_accuracy: 0.8298\n",
      "Epoch 8/8\n",
      "842/842 [==============================] - 3s 3ms/step - loss: 0.4367 - accuracy: 0.7886 - val_loss: 0.4713 - val_accuracy: 0.8298\n"
     ]
    },
    {
     "data": {
      "image/png": "[encoded data removed]",
      "text/plain": [
       "<Figure size 432x288 with 1 Axes>"
      ]
     },
     "metadata": {
      "needs_background": "light"
     },
     "output_type": "display_data"
    },
    {
     "name": "stdout",
     "output_type": "stream",
     "text": [
      "105/105 [==============================] - 0s 1ms/step\n",
      "Accuracy: 79.047620\n",
      "Original Accuracy: 0.772334\n",
      "Confusion Matrix:  [[78  2]\n",
      " [20  5]]\n",
      "tn, fp, fn, tp:   78 2 20 5\n",
      "acc: 0.790476\n",
      "precision: 0.714286\n",
      "recall: 0.200000\n",
      "auc: 0.626500\n",
      "romantic =========================================\n",
      "Model: \"sequential_16\"\n",
      "_________________________________________________________________\n",
      "Layer (type)                 Output Shape              Param #   \n",
      "=================================================================\n",
      "embedding_16 (Embedding)     (None, 145, 100)          593200    \n",
      "_________________________________________________________________\n",
      "masking_16 (Masking)         (None, 145, 100)          0         \n",
      "_________________________________________________________________\n",
      "lstm_16 (LSTM)               (None, 32)                17024     \n",
      "_________________________________________________________________\n",
      "dense_31 (Dense)             (None, 4)                 132       \n",
      "_________________________________________________________________\n",
      "dense_32 (Dense)             (None, 2)                 10        \n",
      "=================================================================\n",
      "Total params: 610,366\n",
      "Trainable params: 17,166\n",
      "Non-trainable params: 593,200\n",
      "_________________________________________________________________\n",
      "Train on 1118 samples, validate on 125 samples\n",
      "Epoch 1/8\n",
      "1118/1118 [==============================] - 4s 4ms/step - loss: 0.6755 - accuracy: 0.5671 - val_loss: 0.6866 - val_accuracy: 0.5360\n",
      "Epoch 2/8\n",
      "1118/1118 [==============================] - 3s 3ms/step - loss: 0.6367 - accuracy: 0.6306 - val_loss: 0.6780 - val_accuracy: 0.5360\n",
      "Epoch 3/8\n",
      "1118/1118 [==============================] - 3s 3ms/step - loss: 0.6199 - accuracy: 0.6503 - val_loss: 0.6589 - val_accuracy: 0.6160\n",
      "Epoch 4/8\n",
      "1118/1118 [==============================] - 3s 3ms/step - loss: 0.6061 - accuracy: 0.6386 - val_loss: 0.6620 - val_accuracy: 0.6240\n",
      "Epoch 5/8\n",
      "1118/1118 [==============================] - 3s 2ms/step - loss: 0.5868 - accuracy: 0.6708 - val_loss: 0.6673 - val_accuracy: 0.6000\n",
      "Epoch 6/8\n",
      "1118/1118 [==============================] - 3s 3ms/step - loss: 0.5800 - accuracy: 0.6637 - val_loss: 0.6090 - val_accuracy: 0.6720\n",
      "Epoch 7/8\n",
      "1118/1118 [==============================] - 3s 3ms/step - loss: 0.5645 - accuracy: 0.6914 - val_loss: 0.6311 - val_accuracy: 0.6240\n",
      "Epoch 8/8\n",
      "1118/1118 [==============================] - 3s 3ms/step - loss: 0.5491 - accuracy: 0.7138 - val_loss: 0.6240 - val_accuracy: 0.6720\n"
     ]
    },
    {
     "data": {
      "image/png": "[encoded data removed]",
      "text/plain": [
       "<Figure size 432x288 with 1 Axes>"
      ]
     },
     "metadata": {
      "needs_background": "light"
     },
     "output_type": "display_data"
    },
    {
     "name": "stdout",
     "output_type": "stream",
     "text": [
      "139/139 [==============================] - 0s 1ms/step\n",
      "Accuracy: 64.748204\n",
      "Original Accuracy: 0.581766\n",
      "Confusion Matrix:  [[51 27]\n",
      " [22 39]]\n",
      "tn, fp, fn, tp:   51 27 22 39\n",
      "acc: 0.647482\n",
      "precision: 0.590909\n",
      "recall: 0.639344\n",
      "auc: 0.699769\n"
     ]
    }
   ],
   "source": [
    "acclist = []\n",
    "precisionlist = []\n",
    "recalllist = []\n",
    "auclist = []\n",
    "\n",
    "for style in stylelist:\n",
    "    \n",
    "    print(style,'=========================================')\n",
    "    \n",
    "    for loop in range(10):\n",
    "        data = Style.groupby('tag_info').agg(style = pd.NamedAgg(column=style, aggfunc='max')).reset_index()\n",
    "        data1 = data[data[style]==1]\n",
    "        data2 = data[data[style]==0]..sample(round(len(data1)*1.5), random_state=123)\n",
    "        data = pd.concat([data1, data2])\n",
    "        tag_list = list(data['tag_info'])\n",
    "\n",
    "        # Tokenize the Text\n",
    "        tokenizer = Tokenizer(num_words=5000, oov_token=\"UNKNOWN_TOKEN\")\n",
    "        tokenizer.fit_on_texts(tag_list)\n",
    "\n",
    "        # get the max length in terms of token length\n",
    "        max_length = get_max_token_length_per_doc(tag_list)\n",
    "\n",
    "        # integer encode the documents\n",
    "        encoded_docs = integer_encode_documents(tag_list, tokenizer)\n",
    "        # this is a list of lists, the numbers represent the index position of that word.\n",
    "        # for instance, 33 means the 33rd word in the vocabulary\n",
    "        # Notice the last document has 4 numbers, since it is a 4 word document: Could have done better.\n",
    "        padded_docs = pad_sequences(encoded_docs, maxlen=max_length, padding='post')\n",
    "\n",
    "        encoder = LabelEncoder()\n",
    "        labels = data[style]\n",
    "        labels = to_categorical(encoder.fit_transform(labels))\n",
    "\n",
    "        X_train, X_test, y_train, y_test = train_test_split(padded_docs, labels, test_size=0.1, random_state=23)\n",
    "\n",
    "        VOCAB_SIZE = int(len(tokenizer.word_index) * 1.1)\n",
    "\n",
    "        # Load in Embeddings\n",
    "        # create a weight matrix for words in training docs\n",
    "        embedding_matrix = zeros((VOCAB_SIZE, 100))\n",
    "        for word, i in tokenizer.word_index.items():\n",
    "            embedding_vector = embeddings_index.get(word)\n",
    "            if embedding_vector is not None: # check that it is an actual word that we have embeddings for\n",
    "                embedding_matrix[i] = embedding_vector\n",
    "\n",
    "        model = make_lstm_classification_model()\n",
    "        history = model.fit(X_train, y_train,validation_split = 0.1, epochs=15, verbose=0)\n",
    "\n",
    "        y_prob = model.predict(X_test) \n",
    "        y_classes = y_prob.argmax(axis=-1)\n",
    "        ytest = [np.argmax(y, axis=None, out=None) for y in y_test]\n",
    "        # acc\n",
    "        acc = sklearn.metrics.accuracy_score(ytest, y_classes)\n",
    "        # precision \n",
    "        precision = sklearn.metrics.precision_score(ytest, y_classes)\n",
    "        # recall\n",
    "        recall = sklearn.metrics.recall_score(ytest, y_classes)\n",
    "        # auc\n",
    "        auc = sklearn.metrics.roc_auc_score(ytest, [y[1] for y in y_prob])\n",
    "\n",
    "        acclist.append(acc)\n",
    "        precisionlist.append(precision)\n",
    "        recalllist.append(recall)\n",
    "        auclist.append(auc)\n",
    "\n",
    "    print('acc: %f' % np.mean(acclist))\n",
    "    print('precision: %f' % np.mean(precisionlist))\n",
    "    print('recall: %f' % np.mean(recalllist))\n",
    "    print('auc: %f' % np.mean(auclist))"
   ]
  },
  {
   "cell_type": "code",
   "execution_count": null,
   "metadata": {},
   "outputs": [],
   "source": []
  },
  {
   "cell_type": "code",
   "execution_count": null,
   "metadata": {},
   "outputs": [],
   "source": []
  },
  {
   "cell_type": "code",
   "execution_count": null,
   "metadata": {},
   "outputs": [],
   "source": []
  },
  {
   "cell_type": "code",
   "execution_count": null,
   "metadata": {},
   "outputs": [],
   "source": []
  },
  {
   "cell_type": "code",
   "execution_count": null,
   "metadata": {},
   "outputs": [],
   "source": []
  },
  {
   "cell_type": "code",
   "execution_count": null,
   "metadata": {},
   "outputs": [],
   "source": []
  },
  {
   "cell_type": "code",
   "execution_count": null,
   "metadata": {},
   "outputs": [],
   "source": []
  }
 ],
 "metadata": {
  "kernelspec": {
   "display_name": "Python 3",
   "language": "python",
   "name": "python3"
  },
  "language_info": {
   "codemirror_mode": {
    "name": "ipython",
    "version": 3
   },
   "file_extension": ".py",
   "mimetype": "text/x-python",
   "name": "python",
   "nbconvert_exporter": "python",
   "pygments_lexer": "ipython3",
   "version": "3.6.10"
  }
 },
 "nbformat": 4,
 "nbformat_minor": 4
}
